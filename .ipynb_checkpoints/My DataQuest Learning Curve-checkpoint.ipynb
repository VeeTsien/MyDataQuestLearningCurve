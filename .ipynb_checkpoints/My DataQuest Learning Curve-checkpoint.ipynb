{
 "cells": [
  {
   "cell_type": "markdown",
   "metadata": {},
   "source": [
    "# My DataQuest Learning Curve \n",
    "---\n",
    "\n",
    "***The main motivation for this project is to help beginners and potential learners who want to get a better idea on how much time and work the Data Scientist path in Python on DataQuest is involved. Although keep in mind that the time and effort to finish an online course is highly relevant to personal situations.***\n",
    "<br><br>\n",
    "**Here are the questions that get answered in this project:**\n",
    "1. *How many days did it take for me to finish this path? (timespan, including intervals I didn't spend on studying)*\n",
    " * **175 days**. From June 19th, 2020 to December 11th, 2020. \n",
    " \n",
    " ---\n",
    "2. *What's my best learning steak and average learning streak?*\n",
    " * My best learning streak was **20 days**, and **6.6875 days on average**. From my personal experience, it's important to get into the groove and keep going. I a week-long break in October and it took another week to get back to the same learning efficiency as before.\n",
    " \n",
    " ---\n",
    "3. *How much time was spent in total?*\n",
    " * Total hours spent in finishing the path was **306.4 hours**. This means if I studied 24/7, the path could be finished in **roughly 13 days**. Instead, it took me **175 days**. I'm sure the robots are laughing at us humans.\n",
    "\n",
    " ---\n",
    "4. *How many hours did I spend on average in weeks I studied?*\n",
    "* Assuming I studied **5 days out of a week on average**, in the **24 weeks** I did study, I would have studied for **120 days**. This means I spent **3 hours a day** studying on Data Quest on average. That sounds about right, but note that it's a rough estimation. Plus I did spend quite some time in the community too that's not counted in this project.**\n",
    "\n",
    " ---\n",
    "5. *What's the average time spent to finish a mission?*\n",
    "* **111.43 minutes**, in other words close to **2 hours**. It looks like it takes a dauntingly long time to finish a mission. But this also includes time spent on guided projects, which are most definitely more time consuming than just learning missions. It's not uncommon to spend days on a guided project.\n",
    "\n",
    " ---\n",
    "6. *What are the speed bumps in the curriculum?*\n",
    "*  **Steps 2, 4, 5, 6** took more weeks than others to finish. Among them, **Step 2 and 6** have the most number of missions, **Step 2** also have the most number of guided projects. That makes **Step 4 and 5** the most time consuming steps of all. Between the two, **Step 4 is more time-consuming than Step 5**. Which reflects my memory pretty well. In Step 4, the time-consuming part was **SQL**, and in step 5, it was the courses on **probability**.\n",
    "\n",
    "---\n",
    "**This project is my personal learning progress analysis from finishing the [Data Scientist path in Python on DataQuest](https://app.dataquest.io/path/data-scientist). The path consists of *165 missions* in total, including *22 guided projects*. $^{[1]}$**\n",
    "<img src=\"full_path.png\">\n",
    "<br><br>\n",
    "**A little context about my personal learning situations:**\n",
    "* I started the Data Scientist path in Python on June 19th 2020 and finished it on December 11th 2020. Although I didn't spend a lot of time in the last two weeks, it's mostly spent on finishing two last guided projects(counts as 2 missions) and extracurricular projects. That's probably why I didn't get any learning progress emails after last of November.  \n",
    "* I used to be a digital marketing account manager and had close to none coding experiences. I learned Python fundamentals from a data scientist course on Udemy for a couple of weeks right before I decided to switch to DataQuest. \n",
    "* I finished [Andrew Ng's Machine Learning course on Coursera](https://www.coursera.org/learn/machine-learning?) a few weeks before starting the path. I learned basic Octave during the course.\n",
    "* I'm currently unemployed so I have a lot of spare time for learning. \n",
    "---\n",
    "\n",
    "\n",
    "**The progress data in this project comes from the weekly accomplishment email I get from DataQuest on Mondays if I made progress the previous week. It consists of:**\n",
    "\n",
    "* `date`: receiving date of the email\n",
    "* `missions_completed`: number of missions completed\n",
    "* `missions_increase_pct`: percentage increase/decrease compare to last week on number of missions completed\n",
    "* `minutes_spent`: minutes spent on learning \n",
    "* `minutes_increase_pct`: percentage increase/decrease compare to last week on minutes spent\n",
    "* `learning_streak(days)`: number of consecutive days spent on learning\n",
    "* `best_streak`: best learning streak\n",
    "<br><br>\n",
    "\n",
    "**The curriculum data in this project comes from the DataQuest dashboard for the Data Scientist path. It consists of 8 Steps, 32 courses and 165 missions in hierarchical order.**\n",
    "\n",
    "---\n",
    "[1] Although the dashboard shows **149 missions** and **31 projects**, after scraping the dashboard page, there are actually **165 missions**, including **22 guided projects**."
   ]
  },
  {
   "cell_type": "code",
   "execution_count": 49,
   "metadata": {},
   "outputs": [],
   "source": [
    "import pandas as pd\n",
    "import numpy as np\n",
    "import matplotlib.pyplot as plt\n",
    "import mailbox\n",
    "%matplotlib inline"
   ]
  },
  {
   "cell_type": "markdown",
   "metadata": {},
   "source": [
    "## Import downloaded emails, parse & format"
   ]
  },
  {
   "cell_type": "code",
   "execution_count": 50,
   "metadata": {},
   "outputs": [],
   "source": [
    "# Import and parse gmail content with mailbox\n",
    "mb = mailbox.mbox('dataquest learning curve.mbox')"
   ]
  },
  {
   "cell_type": "code",
   "execution_count": 51,
   "metadata": {},
   "outputs": [],
   "source": [
    "# Get email received dates and content\n",
    "message_timestamp = []\n",
    "content = []\n",
    "\n",
    "for message in mb.itervalues():\n",
    "    # Get email dates \n",
    "    dmessage = dict(message.items())\n",
    "    message_timestamp.append(dmessage['Date'])\n",
    "    \n",
    "    # Parse email content\n",
    "    if message.is_multipart():\n",
    "        c = b''.join(part.get_payload(decode=True) for part in message.get_payload()) # b for byte object\n",
    "    else:\n",
    "        c = message.get_payload(decode=True)\n",
    "    content.append(c.decode(\"utf-8\")) # decode byte object to string"
   ]
  },
  {
   "cell_type": "code",
   "execution_count": 52,
   "metadata": {
    "scrolled": false
   },
   "outputs": [
    {
     "data": {
      "text/plain": [
       "['Mon, 29 Jun 2020 13:10:01 +0000',\n",
       " 'Mon, 07 Sep 2020 13:10:02 +0000',\n",
       " 'Mon, 09 Nov 2020 14:10:12 +0000']"
      ]
     },
     "execution_count": 52,
     "metadata": {},
     "output_type": "execute_result"
    }
   ],
   "source": [
    "message_timestamp[:3]"
   ]
  },
  {
   "cell_type": "code",
   "execution_count": 53,
   "metadata": {},
   "outputs": [],
   "source": [
    "import datetime as dt\n",
    "\n",
    "# Format date to only %d, %m, %Y\n",
    "clean_date = []\n",
    "f = '%a, %d %b %Y %H:%M:%S +%f'\n",
    "\n",
    "for timestamp in message_timestamp:\n",
    "    date = dt.datetime.strptime(timestamp, f).strftime('%d, %m, %Y')\n",
    "    clean_date.append(date)"
   ]
  },
  {
   "cell_type": "code",
   "execution_count": 54,
   "metadata": {},
   "outputs": [
    {
     "data": {
      "text/plain": [
       "['29, 06, 2020',\n",
       " '07, 09, 2020',\n",
       " '09, 11, 2020',\n",
       " '06, 07, 2020',\n",
       " '12, 10, 2020',\n",
       " '05, 10, 2020',\n",
       " '22, 06, 2020',\n",
       " '02, 11, 2020',\n",
       " '10, 08, 2020',\n",
       " '30, 11, 2020',\n",
       " '17, 08, 2020',\n",
       " '13, 07, 2020',\n",
       " '26, 10, 2020',\n",
       " '23, 11, 2020',\n",
       " '20, 07, 2020',\n",
       " '27, 07, 2020']"
      ]
     },
     "execution_count": 54,
     "metadata": {},
     "output_type": "execute_result"
    }
   ],
   "source": [
    "clean_date"
   ]
  },
  {
   "cell_type": "code",
   "execution_count": 55,
   "metadata": {
    "scrolled": true
   },
   "outputs": [],
   "source": [
    "# Check out email content format \n",
    "content[0]; # Muted after use for neater formatting"
   ]
  },
  {
   "cell_type": "code",
   "execution_count": 56,
   "metadata": {},
   "outputs": [],
   "source": [
    "import re\n",
    "\n",
    "clean_content = []\n",
    "\n",
    "\n",
    "for c in content:\n",
    "    # Remove html from content\n",
    "    no_html = re.split(r'<!DOCTYPE', c)[0]\n",
    "    \n",
    "    # Split content by \\n \n",
    "    split_by_line = re.split(r'\\n', no_html)\n",
    "    \n",
    "    # Remove empty strings \n",
    "    clean = list(filter(lambda x: x!='', split_by_line))\n",
    "    clean_content.append(clean)"
   ]
  },
  {
   "cell_type": "code",
   "execution_count": 57,
   "metadata": {
    "scrolled": false
   },
   "outputs": [
    {
     "data": {
      "text/plain": [
       "[['Your Weekly Activity Summary',\n",
       "  'Hello there, Xuewei!',\n",
       "  \"Congratulations on a productive week! Here's a review of what you accomplished \",\n",
       "  'last week:',\n",
       "  'Missions Completed',\n",
       "  '10',\n",
       "  '+233%',\n",
       "  'Minutes spent learning',\n",
       "  '1,231',\n",
       "  '+492%',\n",
       "  'Current learning streak',\n",
       "  'Your best streak yet!',\n",
       "  '10 days',\n",
       "  'Missions to your next certificate',\n",
       "  '1',\n",
       "  'Ready to get a jump start on your progress this week? Dive in now and keep ',\n",
       "  'learning!',\n",
       "  'Keep Learning ',\n",
       "  'And remember, if you need any help or support, the Dataquest Community is here ',\n",
       "  'for you <https://community.dataquest.io/>.',\n",
       "  '\\xa0',\n",
       "  'Happy learning,',\n",
       "  'The Dataquest Team',\n",
       "  ' <https://www.linkedin.com/school/dataquest-io/>  ',\n",
       "  '<https://www.facebook.com/dataquestio/>  <https://twitter.com/dataquestio>  ',\n",
       "  '<https://www.instagram.com/dataquestio/> ',\n",
       "  'This email has been sent to veratsien@gmail.com. Click here to unsubscribe ',\n",
       "  '<http://links.iterable.com/e/encryptedUnsubscribe?_r=4a16705ff7784260b1b139ad7ac93ebf&_s=c2c77590069744bfbe73499231c7b94b&_t=UCcv9FN0Fb-AltN9OH5FCWH9hANYrXquroqHFVohNSqVFtZ9x229ROAX0YkMEiTt3e50hvsS2CCh5rtWCYwrlLJHBozupljmzVplBQSUyQuad6RvwhrfUq7JkOT5QBED6yhxoSKowKf21TGcb_HwuV1GK9WFy0P37t6nP3R_YWA%3D>',\n",
       "  '.',\n",
       "  'Dataquest • 548 Market St #73537 San Francisco, CA, 94104'],\n",
       " ['Your Weekly Activity Summary',\n",
       "  'Hello there, Xuewei!',\n",
       "  \"Congratulations on a productive week! Here's a review of what you accomplished \",\n",
       "  'last week:',\n",
       "  'Missions Completed',\n",
       "  '5',\n",
       "  '0%',\n",
       "  'Minutes spent learning',\n",
       "  '783',\n",
       "  '+25%',\n",
       "  'Current learning streak',\n",
       "  'Best: 20 days',\n",
       "  '7 days',\n",
       "  'Missions to your next certificate',\n",
       "  '3',\n",
       "  'Ready to get a jump start on your progress this week? Dive in now and keep ',\n",
       "  'learning!',\n",
       "  'Keep Learning ',\n",
       "  'And remember, if you need any help or support, the Dataquest Community is here ',\n",
       "  'for you <https://community.dataquest.io/>.',\n",
       "  '\\xa0',\n",
       "  'Happy learning,',\n",
       "  'The Dataquest Team',\n",
       "  ' <https://www.linkedin.com/school/dataquest-io/>  ',\n",
       "  '<https://www.facebook.com/dataquestio/>  <https://twitter.com/dataquestio>  ',\n",
       "  '<https://www.instagram.com/dataquestio/> ',\n",
       "  'This email has been sent to veratsien@gmail.com. Click here to unsubscribe ',\n",
       "  '<http://links.iterable.com/e/encryptedUnsubscribe?_r=4a16705ff7784260b1b139ad7ac93ebf&_s=b3ca5dceb03e4b1b949d9292ce8c65c7&_t=Pb0TYq_8iOkX30ke-GRBg5vo8hg15SeSWhwK4_qoapwJ7PI-GdWlCIqRe4MW48od9D_D_3xOSi6zeGcAtIYEaednkYycAWnJNLZiK_Xkq5u6YQUI9sf3LcD5nvZx65j7GCxNWafcBh_-1UtvFSKFT0mWQ04JeW85pnxVi1AguAA%3D>',\n",
       "  '.',\n",
       "  'Dataquest • 548 Market St #73537 San Francisco, CA, 94104']]"
      ]
     },
     "execution_count": 57,
     "metadata": {},
     "output_type": "execute_result"
    }
   ],
   "source": [
    "clean_content[:2]"
   ]
  },
  {
   "cell_type": "code",
   "execution_count": 58,
   "metadata": {},
   "outputs": [],
   "source": [
    "# Extract useful information from clean content \n",
    "missions_completed = []\n",
    "missions_change_pct = []\n",
    "minutes_spent = []\n",
    "minutes_change_pct = []\n",
    "learning_streak = []\n",
    "best_streak = []\n",
    "\n",
    "for text in clean_content:\n",
    "    missions_idx = text.index('Missions Completed')\n",
    "    missions_num = text[missions_idx + 1]\n",
    "    missions_pct = text[missions_idx + 2]\n",
    "    \n",
    "    minutes_idx = text.index('Minutes spent learning')\n",
    "    minutes = text[minutes_idx+1]\n",
    "    minutes_pct = text[minutes_idx+2]\n",
    "    \n",
    "    streak_idx = text.index('Current learning streak')\n",
    "    streak = text[streak_idx+2].split()[0]\n",
    "    best = text[streak_idx+1]\n",
    "    \n",
    "    missions_completed.append(missions_num)\n",
    "    missions_change_pct.append(missions_pct)\n",
    "    \n",
    "    minutes_spent.append(minutes)\n",
    "    minutes_change_pct.append(minutes_pct)\n",
    "    \n",
    "    learning_streak.append(streak)\n",
    "    best_streak.append(best)"
   ]
  },
  {
   "cell_type": "code",
   "execution_count": 59,
   "metadata": {},
   "outputs": [
    {
     "name": "stdout",
     "output_type": "stream",
     "text": [
      "16 16 16 16 16 16\n"
     ]
    }
   ],
   "source": [
    "# Santiy check \n",
    "print(len(missions_completed),\n",
    "      len(missions_change_pct),\n",
    "      len(minutes_spent),\n",
    "      len(minutes_change_pct),\n",
    "      len(learning_streak),\n",
    "     len(best_streak))"
   ]
  },
  {
   "cell_type": "code",
   "execution_count": 60,
   "metadata": {
    "scrolled": false
   },
   "outputs": [],
   "source": [
    "# Create a dataframe for email dates and content \n",
    "learning_curve = pd.DataFrame(data = {'date': clean_date,\n",
    "                                      'missions_completed': missions_completed,\n",
    "                                      'missions_change_pct':missions_change_pct,\n",
    "                                      'minutes_spent':minutes_spent,\n",
    "                                      'minutes_change_pct':minutes_change_pct,\n",
    "                                      'learning_streak(days)':learning_streak,\n",
    "                                        'best_streak':best_streak})"
   ]
  },
  {
   "cell_type": "code",
   "execution_count": 61,
   "metadata": {},
   "outputs": [
    {
     "data": {
      "text/html": [
       "<div>\n",
       "<style scoped>\n",
       "    .dataframe tbody tr th:only-of-type {\n",
       "        vertical-align: middle;\n",
       "    }\n",
       "\n",
       "    .dataframe tbody tr th {\n",
       "        vertical-align: top;\n",
       "    }\n",
       "\n",
       "    .dataframe thead th {\n",
       "        text-align: right;\n",
       "    }\n",
       "</style>\n",
       "<table border=\"1\" class=\"dataframe\">\n",
       "  <thead>\n",
       "    <tr style=\"text-align: right;\">\n",
       "      <th></th>\n",
       "      <th>date</th>\n",
       "      <th>missions_completed</th>\n",
       "      <th>missions_change_pct</th>\n",
       "      <th>minutes_spent</th>\n",
       "      <th>minutes_change_pct</th>\n",
       "      <th>learning_streak(days)</th>\n",
       "      <th>best_streak</th>\n",
       "    </tr>\n",
       "  </thead>\n",
       "  <tbody>\n",
       "    <tr>\n",
       "      <th>0</th>\n",
       "      <td>29, 06, 2020</td>\n",
       "      <td>10</td>\n",
       "      <td>+233%</td>\n",
       "      <td>1,231</td>\n",
       "      <td>+492%</td>\n",
       "      <td>10</td>\n",
       "      <td>Your best streak yet!</td>\n",
       "    </tr>\n",
       "    <tr>\n",
       "      <th>1</th>\n",
       "      <td>07, 09, 2020</td>\n",
       "      <td>5</td>\n",
       "      <td>0%</td>\n",
       "      <td>783</td>\n",
       "      <td>+25%</td>\n",
       "      <td>7</td>\n",
       "      <td>Best: 20 days</td>\n",
       "    </tr>\n",
       "    <tr>\n",
       "      <th>2</th>\n",
       "      <td>09, 11, 2020</td>\n",
       "      <td>5</td>\n",
       "      <td>-29%</td>\n",
       "      <td>1,268</td>\n",
       "      <td>-11%</td>\n",
       "      <td>13</td>\n",
       "      <td>Best: 20 days</td>\n",
       "    </tr>\n",
       "    <tr>\n",
       "      <th>3</th>\n",
       "      <td>06, 07, 2020</td>\n",
       "      <td>7</td>\n",
       "      <td>-12%</td>\n",
       "      <td>646</td>\n",
       "      <td>-43%</td>\n",
       "      <td>3</td>\n",
       "      <td>Best: 10 days</td>\n",
       "    </tr>\n",
       "    <tr>\n",
       "      <th>4</th>\n",
       "      <td>12, 10, 2020</td>\n",
       "      <td>13</td>\n",
       "      <td>+44%</td>\n",
       "      <td>1,341</td>\n",
       "      <td>+68%</td>\n",
       "      <td>3</td>\n",
       "      <td>Best: 20 days</td>\n",
       "    </tr>\n",
       "  </tbody>\n",
       "</table>\n",
       "</div>"
      ],
      "text/plain": [
       "           date missions_completed missions_change_pct minutes_spent  \\\n",
       "0  29, 06, 2020                 10               +233%         1,231   \n",
       "1  07, 09, 2020                  5                  0%           783   \n",
       "2  09, 11, 2020                  5                -29%         1,268   \n",
       "3  06, 07, 2020                  7                -12%           646   \n",
       "4  12, 10, 2020                 13                +44%         1,341   \n",
       "\n",
       "  minutes_change_pct learning_streak(days)            best_streak  \n",
       "0              +492%                    10  Your best streak yet!  \n",
       "1               +25%                     7          Best: 20 days  \n",
       "2               -11%                    13          Best: 20 days  \n",
       "3               -43%                     3          Best: 10 days  \n",
       "4               +68%                     3          Best: 20 days  "
      ]
     },
     "execution_count": 61,
     "metadata": {},
     "output_type": "execute_result"
    }
   ],
   "source": [
    "learning_curve.head()"
   ]
  },
  {
   "cell_type": "code",
   "execution_count": 62,
   "metadata": {},
   "outputs": [],
   "source": [
    "# Convert strings to proper dtypes \n",
    "learning_curve.date = pd.to_datetime(learning_curve.date, dayfirst = True)\n",
    "\n",
    "learning_curve.missions_change_pct = learning_curve.missions_change_pct.str.replace('%', '')\n",
    "learning_curve.minutes_change_pct = learning_curve.minutes_change_pct.str.replace('%', '')\n",
    "learning_curve.minutes_spent = learning_curve.minutes_spent.str.replace('\\D', '')\n",
    "\n",
    "int_cols = learning_curve.columns[1:-1]\n",
    "learning_curve[int_cols] = learning_curve[int_cols].astype(int)"
   ]
  },
  {
   "cell_type": "code",
   "execution_count": 63,
   "metadata": {},
   "outputs": [
    {
     "name": "stdout",
     "output_type": "stream",
     "text": [
      "<class 'pandas.core.frame.DataFrame'>\n",
      "RangeIndex: 16 entries, 0 to 15\n",
      "Data columns (total 7 columns):\n",
      " #   Column                 Non-Null Count  Dtype         \n",
      "---  ------                 --------------  -----         \n",
      " 0   date                   16 non-null     datetime64[ns]\n",
      " 1   missions_completed     16 non-null     int64         \n",
      " 2   missions_change_pct    16 non-null     int64         \n",
      " 3   minutes_spent          16 non-null     int64         \n",
      " 4   minutes_change_pct     16 non-null     int64         \n",
      " 5   learning_streak(days)  16 non-null     int64         \n",
      " 6   best_streak            16 non-null     object        \n",
      "dtypes: datetime64[ns](1), int64(5), object(1)\n",
      "memory usage: 1.0+ KB\n"
     ]
    }
   ],
   "source": [
    "learning_curve.info()"
   ]
  },
  {
   "cell_type": "code",
   "execution_count": 64,
   "metadata": {},
   "outputs": [],
   "source": [
    "learning_curve.sort_values(by = 'date', ignore_index = True, inplace = True)"
   ]
  },
  {
   "cell_type": "code",
   "execution_count": 65,
   "metadata": {
    "scrolled": false
   },
   "outputs": [
    {
     "data": {
      "text/html": [
       "<div>\n",
       "<style scoped>\n",
       "    .dataframe tbody tr th:only-of-type {\n",
       "        vertical-align: middle;\n",
       "    }\n",
       "\n",
       "    .dataframe tbody tr th {\n",
       "        vertical-align: top;\n",
       "    }\n",
       "\n",
       "    .dataframe thead th {\n",
       "        text-align: right;\n",
       "    }\n",
       "</style>\n",
       "<table border=\"1\" class=\"dataframe\">\n",
       "  <thead>\n",
       "    <tr style=\"text-align: right;\">\n",
       "      <th></th>\n",
       "      <th>date</th>\n",
       "      <th>missions_completed</th>\n",
       "      <th>missions_change_pct</th>\n",
       "      <th>minutes_spent</th>\n",
       "      <th>minutes_change_pct</th>\n",
       "      <th>learning_streak(days)</th>\n",
       "      <th>best_streak</th>\n",
       "    </tr>\n",
       "  </thead>\n",
       "  <tbody>\n",
       "    <tr>\n",
       "      <th>0</th>\n",
       "      <td>2020-06-22</td>\n",
       "      <td>5</td>\n",
       "      <td>100</td>\n",
       "      <td>277</td>\n",
       "      <td>100</td>\n",
       "      <td>3</td>\n",
       "      <td>Your best streak yet!</td>\n",
       "    </tr>\n",
       "    <tr>\n",
       "      <th>1</th>\n",
       "      <td>2020-06-29</td>\n",
       "      <td>10</td>\n",
       "      <td>233</td>\n",
       "      <td>1231</td>\n",
       "      <td>492</td>\n",
       "      <td>10</td>\n",
       "      <td>Your best streak yet!</td>\n",
       "    </tr>\n",
       "    <tr>\n",
       "      <th>2</th>\n",
       "      <td>2020-07-06</td>\n",
       "      <td>7</td>\n",
       "      <td>-12</td>\n",
       "      <td>646</td>\n",
       "      <td>-43</td>\n",
       "      <td>3</td>\n",
       "      <td>Best: 10 days</td>\n",
       "    </tr>\n",
       "    <tr>\n",
       "      <th>3</th>\n",
       "      <td>2020-07-13</td>\n",
       "      <td>7</td>\n",
       "      <td>17</td>\n",
       "      <td>843</td>\n",
       "      <td>58</td>\n",
       "      <td>10</td>\n",
       "      <td>Your best streak yet!</td>\n",
       "    </tr>\n",
       "    <tr>\n",
       "      <th>4</th>\n",
       "      <td>2020-07-20</td>\n",
       "      <td>6</td>\n",
       "      <td>-14</td>\n",
       "      <td>1133</td>\n",
       "      <td>48</td>\n",
       "      <td>6</td>\n",
       "      <td>Best: 10 days</td>\n",
       "    </tr>\n",
       "    <tr>\n",
       "      <th>5</th>\n",
       "      <td>2020-07-27</td>\n",
       "      <td>16</td>\n",
       "      <td>220</td>\n",
       "      <td>1369</td>\n",
       "      <td>45</td>\n",
       "      <td>6</td>\n",
       "      <td>Best: 10 days</td>\n",
       "    </tr>\n",
       "    <tr>\n",
       "      <th>6</th>\n",
       "      <td>2020-08-10</td>\n",
       "      <td>10</td>\n",
       "      <td>-9</td>\n",
       "      <td>1017</td>\n",
       "      <td>34</td>\n",
       "      <td>7</td>\n",
       "      <td>Best: 11 days</td>\n",
       "    </tr>\n",
       "    <tr>\n",
       "      <th>7</th>\n",
       "      <td>2020-08-17</td>\n",
       "      <td>9</td>\n",
       "      <td>29</td>\n",
       "      <td>837</td>\n",
       "      <td>-6</td>\n",
       "      <td>14</td>\n",
       "      <td>Your best streak yet!</td>\n",
       "    </tr>\n",
       "    <tr>\n",
       "      <th>8</th>\n",
       "      <td>2020-09-07</td>\n",
       "      <td>5</td>\n",
       "      <td>0</td>\n",
       "      <td>783</td>\n",
       "      <td>25</td>\n",
       "      <td>7</td>\n",
       "      <td>Best: 20 days</td>\n",
       "    </tr>\n",
       "    <tr>\n",
       "      <th>9</th>\n",
       "      <td>2020-10-05</td>\n",
       "      <td>9</td>\n",
       "      <td>29</td>\n",
       "      <td>1058</td>\n",
       "      <td>32</td>\n",
       "      <td>3</td>\n",
       "      <td>Best: 20 days</td>\n",
       "    </tr>\n",
       "    <tr>\n",
       "      <th>10</th>\n",
       "      <td>2020-10-12</td>\n",
       "      <td>13</td>\n",
       "      <td>44</td>\n",
       "      <td>1341</td>\n",
       "      <td>68</td>\n",
       "      <td>3</td>\n",
       "      <td>Best: 20 days</td>\n",
       "    </tr>\n",
       "    <tr>\n",
       "      <th>11</th>\n",
       "      <td>2020-10-26</td>\n",
       "      <td>12</td>\n",
       "      <td>500</td>\n",
       "      <td>1175</td>\n",
       "      <td>263</td>\n",
       "      <td>6</td>\n",
       "      <td>Best: 20 days</td>\n",
       "    </tr>\n",
       "    <tr>\n",
       "      <th>12</th>\n",
       "      <td>2020-11-02</td>\n",
       "      <td>7</td>\n",
       "      <td>-22</td>\n",
       "      <td>1817</td>\n",
       "      <td>103</td>\n",
       "      <td>6</td>\n",
       "      <td>Best: 20 days</td>\n",
       "    </tr>\n",
       "    <tr>\n",
       "      <th>13</th>\n",
       "      <td>2020-11-09</td>\n",
       "      <td>5</td>\n",
       "      <td>-29</td>\n",
       "      <td>1268</td>\n",
       "      <td>-11</td>\n",
       "      <td>13</td>\n",
       "      <td>Best: 20 days</td>\n",
       "    </tr>\n",
       "    <tr>\n",
       "      <th>14</th>\n",
       "      <td>2020-11-23</td>\n",
       "      <td>16</td>\n",
       "      <td>60</td>\n",
       "      <td>690</td>\n",
       "      <td>9</td>\n",
       "      <td>7</td>\n",
       "      <td>Best: 20 days</td>\n",
       "    </tr>\n",
       "    <tr>\n",
       "      <th>15</th>\n",
       "      <td>2020-11-30</td>\n",
       "      <td>5</td>\n",
       "      <td>-69</td>\n",
       "      <td>339</td>\n",
       "      <td>-51</td>\n",
       "      <td>3</td>\n",
       "      <td>Best: 20 days</td>\n",
       "    </tr>\n",
       "  </tbody>\n",
       "</table>\n",
       "</div>"
      ],
      "text/plain": [
       "         date  missions_completed  missions_change_pct  minutes_spent  \\\n",
       "0  2020-06-22                   5                  100            277   \n",
       "1  2020-06-29                  10                  233           1231   \n",
       "2  2020-07-06                   7                  -12            646   \n",
       "3  2020-07-13                   7                   17            843   \n",
       "4  2020-07-20                   6                  -14           1133   \n",
       "5  2020-07-27                  16                  220           1369   \n",
       "6  2020-08-10                  10                   -9           1017   \n",
       "7  2020-08-17                   9                   29            837   \n",
       "8  2020-09-07                   5                    0            783   \n",
       "9  2020-10-05                   9                   29           1058   \n",
       "10 2020-10-12                  13                   44           1341   \n",
       "11 2020-10-26                  12                  500           1175   \n",
       "12 2020-11-02                   7                  -22           1817   \n",
       "13 2020-11-09                   5                  -29           1268   \n",
       "14 2020-11-23                  16                   60            690   \n",
       "15 2020-11-30                   5                  -69            339   \n",
       "\n",
       "    minutes_change_pct  learning_streak(days)            best_streak  \n",
       "0                  100                      3  Your best streak yet!  \n",
       "1                  492                     10  Your best streak yet!  \n",
       "2                  -43                      3          Best: 10 days  \n",
       "3                   58                     10  Your best streak yet!  \n",
       "4                   48                      6          Best: 10 days  \n",
       "5                   45                      6          Best: 10 days  \n",
       "6                   34                      7          Best: 11 days  \n",
       "7                   -6                     14  Your best streak yet!  \n",
       "8                   25                      7          Best: 20 days  \n",
       "9                   32                      3          Best: 20 days  \n",
       "10                  68                      3          Best: 20 days  \n",
       "11                 263                      6          Best: 20 days  \n",
       "12                 103                      6          Best: 20 days  \n",
       "13                 -11                     13          Best: 20 days  \n",
       "14                   9                      7          Best: 20 days  \n",
       "15                 -51                      3          Best: 20 days  "
      ]
     },
     "execution_count": 65,
     "metadata": {},
     "output_type": "execute_result"
    }
   ],
   "source": [
    "learning_curve"
   ]
  },
  {
   "cell_type": "markdown",
   "metadata": {},
   "source": [
    "## Scrape Data Quest data scientist path page & get the curriclum"
   ]
  },
  {
   "cell_type": "markdown",
   "metadata": {},
   "source": [
    "### The page to scrape is as below:\n",
    "<img src=\"dashboard.png\">\n",
    "\n",
    "* First, we need to log in to DataQuest to access the dashboard\n",
    "* Then click on each step, then dropdown in each course to scrape the name of missions in each step\n",
    "* The login and clicking on steps will be automated using Chromedriver and Selenium\n",
    "* The code for scraping is commented out. My account & password is in pseudo-code"
   ]
  },
  {
   "cell_type": "code",
   "execution_count": 66,
   "metadata": {},
   "outputs": [],
   "source": [
    "# from selenium import webdriver"
   ]
  },
  {
   "cell_type": "code",
   "execution_count": 67,
   "metadata": {},
   "outputs": [],
   "source": [
    "# # Log into DataQuest & jump to the Data Scientist path page\n",
    "# url = 'https://app.dataquest.io/dashboard'\n",
    "# driver = webdriver.Chrome('/Users/veratsien/tools/chromedriver')\n",
    "\n",
    "# # Login with email & password\n",
    "# driver.get(url)\n",
    "# email = driver.find_element_by_name('email')\n",
    "# email.clear()\n",
    "# email.send_keys('your email')\n",
    "\n",
    "# pswd = driver.find_element_by_name ('password')\n",
    "# pswd.clear()\n",
    "# pswd.send_keys('your password')\n",
    "\n",
    "# driver.find_element_by_css_selector('button[type=submit]').click()"
   ]
  },
  {
   "cell_type": "code",
   "execution_count": 74,
   "metadata": {},
   "outputs": [],
   "source": [
    "# # Locate paths \n",
    "# paths = driver.find_elements_by_class_name('PathStepTab__root-compact')"
   ]
  },
  {
   "cell_type": "code",
   "execution_count": 75,
   "metadata": {
    "scrolled": false
   },
   "outputs": [],
   "source": [
    "# # Initialize a curriculum dictionary \n",
    "# curriculum = {}\n",
    "\n",
    "# # Click each step and dropdown to access missions\n",
    "# for i in range(len(paths)):\n",
    "#     # Avoid stale element error by skipping click on starting point\n",
    "#     if i == 0:\n",
    "#         path = paths[i]\n",
    "#     else:\n",
    "#         path = paths[i]\n",
    "#         path.click()\n",
    "    \n",
    "#     path_name = path.text\n",
    "    \n",
    "#     # Find & expand courses by clicking dropdowns in each step\n",
    "#     dropdown = driver.find_elements_by_class_name('DqCollapse__left')\n",
    "    \n",
    "#     # Initialize a courses dictionary\n",
    "#     courses = {}\n",
    "    \n",
    "#     # Loop through and click on each course in current step\n",
    "#     for j in range(len(dropdown)):\n",
    "#         course = dropdown[j]\n",
    "#         course.click()\n",
    "#         course_name = course.find_element_by_tag_name('a').text\n",
    "        \n",
    "#         # Find missions list in each course\n",
    "#         missions = driver.find_element_by_class_name('dq-list-none').find_elements_by_tag_name('li')\n",
    "        \n",
    "#         # Create a list containing missions in each course\n",
    "#         mission_list = [mission.text for mission in missions]\n",
    "        \n",
    "#         # Create key-value pair of current course and it's missions\n",
    "#         courses[course_name] = mission_list\n",
    "        \n",
    "#         # Close current dropdown\n",
    "#         course.click()\n",
    "        \n",
    "#     # Create key-value pair of current path and it's courses    \n",
    "#     curriculum[path_name] = courses      "
   ]
  },
  {
   "cell_type": "code",
   "execution_count": 76,
   "metadata": {
    "scrolled": true
   },
   "outputs": [
    {
     "name": "stdout",
     "output_type": "stream",
     "text": [
      "Stored 'curriculum' (dict)\n"
     ]
    }
   ],
   "source": [
    "%store curriculum\n",
    "%store -r curriculum\n",
    "curriculum; # Muted after use for neater formatting"
   ]
  },
  {
   "cell_type": "code",
   "execution_count": 77,
   "metadata": {
    "scrolled": false
   },
   "outputs": [],
   "source": [
    "# Create multi-index with steps & courses\n",
    "step_level = []\n",
    "course_level = []\n",
    "all_missions = []\n",
    "for step, courses in curriculum.items():\n",
    "    for course, missions in courses.items():\n",
    "        for mission in missions:\n",
    "            step_level.append(step)\n",
    "            course_level.append(course)\n",
    "            all_missions.append(mission)"
   ]
  },
  {
   "cell_type": "code",
   "execution_count": 78,
   "metadata": {
    "scrolled": false
   },
   "outputs": [
    {
     "data": {
      "text/plain": [
       "(165, 165)"
      ]
     },
     "execution_count": 78,
     "metadata": {},
     "output_type": "execute_result"
    }
   ],
   "source": [
    "# Sanity check\n",
    "len(step_level), len(course_level)"
   ]
  },
  {
   "cell_type": "code",
   "execution_count": 79,
   "metadata": {},
   "outputs": [],
   "source": [
    "# Create multi-index\n",
    "idx_tuple = list(zip(step_level, course_level))\n",
    "idx = pd.MultiIndex.from_tuples(idx_tuple)"
   ]
  },
  {
   "cell_type": "code",
   "execution_count": 80,
   "metadata": {},
   "outputs": [],
   "source": [
    "# Create a dataframe from the curriculum data\n",
    "ds_curriculum = pd.DataFrame(all_missions, index = idx, columns=['mission'])"
   ]
  },
  {
   "cell_type": "code",
   "execution_count": 81,
   "metadata": {},
   "outputs": [],
   "source": [
    "# Create a column that indicates the natural order of each mission\n",
    "ds_curriculum['natural_ord'] = range(1, len(ds_curriculum)+1)"
   ]
  },
  {
   "cell_type": "code",
   "execution_count": 82,
   "metadata": {
    "scrolled": false
   },
   "outputs": [
    {
     "data": {
      "text/html": [
       "<div>\n",
       "<style scoped>\n",
       "    .dataframe tbody tr th:only-of-type {\n",
       "        vertical-align: middle;\n",
       "    }\n",
       "\n",
       "    .dataframe tbody tr th {\n",
       "        vertical-align: top;\n",
       "    }\n",
       "\n",
       "    .dataframe thead th {\n",
       "        text-align: right;\n",
       "    }\n",
       "</style>\n",
       "<table border=\"1\" class=\"dataframe\">\n",
       "  <thead>\n",
       "    <tr style=\"text-align: right;\">\n",
       "      <th></th>\n",
       "      <th></th>\n",
       "      <th>mission</th>\n",
       "      <th>natural_ord</th>\n",
       "    </tr>\n",
       "  </thead>\n",
       "  <tbody>\n",
       "    <tr>\n",
       "      <th rowspan=\"14\" valign=\"top\">Step 1</th>\n",
       "      <th>Python for Data Science: Fundamentals</th>\n",
       "      <td>Programming in Python</td>\n",
       "      <td>1</td>\n",
       "    </tr>\n",
       "    <tr>\n",
       "      <th>Python for Data Science: Fundamentals</th>\n",
       "      <td>Variables and Data Types</td>\n",
       "      <td>2</td>\n",
       "    </tr>\n",
       "    <tr>\n",
       "      <th>Python for Data Science: Fundamentals</th>\n",
       "      <td>Lists and For Loops</td>\n",
       "      <td>3</td>\n",
       "    </tr>\n",
       "    <tr>\n",
       "      <th>Python for Data Science: Fundamentals</th>\n",
       "      <td>Conditional Statements</td>\n",
       "      <td>4</td>\n",
       "    </tr>\n",
       "    <tr>\n",
       "      <th>Python for Data Science: Fundamentals</th>\n",
       "      <td>Dictionaries and Frequency Tables</td>\n",
       "      <td>5</td>\n",
       "    </tr>\n",
       "    <tr>\n",
       "      <th>Python for Data Science: Fundamentals</th>\n",
       "      <td>Functions: Fundamentals</td>\n",
       "      <td>6</td>\n",
       "    </tr>\n",
       "    <tr>\n",
       "      <th>Python for Data Science: Fundamentals</th>\n",
       "      <td>Functions: Intermediate</td>\n",
       "      <td>7</td>\n",
       "    </tr>\n",
       "    <tr>\n",
       "      <th>Python for Data Science: Fundamentals</th>\n",
       "      <td>Project: Learn and Install Jupyter Notebook</td>\n",
       "      <td>8</td>\n",
       "    </tr>\n",
       "    <tr>\n",
       "      <th>Python for Data Science: Fundamentals</th>\n",
       "      <td>Guided Project: Profitable App Profiles for th...</td>\n",
       "      <td>9</td>\n",
       "    </tr>\n",
       "    <tr>\n",
       "      <th>Python for Data Science: Intermediate</th>\n",
       "      <td>Cleaning and Preparing Data in Python</td>\n",
       "      <td>10</td>\n",
       "    </tr>\n",
       "    <tr>\n",
       "      <th>Python for Data Science: Intermediate</th>\n",
       "      <td>Python Data Analysis Basics</td>\n",
       "      <td>11</td>\n",
       "    </tr>\n",
       "    <tr>\n",
       "      <th>Python for Data Science: Intermediate</th>\n",
       "      <td>Object-Oriented Python</td>\n",
       "      <td>12</td>\n",
       "    </tr>\n",
       "    <tr>\n",
       "      <th>Python for Data Science: Intermediate</th>\n",
       "      <td>Working with Dates and Times in Python</td>\n",
       "      <td>13</td>\n",
       "    </tr>\n",
       "    <tr>\n",
       "      <th>Python for Data Science: Intermediate</th>\n",
       "      <td>Guided Project: Exploring Hacker News Posts</td>\n",
       "      <td>14</td>\n",
       "    </tr>\n",
       "    <tr>\n",
       "      <th rowspan=\"6\" valign=\"top\">Step 2</th>\n",
       "      <th>Pandas and NumPy Fundamentals</th>\n",
       "      <td>Introduction to NumPy</td>\n",
       "      <td>15</td>\n",
       "    </tr>\n",
       "    <tr>\n",
       "      <th>Pandas and NumPy Fundamentals</th>\n",
       "      <td>Boolean Indexing with NumPy</td>\n",
       "      <td>16</td>\n",
       "    </tr>\n",
       "    <tr>\n",
       "      <th>Pandas and NumPy Fundamentals</th>\n",
       "      <td>Introduction to pandas</td>\n",
       "      <td>17</td>\n",
       "    </tr>\n",
       "    <tr>\n",
       "      <th>Pandas and NumPy Fundamentals</th>\n",
       "      <td>Exploring Data with pandas: Fundamentals</td>\n",
       "      <td>18</td>\n",
       "    </tr>\n",
       "    <tr>\n",
       "      <th>Pandas and NumPy Fundamentals</th>\n",
       "      <td>Exploring Data with pandas: Intermediate</td>\n",
       "      <td>19</td>\n",
       "    </tr>\n",
       "    <tr>\n",
       "      <th>Pandas and NumPy Fundamentals</th>\n",
       "      <td>Data Cleaning Basics</td>\n",
       "      <td>20</td>\n",
       "    </tr>\n",
       "  </tbody>\n",
       "</table>\n",
       "</div>"
      ],
      "text/plain": [
       "                                                                                        mission  \\\n",
       "Step 1 Python for Data Science: Fundamentals                              Programming in Python   \n",
       "       Python for Data Science: Fundamentals                           Variables and Data Types   \n",
       "       Python for Data Science: Fundamentals                                Lists and For Loops   \n",
       "       Python for Data Science: Fundamentals                             Conditional Statements   \n",
       "       Python for Data Science: Fundamentals                  Dictionaries and Frequency Tables   \n",
       "       Python for Data Science: Fundamentals                            Functions: Fundamentals   \n",
       "       Python for Data Science: Fundamentals                            Functions: Intermediate   \n",
       "       Python for Data Science: Fundamentals        Project: Learn and Install Jupyter Notebook   \n",
       "       Python for Data Science: Fundamentals  Guided Project: Profitable App Profiles for th...   \n",
       "       Python for Data Science: Intermediate              Cleaning and Preparing Data in Python   \n",
       "       Python for Data Science: Intermediate                        Python Data Analysis Basics   \n",
       "       Python for Data Science: Intermediate                             Object-Oriented Python   \n",
       "       Python for Data Science: Intermediate             Working with Dates and Times in Python   \n",
       "       Python for Data Science: Intermediate        Guided Project: Exploring Hacker News Posts   \n",
       "Step 2 Pandas and NumPy Fundamentals                                      Introduction to NumPy   \n",
       "       Pandas and NumPy Fundamentals                                Boolean Indexing with NumPy   \n",
       "       Pandas and NumPy Fundamentals                                     Introduction to pandas   \n",
       "       Pandas and NumPy Fundamentals                   Exploring Data with pandas: Fundamentals   \n",
       "       Pandas and NumPy Fundamentals                   Exploring Data with pandas: Intermediate   \n",
       "       Pandas and NumPy Fundamentals                                       Data Cleaning Basics   \n",
       "\n",
       "                                              natural_ord  \n",
       "Step 1 Python for Data Science: Fundamentals            1  \n",
       "       Python for Data Science: Fundamentals            2  \n",
       "       Python for Data Science: Fundamentals            3  \n",
       "       Python for Data Science: Fundamentals            4  \n",
       "       Python for Data Science: Fundamentals            5  \n",
       "       Python for Data Science: Fundamentals            6  \n",
       "       Python for Data Science: Fundamentals            7  \n",
       "       Python for Data Science: Fundamentals            8  \n",
       "       Python for Data Science: Fundamentals            9  \n",
       "       Python for Data Science: Intermediate           10  \n",
       "       Python for Data Science: Intermediate           11  \n",
       "       Python for Data Science: Intermediate           12  \n",
       "       Python for Data Science: Intermediate           13  \n",
       "       Python for Data Science: Intermediate           14  \n",
       "Step 2 Pandas and NumPy Fundamentals                   15  \n",
       "       Pandas and NumPy Fundamentals                   16  \n",
       "       Pandas and NumPy Fundamentals                   17  \n",
       "       Pandas and NumPy Fundamentals                   18  \n",
       "       Pandas and NumPy Fundamentals                   19  \n",
       "       Pandas and NumPy Fundamentals                   20  "
      ]
     },
     "execution_count": 82,
     "metadata": {},
     "output_type": "execute_result"
    }
   ],
   "source": [
    "ds_curriculum.head(20)"
   ]
  },
  {
   "cell_type": "code",
   "execution_count": 83,
   "metadata": {},
   "outputs": [
    {
     "name": "stdout",
     "output_type": "stream",
     "text": [
      "The Data Scientist path contains 22 guided projects.\n"
     ]
    },
    {
     "data": {
      "text/html": [
       "<div>\n",
       "<style scoped>\n",
       "    .dataframe tbody tr th:only-of-type {\n",
       "        vertical-align: middle;\n",
       "    }\n",
       "\n",
       "    .dataframe tbody tr th {\n",
       "        vertical-align: top;\n",
       "    }\n",
       "\n",
       "    .dataframe thead th {\n",
       "        text-align: right;\n",
       "    }\n",
       "</style>\n",
       "<table border=\"1\" class=\"dataframe\">\n",
       "  <thead>\n",
       "    <tr style=\"text-align: right;\">\n",
       "      <th></th>\n",
       "      <th></th>\n",
       "      <th>mission</th>\n",
       "      <th>natural_ord</th>\n",
       "    </tr>\n",
       "  </thead>\n",
       "  <tbody>\n",
       "    <tr>\n",
       "      <th rowspan=\"2\" valign=\"top\">Step 1</th>\n",
       "      <th>Python for Data Science: Fundamentals</th>\n",
       "      <td>Guided Project: Profitable App Profiles for th...</td>\n",
       "      <td>9</td>\n",
       "    </tr>\n",
       "    <tr>\n",
       "      <th>Python for Data Science: Intermediate</th>\n",
       "      <td>Guided Project: Exploring Hacker News Posts</td>\n",
       "      <td>14</td>\n",
       "    </tr>\n",
       "    <tr>\n",
       "      <th rowspan=\"6\" valign=\"top\">Step 2</th>\n",
       "      <th>Pandas and NumPy Fundamentals</th>\n",
       "      <td>Guided Project: Exploring Ebay Car Sales Data</td>\n",
       "      <td>21</td>\n",
       "    </tr>\n",
       "    <tr>\n",
       "      <th>Exploratory Data Visualization</th>\n",
       "      <td>Guided Project: Visualizing Earnings Based On ...</td>\n",
       "      <td>26</td>\n",
       "    </tr>\n",
       "    <tr>\n",
       "      <th>Storytelling Through Data Visualization</th>\n",
       "      <td>Guided Project: Visualizing The Gender Gap In ...</td>\n",
       "      <td>29</td>\n",
       "    </tr>\n",
       "    <tr>\n",
       "      <th>Data Cleaning and Analysis</th>\n",
       "      <td>Guided Project: Clean And Analyze Employee Exi...</td>\n",
       "      <td>36</td>\n",
       "    </tr>\n",
       "    <tr>\n",
       "      <th>Data Cleaning Project Walkthrough</th>\n",
       "      <td>Guided Project: Analyzing NYC High School Data</td>\n",
       "      <td>44</td>\n",
       "    </tr>\n",
       "    <tr>\n",
       "      <th>Data Cleaning Project Walkthrough</th>\n",
       "      <td>Guided Project: Star Wars Survey</td>\n",
       "      <td>46</td>\n",
       "    </tr>\n",
       "    <tr>\n",
       "      <th rowspan=\"3\" valign=\"top\">Step 4</th>\n",
       "      <th>SQL Fundamentals</th>\n",
       "      <td>Guided Project: Analyzing CIA Factbook Data Us...</td>\n",
       "      <td>61</td>\n",
       "    </tr>\n",
       "    <tr>\n",
       "      <th>Intermediate SQL for Data Analysis</th>\n",
       "      <td>Guided Project: Answering Business Questions u...</td>\n",
       "      <td>65</td>\n",
       "    </tr>\n",
       "    <tr>\n",
       "      <th>Data Analysis in Business</th>\n",
       "      <td>Guided Project: Popular Data Science Questions</td>\n",
       "      <td>75</td>\n",
       "    </tr>\n",
       "    <tr>\n",
       "      <th rowspan=\"5\" valign=\"top\">Step 5</th>\n",
       "      <th>Statistics Fundamentals</th>\n",
       "      <td>Guided Project: Investigating Fandango Movie R...</td>\n",
       "      <td>81</td>\n",
       "    </tr>\n",
       "    <tr>\n",
       "      <th>Statistics Intermediate: Averages and Variability</th>\n",
       "      <td>Guided Project: Finding the Best Markets to Ad...</td>\n",
       "      <td>87</td>\n",
       "    </tr>\n",
       "    <tr>\n",
       "      <th>Probability: Fundamentals</th>\n",
       "      <td>Guided Project: Mobile App for Lottery Addiction</td>\n",
       "      <td>92</td>\n",
       "    </tr>\n",
       "    <tr>\n",
       "      <th>Conditional Probability</th>\n",
       "      <td>Guided Project: Building a Spam Filter with Na...</td>\n",
       "      <td>97</td>\n",
       "    </tr>\n",
       "    <tr>\n",
       "      <th>Hypothesis Testing: Fundamentals</th>\n",
       "      <td>Guided Project: Winning Jeopardy</td>\n",
       "      <td>101</td>\n",
       "    </tr>\n",
       "    <tr>\n",
       "      <th rowspan=\"4\" valign=\"top\">Step 6</th>\n",
       "      <th>Machine Learning Fundamentals</th>\n",
       "      <td>Guided Project: Predicting Car Prices</td>\n",
       "      <td>107</td>\n",
       "    </tr>\n",
       "    <tr>\n",
       "      <th>Linear Regression For Machine Learning</th>\n",
       "      <td>Guided Project: Predicting House Sale Prices</td>\n",
       "      <td>120</td>\n",
       "    </tr>\n",
       "    <tr>\n",
       "      <th>Machine Learning in Python: Intermediate</th>\n",
       "      <td>Guided Project: Predicting the stock market</td>\n",
       "      <td>127</td>\n",
       "    </tr>\n",
       "    <tr>\n",
       "      <th>Decision Trees</th>\n",
       "      <td>Guided Project: Predicting Bike Rentals</td>\n",
       "      <td>132</td>\n",
       "    </tr>\n",
       "    <tr>\n",
       "      <th rowspan=\"2\" valign=\"top\">Step 7</th>\n",
       "      <th>Deep Learning Fundamentals</th>\n",
       "      <td>Guided Project: Building A Handwritten Digits ...</td>\n",
       "      <td>136</td>\n",
       "    </tr>\n",
       "    <tr>\n",
       "      <th>Kaggle Fundamentals</th>\n",
       "      <td>Guided Project: Creating a Kaggle Workflow</td>\n",
       "      <td>143</td>\n",
       "    </tr>\n",
       "  </tbody>\n",
       "</table>\n",
       "</div>"
      ],
      "text/plain": [
       "                                                                                                    mission  \\\n",
       "Step 1 Python for Data Science: Fundamentals              Guided Project: Profitable App Profiles for th...   \n",
       "       Python for Data Science: Intermediate                    Guided Project: Exploring Hacker News Posts   \n",
       "Step 2 Pandas and NumPy Fundamentals                          Guided Project: Exploring Ebay Car Sales Data   \n",
       "       Exploratory Data Visualization                     Guided Project: Visualizing Earnings Based On ...   \n",
       "       Storytelling Through Data Visualization            Guided Project: Visualizing The Gender Gap In ...   \n",
       "       Data Cleaning and Analysis                         Guided Project: Clean And Analyze Employee Exi...   \n",
       "       Data Cleaning Project Walkthrough                     Guided Project: Analyzing NYC High School Data   \n",
       "       Data Cleaning Project Walkthrough                                   Guided Project: Star Wars Survey   \n",
       "Step 4 SQL Fundamentals                                   Guided Project: Analyzing CIA Factbook Data Us...   \n",
       "       Intermediate SQL for Data Analysis                 Guided Project: Answering Business Questions u...   \n",
       "       Data Analysis in Business                             Guided Project: Popular Data Science Questions   \n",
       "Step 5 Statistics Fundamentals                            Guided Project: Investigating Fandango Movie R...   \n",
       "       Statistics Intermediate: Averages and Variability  Guided Project: Finding the Best Markets to Ad...   \n",
       "       Probability: Fundamentals                           Guided Project: Mobile App for Lottery Addiction   \n",
       "       Conditional Probability                            Guided Project: Building a Spam Filter with Na...   \n",
       "       Hypothesis Testing: Fundamentals                                    Guided Project: Winning Jeopardy   \n",
       "Step 6 Machine Learning Fundamentals                                  Guided Project: Predicting Car Prices   \n",
       "       Linear Regression For Machine Learning                  Guided Project: Predicting House Sale Prices   \n",
       "       Machine Learning in Python: Intermediate                 Guided Project: Predicting the stock market   \n",
       "       Decision Trees                                               Guided Project: Predicting Bike Rentals   \n",
       "Step 7 Deep Learning Fundamentals                         Guided Project: Building A Handwritten Digits ...   \n",
       "       Kaggle Fundamentals                                       Guided Project: Creating a Kaggle Workflow   \n",
       "\n",
       "                                                          natural_ord  \n",
       "Step 1 Python for Data Science: Fundamentals                        9  \n",
       "       Python for Data Science: Intermediate                       14  \n",
       "Step 2 Pandas and NumPy Fundamentals                               21  \n",
       "       Exploratory Data Visualization                              26  \n",
       "       Storytelling Through Data Visualization                     29  \n",
       "       Data Cleaning and Analysis                                  36  \n",
       "       Data Cleaning Project Walkthrough                           44  \n",
       "       Data Cleaning Project Walkthrough                           46  \n",
       "Step 4 SQL Fundamentals                                            61  \n",
       "       Intermediate SQL for Data Analysis                          65  \n",
       "       Data Analysis in Business                                   75  \n",
       "Step 5 Statistics Fundamentals                                     81  \n",
       "       Statistics Intermediate: Averages and Variability           87  \n",
       "       Probability: Fundamentals                                   92  \n",
       "       Conditional Probability                                     97  \n",
       "       Hypothesis Testing: Fundamentals                           101  \n",
       "Step 6 Machine Learning Fundamentals                              107  \n",
       "       Linear Regression For Machine Learning                     120  \n",
       "       Machine Learning in Python: Intermediate                   127  \n",
       "       Decision Trees                                             132  \n",
       "Step 7 Deep Learning Fundamentals                                 136  \n",
       "       Kaggle Fundamentals                                        143  "
      ]
     },
     "execution_count": 83,
     "metadata": {},
     "output_type": "execute_result"
    }
   ],
   "source": [
    "# Check out the guided projects in the curriculum\n",
    "projects = ds_curriculum[ds_curriculum.mission.str.contains('Guided Project')]\n",
    "projects_num = len(projects)\n",
    "print('The Data Scientist path contains', projects_num, 'guided projects.')\n",
    "projects"
   ]
  },
  {
   "cell_type": "markdown",
   "metadata": {},
   "source": [
    "## Check data integrity\n",
    "---\n",
    "From a quick look at the learning_curve dataframe, the best streak was 20 days since 2020-09-07, but it didn't appear in `learnining_streak(days)`. This indicates we probably have missing data.  "
   ]
  },
  {
   "cell_type": "code",
   "execution_count": 84,
   "metadata": {},
   "outputs": [
    {
     "data": {
      "text/html": [
       "<div>\n",
       "<style scoped>\n",
       "    .dataframe tbody tr th:only-of-type {\n",
       "        vertical-align: middle;\n",
       "    }\n",
       "\n",
       "    .dataframe tbody tr th {\n",
       "        vertical-align: top;\n",
       "    }\n",
       "\n",
       "    .dataframe thead th {\n",
       "        text-align: right;\n",
       "    }\n",
       "</style>\n",
       "<table border=\"1\" class=\"dataframe\">\n",
       "  <thead>\n",
       "    <tr style=\"text-align: right;\">\n",
       "      <th></th>\n",
       "      <th>date</th>\n",
       "      <th>missions_completed</th>\n",
       "      <th>missions_change_pct</th>\n",
       "      <th>minutes_spent</th>\n",
       "      <th>minutes_change_pct</th>\n",
       "      <th>learning_streak(days)</th>\n",
       "      <th>best_streak</th>\n",
       "    </tr>\n",
       "  </thead>\n",
       "  <tbody>\n",
       "    <tr>\n",
       "      <th>0</th>\n",
       "      <td>2020-06-22</td>\n",
       "      <td>5</td>\n",
       "      <td>100</td>\n",
       "      <td>277</td>\n",
       "      <td>100</td>\n",
       "      <td>3</td>\n",
       "      <td>Your best streak yet!</td>\n",
       "    </tr>\n",
       "    <tr>\n",
       "      <th>1</th>\n",
       "      <td>2020-06-29</td>\n",
       "      <td>10</td>\n",
       "      <td>233</td>\n",
       "      <td>1231</td>\n",
       "      <td>492</td>\n",
       "      <td>10</td>\n",
       "      <td>Your best streak yet!</td>\n",
       "    </tr>\n",
       "    <tr>\n",
       "      <th>2</th>\n",
       "      <td>2020-07-06</td>\n",
       "      <td>7</td>\n",
       "      <td>-12</td>\n",
       "      <td>646</td>\n",
       "      <td>-43</td>\n",
       "      <td>3</td>\n",
       "      <td>Best: 10 days</td>\n",
       "    </tr>\n",
       "    <tr>\n",
       "      <th>3</th>\n",
       "      <td>2020-07-13</td>\n",
       "      <td>7</td>\n",
       "      <td>17</td>\n",
       "      <td>843</td>\n",
       "      <td>58</td>\n",
       "      <td>10</td>\n",
       "      <td>Your best streak yet!</td>\n",
       "    </tr>\n",
       "    <tr>\n",
       "      <th>4</th>\n",
       "      <td>2020-07-20</td>\n",
       "      <td>6</td>\n",
       "      <td>-14</td>\n",
       "      <td>1133</td>\n",
       "      <td>48</td>\n",
       "      <td>6</td>\n",
       "      <td>Best: 10 days</td>\n",
       "    </tr>\n",
       "    <tr>\n",
       "      <th>5</th>\n",
       "      <td>2020-07-27</td>\n",
       "      <td>16</td>\n",
       "      <td>220</td>\n",
       "      <td>1369</td>\n",
       "      <td>45</td>\n",
       "      <td>6</td>\n",
       "      <td>Best: 10 days</td>\n",
       "    </tr>\n",
       "    <tr>\n",
       "      <th>6</th>\n",
       "      <td>2020-08-10</td>\n",
       "      <td>10</td>\n",
       "      <td>-9</td>\n",
       "      <td>1017</td>\n",
       "      <td>34</td>\n",
       "      <td>7</td>\n",
       "      <td>Best: 11 days</td>\n",
       "    </tr>\n",
       "    <tr>\n",
       "      <th>7</th>\n",
       "      <td>2020-08-17</td>\n",
       "      <td>9</td>\n",
       "      <td>29</td>\n",
       "      <td>837</td>\n",
       "      <td>-6</td>\n",
       "      <td>14</td>\n",
       "      <td>Your best streak yet!</td>\n",
       "    </tr>\n",
       "    <tr>\n",
       "      <th>8</th>\n",
       "      <td>2020-09-07</td>\n",
       "      <td>5</td>\n",
       "      <td>0</td>\n",
       "      <td>783</td>\n",
       "      <td>25</td>\n",
       "      <td>7</td>\n",
       "      <td>Best: 20 days</td>\n",
       "    </tr>\n",
       "    <tr>\n",
       "      <th>9</th>\n",
       "      <td>2020-10-05</td>\n",
       "      <td>9</td>\n",
       "      <td>29</td>\n",
       "      <td>1058</td>\n",
       "      <td>32</td>\n",
       "      <td>3</td>\n",
       "      <td>Best: 20 days</td>\n",
       "    </tr>\n",
       "    <tr>\n",
       "      <th>10</th>\n",
       "      <td>2020-10-12</td>\n",
       "      <td>13</td>\n",
       "      <td>44</td>\n",
       "      <td>1341</td>\n",
       "      <td>68</td>\n",
       "      <td>3</td>\n",
       "      <td>Best: 20 days</td>\n",
       "    </tr>\n",
       "    <tr>\n",
       "      <th>11</th>\n",
       "      <td>2020-10-26</td>\n",
       "      <td>12</td>\n",
       "      <td>500</td>\n",
       "      <td>1175</td>\n",
       "      <td>263</td>\n",
       "      <td>6</td>\n",
       "      <td>Best: 20 days</td>\n",
       "    </tr>\n",
       "    <tr>\n",
       "      <th>12</th>\n",
       "      <td>2020-11-02</td>\n",
       "      <td>7</td>\n",
       "      <td>-22</td>\n",
       "      <td>1817</td>\n",
       "      <td>103</td>\n",
       "      <td>6</td>\n",
       "      <td>Best: 20 days</td>\n",
       "    </tr>\n",
       "    <tr>\n",
       "      <th>13</th>\n",
       "      <td>2020-11-09</td>\n",
       "      <td>5</td>\n",
       "      <td>-29</td>\n",
       "      <td>1268</td>\n",
       "      <td>-11</td>\n",
       "      <td>13</td>\n",
       "      <td>Best: 20 days</td>\n",
       "    </tr>\n",
       "    <tr>\n",
       "      <th>14</th>\n",
       "      <td>2020-11-23</td>\n",
       "      <td>16</td>\n",
       "      <td>60</td>\n",
       "      <td>690</td>\n",
       "      <td>9</td>\n",
       "      <td>7</td>\n",
       "      <td>Best: 20 days</td>\n",
       "    </tr>\n",
       "    <tr>\n",
       "      <th>15</th>\n",
       "      <td>2020-11-30</td>\n",
       "      <td>5</td>\n",
       "      <td>-69</td>\n",
       "      <td>339</td>\n",
       "      <td>-51</td>\n",
       "      <td>3</td>\n",
       "      <td>Best: 20 days</td>\n",
       "    </tr>\n",
       "  </tbody>\n",
       "</table>\n",
       "</div>"
      ],
      "text/plain": [
       "         date  missions_completed  missions_change_pct  minutes_spent  \\\n",
       "0  2020-06-22                   5                  100            277   \n",
       "1  2020-06-29                  10                  233           1231   \n",
       "2  2020-07-06                   7                  -12            646   \n",
       "3  2020-07-13                   7                   17            843   \n",
       "4  2020-07-20                   6                  -14           1133   \n",
       "5  2020-07-27                  16                  220           1369   \n",
       "6  2020-08-10                  10                   -9           1017   \n",
       "7  2020-08-17                   9                   29            837   \n",
       "8  2020-09-07                   5                    0            783   \n",
       "9  2020-10-05                   9                   29           1058   \n",
       "10 2020-10-12                  13                   44           1341   \n",
       "11 2020-10-26                  12                  500           1175   \n",
       "12 2020-11-02                   7                  -22           1817   \n",
       "13 2020-11-09                   5                  -29           1268   \n",
       "14 2020-11-23                  16                   60            690   \n",
       "15 2020-11-30                   5                  -69            339   \n",
       "\n",
       "    minutes_change_pct  learning_streak(days)            best_streak  \n",
       "0                  100                      3  Your best streak yet!  \n",
       "1                  492                     10  Your best streak yet!  \n",
       "2                  -43                      3          Best: 10 days  \n",
       "3                   58                     10  Your best streak yet!  \n",
       "4                   48                      6          Best: 10 days  \n",
       "5                   45                      6          Best: 10 days  \n",
       "6                   34                      7          Best: 11 days  \n",
       "7                   -6                     14  Your best streak yet!  \n",
       "8                   25                      7          Best: 20 days  \n",
       "9                   32                      3          Best: 20 days  \n",
       "10                  68                      3          Best: 20 days  \n",
       "11                 263                      6          Best: 20 days  \n",
       "12                 103                      6          Best: 20 days  \n",
       "13                 -11                     13          Best: 20 days  \n",
       "14                   9                      7          Best: 20 days  \n",
       "15                 -51                      3          Best: 20 days  "
      ]
     },
     "execution_count": 84,
     "metadata": {},
     "output_type": "execute_result"
    }
   ],
   "source": [
    "learning_curve"
   ]
  },
  {
   "cell_type": "code",
   "execution_count": 85,
   "metadata": {
    "scrolled": true
   },
   "outputs": [
    {
     "name": "stdout",
     "output_type": "stream",
     "text": [
      "total missions completed:  142\n"
     ]
    }
   ],
   "source": [
    "print('total missions completed: ',learning_curve.missions_completed.sum())"
   ]
  },
  {
   "cell_type": "markdown",
   "metadata": {},
   "source": [
    "The total missions should be **165**, we are missing data for **23 missions**. Cross-referencing the `learning_streak` and `best_streak`, there are missing data in between `2020-07-27 and 2020-08-10`, and `2020-08-17 and 2020-09-07`:\n",
    "* Since there's only one Monday between `2020-07-27 and 2020-08-10`, the missing email should have been received on `2020-08-03`\n",
    "* A new best streak of 20 days was created between `2020-08-17 and 2020-09-07`, it's impossible that it happened inconsecutive with the previous streak because this was a 21 days duration that also contains a 7 days streak. So it's safe to say that the 20 days streak should be in the `2020-08-24` email. \n",
    "* We also know 2 of the missing missions count are the last two guided projects.\n",
    "\n",
    "Part of the missing email dates can be deduced, however, from the exsiting data, the mission completed and minutes spent change rates are not calculated based on the formula: $change\\% = \\frac{current - previous}{previous}$. In fact, from the existing data on consecutive weeks, it's not obvious how the change rates are calculated. Therefore the numbers of missions completed and minutes spent during missing weeks can't be calculated.\n",
    "\n",
    "---\n",
    "We can only deduce the following information in the missing emails:\n",
    "\n",
    "|    date    | missions_completed | missions_change_pct | minutes_spent | minutes_change_pct | learning_streak(days) |      best_streak      |\n",
    "|:----------:|:------------------:|:---------------------:|:-------------:|:--------------------:|:---------------------:|:---------------------:|\n",
    "| 2020-08-03 |                    |                       |               |                      |           11          | Your best streak yet! |\n",
    "| 2020-08-24 |                    |                       |               |                      |           20          | Your best streak yet! |\n",
    "| 2020-12-07 |     1              |                       |               |                      |                       |     Best: 20 days     |\n",
    "| 2020-12-14 |       1            |                       |               |                      |                       |     Best: 20 days     |"
   ]
  },
  {
   "cell_type": "markdown",
   "metadata": {},
   "source": [
    "## Data Imputation\n",
    "---\n",
    "Something else to use as a reference is the learning curve genrated by DataQuest in the account profile:\n",
    "\n",
    "<img src=\"learning_curve.png\"><br>\n",
    "**Imputation strategy:**\n",
    "* Fill in the blanks where possible, plot the existing data then compare with the DataQuest generated learning curve to roughly impute missing data. \n",
    "* From this image, there are two obvious intervals with 0 progress in learning around October 29th. I had family visiting between Oct.14th - Oct.19th and didn't do any study, so one interval can be determined. There's only one other missing week after October 29th, so that's the other zero progress week.  \n",
    "* There are 21 missions left to be imputed into the missing weeks in August and September. I took a mini-vacation between September 8th - 11th, so that week should have less missions completed. \n",
    "* After generating a line plot with missing weeks in later cells, and comparing with DQ generated learning curve, there isn't any significant bump or clif in August & September, so we will just average out the missions into the missing weeks, with week 13 with less missions. It doesn't need to be exact for our purpose here. \n",
    "* Impute the minutes spent based on the imputed missions number and average minutes spent to finish a mission with known data. \n",
    "* Since it's not clear how the change rate in each week is calculated, the missing values can't be imputed. Those two column will be dropped."
   ]
  },
  {
   "cell_type": "code",
   "execution_count": 86,
   "metadata": {},
   "outputs": [],
   "source": [
    "# Create a list containing all the Monday dates in the learning period \n",
    "mondays = pd.date_range(start = learning_curve.date[0], end = pd.to_datetime('14, 12, 2020'), freq = '7D')\n",
    "mondays_df = pd.DataFrame(mondays, columns = ['date'])"
   ]
  },
  {
   "cell_type": "code",
   "execution_count": 87,
   "metadata": {
    "scrolled": false
   },
   "outputs": [],
   "source": [
    "# Join mondays_df with a learning_curve copy to fill in the missing dates \n",
    "all_dates_curve = learning_curve.copy()\n",
    "all_dates_curve = mondays_df.join(all_dates_curve.set_index('date'), on = 'date')\n",
    "\n",
    "# Drop unecessary columns \n",
    "all_dates_curve.drop(['missions_change_pct', 'minutes_change_pct', 'learning_streak(days)', 'best_streak'], axis = 1, inplace = True)"
   ]
  },
  {
   "cell_type": "code",
   "execution_count": 88,
   "metadata": {},
   "outputs": [],
   "source": [
    "# Fill in known missing values\n",
    "all_dates_curve.loc[[24, 25], 'missions_completed'] = 1"
   ]
  },
  {
   "cell_type": "code",
   "execution_count": 89,
   "metadata": {
    "scrolled": false
   },
   "outputs": [
    {
     "data": {
      "text/html": [
       "<div>\n",
       "<style scoped>\n",
       "    .dataframe tbody tr th:only-of-type {\n",
       "        vertical-align: middle;\n",
       "    }\n",
       "\n",
       "    .dataframe tbody tr th {\n",
       "        vertical-align: top;\n",
       "    }\n",
       "\n",
       "    .dataframe thead th {\n",
       "        text-align: right;\n",
       "    }\n",
       "</style>\n",
       "<table border=\"1\" class=\"dataframe\">\n",
       "  <thead>\n",
       "    <tr style=\"text-align: right;\">\n",
       "      <th></th>\n",
       "      <th>date</th>\n",
       "      <th>week</th>\n",
       "      <th>missions_completed</th>\n",
       "      <th>minutes_spent</th>\n",
       "    </tr>\n",
       "  </thead>\n",
       "  <tbody>\n",
       "    <tr>\n",
       "      <th>0</th>\n",
       "      <td>2020-06-22</td>\n",
       "      <td>1</td>\n",
       "      <td>5.0</td>\n",
       "      <td>277.0</td>\n",
       "    </tr>\n",
       "    <tr>\n",
       "      <th>1</th>\n",
       "      <td>2020-06-29</td>\n",
       "      <td>2</td>\n",
       "      <td>10.0</td>\n",
       "      <td>1231.0</td>\n",
       "    </tr>\n",
       "    <tr>\n",
       "      <th>2</th>\n",
       "      <td>2020-07-06</td>\n",
       "      <td>3</td>\n",
       "      <td>7.0</td>\n",
       "      <td>646.0</td>\n",
       "    </tr>\n",
       "    <tr>\n",
       "      <th>3</th>\n",
       "      <td>2020-07-13</td>\n",
       "      <td>4</td>\n",
       "      <td>7.0</td>\n",
       "      <td>843.0</td>\n",
       "    </tr>\n",
       "    <tr>\n",
       "      <th>4</th>\n",
       "      <td>2020-07-20</td>\n",
       "      <td>5</td>\n",
       "      <td>6.0</td>\n",
       "      <td>1133.0</td>\n",
       "    </tr>\n",
       "    <tr>\n",
       "      <th>5</th>\n",
       "      <td>2020-07-27</td>\n",
       "      <td>6</td>\n",
       "      <td>16.0</td>\n",
       "      <td>1369.0</td>\n",
       "    </tr>\n",
       "    <tr>\n",
       "      <th>6</th>\n",
       "      <td>2020-08-03</td>\n",
       "      <td>7</td>\n",
       "      <td>NaN</td>\n",
       "      <td>NaN</td>\n",
       "    </tr>\n",
       "    <tr>\n",
       "      <th>7</th>\n",
       "      <td>2020-08-10</td>\n",
       "      <td>8</td>\n",
       "      <td>10.0</td>\n",
       "      <td>1017.0</td>\n",
       "    </tr>\n",
       "    <tr>\n",
       "      <th>8</th>\n",
       "      <td>2020-08-17</td>\n",
       "      <td>9</td>\n",
       "      <td>9.0</td>\n",
       "      <td>837.0</td>\n",
       "    </tr>\n",
       "    <tr>\n",
       "      <th>9</th>\n",
       "      <td>2020-08-24</td>\n",
       "      <td>10</td>\n",
       "      <td>NaN</td>\n",
       "      <td>NaN</td>\n",
       "    </tr>\n",
       "    <tr>\n",
       "      <th>10</th>\n",
       "      <td>2020-08-31</td>\n",
       "      <td>11</td>\n",
       "      <td>NaN</td>\n",
       "      <td>NaN</td>\n",
       "    </tr>\n",
       "    <tr>\n",
       "      <th>11</th>\n",
       "      <td>2020-09-07</td>\n",
       "      <td>12</td>\n",
       "      <td>5.0</td>\n",
       "      <td>783.0</td>\n",
       "    </tr>\n",
       "    <tr>\n",
       "      <th>12</th>\n",
       "      <td>2020-09-14</td>\n",
       "      <td>13</td>\n",
       "      <td>NaN</td>\n",
       "      <td>NaN</td>\n",
       "    </tr>\n",
       "    <tr>\n",
       "      <th>13</th>\n",
       "      <td>2020-09-21</td>\n",
       "      <td>14</td>\n",
       "      <td>NaN</td>\n",
       "      <td>NaN</td>\n",
       "    </tr>\n",
       "    <tr>\n",
       "      <th>14</th>\n",
       "      <td>2020-09-28</td>\n",
       "      <td>15</td>\n",
       "      <td>NaN</td>\n",
       "      <td>NaN</td>\n",
       "    </tr>\n",
       "    <tr>\n",
       "      <th>15</th>\n",
       "      <td>2020-10-05</td>\n",
       "      <td>16</td>\n",
       "      <td>9.0</td>\n",
       "      <td>1058.0</td>\n",
       "    </tr>\n",
       "    <tr>\n",
       "      <th>16</th>\n",
       "      <td>2020-10-12</td>\n",
       "      <td>17</td>\n",
       "      <td>13.0</td>\n",
       "      <td>1341.0</td>\n",
       "    </tr>\n",
       "    <tr>\n",
       "      <th>17</th>\n",
       "      <td>2020-10-19</td>\n",
       "      <td>18</td>\n",
       "      <td>NaN</td>\n",
       "      <td>NaN</td>\n",
       "    </tr>\n",
       "    <tr>\n",
       "      <th>18</th>\n",
       "      <td>2020-10-26</td>\n",
       "      <td>19</td>\n",
       "      <td>12.0</td>\n",
       "      <td>1175.0</td>\n",
       "    </tr>\n",
       "    <tr>\n",
       "      <th>19</th>\n",
       "      <td>2020-11-02</td>\n",
       "      <td>20</td>\n",
       "      <td>7.0</td>\n",
       "      <td>1817.0</td>\n",
       "    </tr>\n",
       "    <tr>\n",
       "      <th>20</th>\n",
       "      <td>2020-11-09</td>\n",
       "      <td>21</td>\n",
       "      <td>5.0</td>\n",
       "      <td>1268.0</td>\n",
       "    </tr>\n",
       "    <tr>\n",
       "      <th>21</th>\n",
       "      <td>2020-11-16</td>\n",
       "      <td>22</td>\n",
       "      <td>NaN</td>\n",
       "      <td>NaN</td>\n",
       "    </tr>\n",
       "    <tr>\n",
       "      <th>22</th>\n",
       "      <td>2020-11-23</td>\n",
       "      <td>23</td>\n",
       "      <td>16.0</td>\n",
       "      <td>690.0</td>\n",
       "    </tr>\n",
       "    <tr>\n",
       "      <th>23</th>\n",
       "      <td>2020-11-30</td>\n",
       "      <td>24</td>\n",
       "      <td>5.0</td>\n",
       "      <td>339.0</td>\n",
       "    </tr>\n",
       "    <tr>\n",
       "      <th>24</th>\n",
       "      <td>2020-12-07</td>\n",
       "      <td>25</td>\n",
       "      <td>1.0</td>\n",
       "      <td>NaN</td>\n",
       "    </tr>\n",
       "    <tr>\n",
       "      <th>25</th>\n",
       "      <td>2020-12-14</td>\n",
       "      <td>26</td>\n",
       "      <td>1.0</td>\n",
       "      <td>NaN</td>\n",
       "    </tr>\n",
       "  </tbody>\n",
       "</table>\n",
       "</div>"
      ],
      "text/plain": [
       "         date  week  missions_completed  minutes_spent\n",
       "0  2020-06-22     1                 5.0          277.0\n",
       "1  2020-06-29     2                10.0         1231.0\n",
       "2  2020-07-06     3                 7.0          646.0\n",
       "3  2020-07-13     4                 7.0          843.0\n",
       "4  2020-07-20     5                 6.0         1133.0\n",
       "5  2020-07-27     6                16.0         1369.0\n",
       "6  2020-08-03     7                 NaN            NaN\n",
       "7  2020-08-10     8                10.0         1017.0\n",
       "8  2020-08-17     9                 9.0          837.0\n",
       "9  2020-08-24    10                 NaN            NaN\n",
       "10 2020-08-31    11                 NaN            NaN\n",
       "11 2020-09-07    12                 5.0          783.0\n",
       "12 2020-09-14    13                 NaN            NaN\n",
       "13 2020-09-21    14                 NaN            NaN\n",
       "14 2020-09-28    15                 NaN            NaN\n",
       "15 2020-10-05    16                 9.0         1058.0\n",
       "16 2020-10-12    17                13.0         1341.0\n",
       "17 2020-10-19    18                 NaN            NaN\n",
       "18 2020-10-26    19                12.0         1175.0\n",
       "19 2020-11-02    20                 7.0         1817.0\n",
       "20 2020-11-09    21                 5.0         1268.0\n",
       "21 2020-11-16    22                 NaN            NaN\n",
       "22 2020-11-23    23                16.0          690.0\n",
       "23 2020-11-30    24                 5.0          339.0\n",
       "24 2020-12-07    25                 1.0            NaN\n",
       "25 2020-12-14    26                 1.0            NaN"
      ]
     },
     "execution_count": 89,
     "metadata": {},
     "output_type": "execute_result"
    }
   ],
   "source": [
    "# Add a week column \n",
    "all_dates_curve.insert(1, 'week', all_dates_curve.date.dt.isocalendar().week)\n",
    "all_dates_curve.week = all_dates_curve.week - 25 # First week of learning was 26th week of the year. \n",
    "all_dates_curve"
   ]
  },
  {
   "cell_type": "code",
   "execution_count": 90,
   "metadata": {},
   "outputs": [],
   "source": [
    "# Fill in the two zero progress interval \n",
    "all_dates_curve.loc[[17, 21], ['missions_completed', 'minutes_spent']] = 0"
   ]
  },
  {
   "cell_type": "code",
   "execution_count": 91,
   "metadata": {
    "scrolled": true
   },
   "outputs": [
    {
     "name": "stdout",
     "output_type": "stream",
     "text": [
      "Average minutes spent to finish a mission:  111.43661971830986\n"
     ]
    }
   ],
   "source": [
    "# Calculate average minutes spent per mission\n",
    "total_complete = all_dates_curve.missions_completed.sum()\n",
    "total_minutes = all_dates_curve.minutes_spent.sum()\n",
    "avg_minutes_per_mission = total_minutes/(total_complete-2) # Exclude the last two finished missions with no minutes_spent value \n",
    "print('Average minutes spent to finish a mission: ', avg_minutes_per_mission)"
   ]
  },
  {
   "cell_type": "code",
   "execution_count": 92,
   "metadata": {},
   "outputs": [],
   "source": [
    "# Fill the last two rows minutes_spent with average_minutes_per_mission\n",
    "all_dates_curve.loc[[24, 25], 'minutes_spent'] = round(avg_minutes_per_mission, 0)"
   ]
  },
  {
   "cell_type": "code",
   "execution_count": 93,
   "metadata": {},
   "outputs": [],
   "source": [
    "# Add a column with missions cumulative finishing percentage\n",
    "all_dates_curve['finished_pct'] = (round(all_dates_curve.missions_completed/165, 2)).cumsum()"
   ]
  },
  {
   "cell_type": "markdown",
   "metadata": {},
   "source": [
    "### Plot learning curve with missing data and compare with DQ generated learning curve to guide imputation"
   ]
  },
  {
   "cell_type": "code",
   "execution_count": 94,
   "metadata": {
    "scrolled": false
   },
   "outputs": [],
   "source": [
    "import plotly.express as px"
   ]
  },
  {
   "cell_type": "code",
   "execution_count": 95,
   "metadata": {},
   "outputs": [
    {
     "data": {
      "image/svg+xml": [
       "<svg class=\"main-svg\" xmlns=\"http://www.w3.org/2000/svg\" xmlns:xlink=\"http://www.w3.org/1999/xlink\" width=\"700\" height=\"450\" style=\"\" viewBox=\"0 0 700 450\"><rect x=\"0\" y=\"0\" width=\"700\" height=\"450\" style=\"fill: rgb(255, 255, 255); fill-opacity: 1;\"/><defs id=\"defs-32c8a7\"><g class=\"clips\"><clipPath id=\"clip32c8a7xyplot\" class=\"plotclip\"><rect width=\"540\" height=\"234\"/></clipPath><clipPath class=\"axesclip\" id=\"clip32c8a7x\"><rect x=\"80\" y=\"0\" width=\"540\" height=\"450\"/></clipPath><clipPath class=\"axesclip\" id=\"clip32c8a7y\"><rect x=\"0\" y=\"100\" width=\"700\" height=\"234\"/></clipPath><clipPath class=\"axesclip\" id=\"clip32c8a7xy\"><rect x=\"80\" y=\"100\" width=\"540\" height=\"234\"/></clipPath></g><g class=\"gradients\"/></defs><g class=\"bglayer\"><rect class=\"bg\" x=\"80\" y=\"100\" width=\"540\" height=\"234\" style=\"fill: rgb(229, 236, 246); fill-opacity: 1; stroke-width: 0;\"/></g><g class=\"layer-below\"><g class=\"imagelayer\"/><g class=\"shapelayer\"/></g><g class=\"cartesianlayer\"><g class=\"subplot xy\"><g class=\"layer-subplot\"><g class=\"shapelayer\"/><g class=\"imagelayer\"/></g><g class=\"gridlayer\"><g class=\"x\"><path class=\"xgrid crisp\" transform=\"translate(101.6,0)\" d=\"M0,100v234\" style=\"stroke: rgb(255, 255, 255); stroke-opacity: 1; stroke-width: 1px;\"/><path class=\"xgrid crisp\" transform=\"translate(123.2,0)\" d=\"M0,100v234\" style=\"stroke: rgb(255, 255, 255); stroke-opacity: 1; stroke-width: 1px;\"/><path class=\"xgrid crisp\" transform=\"translate(144.8,0)\" d=\"M0,100v234\" style=\"stroke: rgb(255, 255, 255); stroke-opacity: 1; stroke-width: 1px;\"/><path class=\"xgrid crisp\" transform=\"translate(166.4,0)\" d=\"M0,100v234\" style=\"stroke: rgb(255, 255, 255); stroke-opacity: 1; stroke-width: 1px;\"/><path class=\"xgrid crisp\" transform=\"translate(188,0)\" d=\"M0,100v234\" style=\"stroke: rgb(255, 255, 255); stroke-opacity: 1; stroke-width: 1px;\"/><path class=\"xgrid crisp\" transform=\"translate(209.6,0)\" d=\"M0,100v234\" style=\"stroke: rgb(255, 255, 255); stroke-opacity: 1; stroke-width: 1px;\"/><path class=\"xgrid crisp\" transform=\"translate(231.2,0)\" d=\"M0,100v234\" style=\"stroke: rgb(255, 255, 255); stroke-opacity: 1; stroke-width: 1px;\"/><path class=\"xgrid crisp\" transform=\"translate(252.8,0)\" d=\"M0,100v234\" style=\"stroke: rgb(255, 255, 255); stroke-opacity: 1; stroke-width: 1px;\"/><path class=\"xgrid crisp\" transform=\"translate(274.4,0)\" d=\"M0,100v234\" style=\"stroke: rgb(255, 255, 255); stroke-opacity: 1; stroke-width: 1px;\"/><path class=\"xgrid crisp\" transform=\"translate(296,0)\" d=\"M0,100v234\" style=\"stroke: rgb(255, 255, 255); stroke-opacity: 1; stroke-width: 1px;\"/><path class=\"xgrid crisp\" transform=\"translate(317.6,0)\" d=\"M0,100v234\" style=\"stroke: rgb(255, 255, 255); stroke-opacity: 1; stroke-width: 1px;\"/><path class=\"xgrid crisp\" transform=\"translate(339.2,0)\" d=\"M0,100v234\" style=\"stroke: rgb(255, 255, 255); stroke-opacity: 1; stroke-width: 1px;\"/><path class=\"xgrid crisp\" transform=\"translate(360.8,0)\" d=\"M0,100v234\" style=\"stroke: rgb(255, 255, 255); stroke-opacity: 1; stroke-width: 1px;\"/><path class=\"xgrid crisp\" transform=\"translate(382.4,0)\" d=\"M0,100v234\" style=\"stroke: rgb(255, 255, 255); stroke-opacity: 1; stroke-width: 1px;\"/><path class=\"xgrid crisp\" transform=\"translate(404,0)\" d=\"M0,100v234\" style=\"stroke: rgb(255, 255, 255); stroke-opacity: 1; stroke-width: 1px;\"/><path class=\"xgrid crisp\" transform=\"translate(425.6,0)\" d=\"M0,100v234\" style=\"stroke: rgb(255, 255, 255); stroke-opacity: 1; stroke-width: 1px;\"/><path class=\"xgrid crisp\" transform=\"translate(447.2,0)\" d=\"M0,100v234\" style=\"stroke: rgb(255, 255, 255); stroke-opacity: 1; stroke-width: 1px;\"/><path class=\"xgrid crisp\" transform=\"translate(468.8,0)\" d=\"M0,100v234\" style=\"stroke: rgb(255, 255, 255); stroke-opacity: 1; stroke-width: 1px;\"/><path class=\"xgrid crisp\" transform=\"translate(490.4,0)\" d=\"M0,100v234\" style=\"stroke: rgb(255, 255, 255); stroke-opacity: 1; stroke-width: 1px;\"/><path class=\"xgrid crisp\" transform=\"translate(512,0)\" d=\"M0,100v234\" style=\"stroke: rgb(255, 255, 255); stroke-opacity: 1; stroke-width: 1px;\"/><path class=\"xgrid crisp\" transform=\"translate(533.6,0)\" d=\"M0,100v234\" style=\"stroke: rgb(255, 255, 255); stroke-opacity: 1; stroke-width: 1px;\"/><path class=\"xgrid crisp\" transform=\"translate(555.2,0)\" d=\"M0,100v234\" style=\"stroke: rgb(255, 255, 255); stroke-opacity: 1; stroke-width: 1px;\"/><path class=\"xgrid crisp\" transform=\"translate(576.8,0)\" d=\"M0,100v234\" style=\"stroke: rgb(255, 255, 255); stroke-opacity: 1; stroke-width: 1px;\"/><path class=\"xgrid crisp\" transform=\"translate(598.4,0)\" d=\"M0,100v234\" style=\"stroke: rgb(255, 255, 255); stroke-opacity: 1; stroke-width: 1px;\"/></g><g class=\"y\"><path class=\"ygrid crisp\" transform=\"translate(0,267.14)\" d=\"M80,0h540\" style=\"stroke: rgb(255, 255, 255); stroke-opacity: 1; stroke-width: 1px;\"/><path class=\"ygrid crisp\" transform=\"translate(0,204.45999999999998)\" d=\"M80,0h540\" style=\"stroke: rgb(255, 255, 255); stroke-opacity: 1; stroke-width: 1px;\"/><path class=\"ygrid crisp\" transform=\"translate(0,141.79)\" d=\"M80,0h540\" style=\"stroke: rgb(255, 255, 255); stroke-opacity: 1; stroke-width: 1px;\"/></g></g><g class=\"zerolinelayer\"><path class=\"yzl zl crisp\" transform=\"translate(0,329.82)\" d=\"M80,0h540\" style=\"stroke: rgb(255, 255, 255); stroke-opacity: 1; stroke-width: 2px;\"/></g><path class=\"xlines-below\"/><path class=\"ylines-below\"/><g class=\"overlines-below\"/><g class=\"xaxislayer-below\"/><g class=\"yaxislayer-below\"/><g class=\"overaxes-below\"/><g class=\"plot\" transform=\"translate(80,100)\" clip-path=\"url('#clip32c8a7xyplot')\"><g class=\"scatterlayer mlayer\"><g class=\"trace scatter trace1c50c5\" style=\"stroke-miterlimit: 2; opacity: 1;\"><g class=\"fills\"/><g class=\"errorbars\"/><g class=\"lines\"><path class=\"js-line\" d=\"M0,222.3L21.6,207.26L43.2,197.23L86.4,177.17L108,152.1\" style=\"vector-effect: non-scaling-stroke; fill: none; stroke: rgb(99, 110, 250); stroke-opacity: 1; stroke-width: 2px; opacity: 1;\"/><path class=\"js-line\" d=\"M151.2,137.06L172.8,124.52\" style=\"vector-effect: non-scaling-stroke; fill: none; stroke: rgb(99, 110, 250); stroke-opacity: 1; stroke-width: 2px; opacity: 1;\"/><path class=\"js-line\" d=\"M324,120.54L345.6,97.39L367.2,97.39L388.8,77.14L410.4,65.57L432,56.89L453.6,56.89L475.2,27.96L496.8,19.29L540,13.5\" style=\"vector-effect: non-scaling-stroke; fill: none; stroke: rgb(0, 0, 0); stroke-opacity: 1; stroke-width: 0px; opacity: 1;\"/><path class=\"js-line\" d=\"M324,104.46L345.6,84.41L367.2,84.41L388.8,66.86L410.4,56.83L432,49.31L453.6,49.31L475.2,24.24L496.8,16.71L540,11.7\" style=\"vector-effect: non-scaling-stroke; fill: none; stroke: rgb(99, 110, 250); stroke-opacity: 1; stroke-width: 2px; opacity: 1;\"/></g><g class=\"points\"/><g class=\"text\"/></g></g></g><g class=\"overplot\"/><path class=\"xlines-above crisp\" d=\"M0,0\" style=\"fill: none;\"/><path class=\"ylines-above crisp\" d=\"M0,0\" style=\"fill: none;\"/><g class=\"overlines-above\"/><g class=\"xaxislayer-above\"><g class=\"xtick\"><text text-anchor=\"start\" x=\"0\" y=\"347\" transform=\"translate(80,0) rotate(90,0,341)\" style=\"font-family: 'Open Sans', verdana, arial, sans-serif; font-size: 12px; fill: rgb(42, 63, 95); fill-opacity: 1; white-space: pre;\">Jun 22, 2020</text></g><g class=\"xtick\"><text text-anchor=\"start\" x=\"0\" y=\"347\" transform=\"translate(101.6,0) rotate(90,0,341)\" style=\"font-family: 'Open Sans', verdana, arial, sans-serif; font-size: 12px; fill: rgb(42, 63, 95); fill-opacity: 1; white-space: pre;\">Jun 29, 2020</text></g><g class=\"xtick\"><text text-anchor=\"start\" x=\"0\" y=\"347\" transform=\"translate(123.2,0) rotate(90,0,341)\" style=\"font-family: 'Open Sans', verdana, arial, sans-serif; font-size: 12px; fill: rgb(42, 63, 95); fill-opacity: 1; white-space: pre;\">Jul 6, 2020</text></g><g class=\"xtick\"><text text-anchor=\"start\" x=\"0\" y=\"347\" transform=\"translate(144.8,0) rotate(90,0,341)\" style=\"font-family: 'Open Sans', verdana, arial, sans-serif; font-size: 12px; fill: rgb(42, 63, 95); fill-opacity: 1; white-space: pre;\">Jul 13, 2020</text></g><g class=\"xtick\"><text text-anchor=\"start\" x=\"0\" y=\"347\" transform=\"translate(166.4,0) rotate(90,0,341)\" style=\"font-family: 'Open Sans', verdana, arial, sans-serif; font-size: 12px; fill: rgb(42, 63, 95); fill-opacity: 1; white-space: pre;\">Jul 20, 2020</text></g><g class=\"xtick\"><text text-anchor=\"start\" x=\"0\" y=\"347\" transform=\"translate(188,0) rotate(90,0,341)\" style=\"font-family: 'Open Sans', verdana, arial, sans-serif; font-size: 12px; fill: rgb(42, 63, 95); fill-opacity: 1; white-space: pre;\">Jul 27, 2020</text></g><g class=\"xtick\"><text text-anchor=\"start\" x=\"0\" y=\"347\" transform=\"translate(209.6,0) rotate(90,0,341)\" style=\"font-family: 'Open Sans', verdana, arial, sans-serif; font-size: 12px; fill: rgb(42, 63, 95); fill-opacity: 1; white-space: pre;\">Aug 3, 2020</text></g><g class=\"xtick\"><text text-anchor=\"start\" x=\"0\" y=\"347\" transform=\"translate(231.2,0) rotate(90,0,341)\" style=\"font-family: 'Open Sans', verdana, arial, sans-serif; font-size: 12px; fill: rgb(42, 63, 95); fill-opacity: 1; white-space: pre;\">Aug 10, 2020</text></g><g class=\"xtick\"><text text-anchor=\"start\" x=\"0\" y=\"347\" transform=\"translate(252.8,0) rotate(90,0,341)\" style=\"font-family: 'Open Sans', verdana, arial, sans-serif; font-size: 12px; fill: rgb(42, 63, 95); fill-opacity: 1; white-space: pre;\">Aug 17, 2020</text></g><g class=\"xtick\"><text text-anchor=\"start\" x=\"0\" y=\"347\" transform=\"translate(274.4,0) rotate(90,0,341)\" style=\"font-family: 'Open Sans', verdana, arial, sans-serif; font-size: 12px; fill: rgb(42, 63, 95); fill-opacity: 1; white-space: pre;\">Aug 24, 2020</text></g><g class=\"xtick\"><text text-anchor=\"start\" x=\"0\" y=\"347\" transform=\"translate(296,0) rotate(90,0,341)\" style=\"font-family: 'Open Sans', verdana, arial, sans-serif; font-size: 12px; fill: rgb(42, 63, 95); fill-opacity: 1; white-space: pre;\">Aug 31, 2020</text></g><g class=\"xtick\"><text text-anchor=\"start\" x=\"0\" y=\"347\" transform=\"translate(317.6,0) rotate(90,0,341)\" style=\"font-family: 'Open Sans', verdana, arial, sans-serif; font-size: 12px; fill: rgb(42, 63, 95); fill-opacity: 1; white-space: pre;\">Sep 7, 2020</text></g><g class=\"xtick\"><text text-anchor=\"start\" x=\"0\" y=\"347\" transform=\"translate(339.2,0) rotate(90,0,341)\" style=\"font-family: 'Open Sans', verdana, arial, sans-serif; font-size: 12px; fill: rgb(42, 63, 95); fill-opacity: 1; white-space: pre;\">Sep 14, 2020</text></g><g class=\"xtick\"><text text-anchor=\"start\" x=\"0\" y=\"347\" transform=\"translate(360.8,0) rotate(90,0,341)\" style=\"font-family: 'Open Sans', verdana, arial, sans-serif; font-size: 12px; fill: rgb(42, 63, 95); fill-opacity: 1; white-space: pre;\">Sep 21, 2020</text></g><g class=\"xtick\"><text text-anchor=\"start\" x=\"0\" y=\"347\" transform=\"translate(382.4,0) rotate(90,0,341)\" style=\"font-family: 'Open Sans', verdana, arial, sans-serif; font-size: 12px; fill: rgb(42, 63, 95); fill-opacity: 1; white-space: pre;\">Sep 28, 2020</text></g><g class=\"xtick\"><text text-anchor=\"start\" x=\"0\" y=\"347\" transform=\"translate(404,0) rotate(90,0,341)\" style=\"font-family: 'Open Sans', verdana, arial, sans-serif; font-size: 12px; fill: rgb(42, 63, 95); fill-opacity: 1; white-space: pre;\">Oct 5, 2020</text></g><g class=\"xtick\"><text text-anchor=\"start\" x=\"0\" y=\"347\" transform=\"translate(425.6,0) rotate(90,0,341)\" style=\"font-family: 'Open Sans', verdana, arial, sans-serif; font-size: 12px; fill: rgb(42, 63, 95); fill-opacity: 1; white-space: pre;\">Oct 12, 2020</text></g><g class=\"xtick\"><text text-anchor=\"start\" x=\"0\" y=\"347\" transform=\"translate(447.2,0) rotate(90,0,341)\" style=\"font-family: 'Open Sans', verdana, arial, sans-serif; font-size: 12px; fill: rgb(42, 63, 95); fill-opacity: 1; white-space: pre;\">Oct 19, 2020</text></g><g class=\"xtick\"><text text-anchor=\"start\" x=\"0\" y=\"347\" transform=\"translate(468.8,0) rotate(90,0,341)\" style=\"font-family: 'Open Sans', verdana, arial, sans-serif; font-size: 12px; fill: rgb(42, 63, 95); fill-opacity: 1; white-space: pre;\">Oct 26, 2020</text></g><g class=\"xtick\"><text text-anchor=\"start\" x=\"0\" y=\"347\" transform=\"translate(490.4,0) rotate(90,0,341)\" style=\"font-family: 'Open Sans', verdana, arial, sans-serif; font-size: 12px; fill: rgb(42, 63, 95); fill-opacity: 1; white-space: pre;\">Nov 2, 2020</text></g><g class=\"xtick\"><text text-anchor=\"start\" x=\"0\" y=\"347\" transform=\"translate(512,0) rotate(90,0,341)\" style=\"font-family: 'Open Sans', verdana, arial, sans-serif; font-size: 12px; fill: rgb(42, 63, 95); fill-opacity: 1; white-space: pre;\">Nov 9, 2020</text></g><g class=\"xtick\"><text text-anchor=\"start\" x=\"0\" y=\"347\" transform=\"translate(533.6,0) rotate(90,0,341)\" style=\"font-family: 'Open Sans', verdana, arial, sans-serif; font-size: 12px; fill: rgb(42, 63, 95); fill-opacity: 1; white-space: pre;\">Nov 16, 2020</text></g><g class=\"xtick\"><text text-anchor=\"start\" x=\"0\" y=\"347\" transform=\"translate(555.2,0) rotate(90,0,341)\" style=\"font-family: 'Open Sans', verdana, arial, sans-serif; font-size: 12px; fill: rgb(42, 63, 95); fill-opacity: 1; white-space: pre;\">Nov 23, 2020</text></g><g class=\"xtick\"><text text-anchor=\"start\" x=\"0\" y=\"347\" transform=\"translate(576.8,0) rotate(90,0,341)\" style=\"font-family: 'Open Sans', verdana, arial, sans-serif; font-size: 12px; fill: rgb(42, 63, 95); fill-opacity: 1; white-space: pre;\">Nov 30, 2020</text></g><g class=\"xtick\"><text text-anchor=\"start\" x=\"0\" y=\"347\" transform=\"translate(598.4,0) rotate(90,0,341)\" style=\"font-family: 'Open Sans', verdana, arial, sans-serif; font-size: 12px; fill: rgb(42, 63, 95); fill-opacity: 1; white-space: pre;\">Dec 7, 2020</text></g><g class=\"xtick\"><text text-anchor=\"start\" x=\"0\" y=\"347\" transform=\"translate(620,0) rotate(90,0,341)\" style=\"font-family: 'Open Sans', verdana, arial, sans-serif; font-size: 12px; fill: rgb(42, 63, 95); fill-opacity: 1; white-space: pre;\">Dec 14, 2020</text></g></g><g class=\"yaxislayer-above\"><g class=\"ytick\"><text text-anchor=\"end\" x=\"79\" y=\"4.199999999999999\" transform=\"translate(0,329.82)\" style=\"font-family: 'Open Sans', verdana, arial, sans-serif; font-size: 12px; fill: rgb(42, 63, 95); fill-opacity: 1; white-space: pre;\">0%</text></g><g class=\"ytick\"><text text-anchor=\"end\" x=\"79\" y=\"4.199999999999999\" transform=\"translate(0,267.14)\" style=\"font-family: 'Open Sans', verdana, arial, sans-serif; font-size: 12px; fill: rgb(42, 63, 95); fill-opacity: 1; white-space: pre;\">25%</text></g><g class=\"ytick\"><text text-anchor=\"end\" x=\"79\" y=\"4.199999999999999\" transform=\"translate(0,204.45999999999998)\" style=\"font-family: 'Open Sans', verdana, arial, sans-serif; font-size: 12px; fill: rgb(42, 63, 95); fill-opacity: 1; white-space: pre;\">50%</text></g><g class=\"ytick\"><text text-anchor=\"end\" x=\"79\" y=\"4.199999999999999\" transform=\"translate(0,141.79)\" style=\"font-family: 'Open Sans', verdana, arial, sans-serif; font-size: 12px; fill: rgb(42, 63, 95); fill-opacity: 1; white-space: pre;\">75%</text></g></g><g class=\"overaxes-above\"/></g></g><g class=\"polarlayer\"/><g class=\"ternarylayer\"/><g class=\"geolayer\"/><g class=\"funnelarealayer\"/><g class=\"pielayer\"/><g class=\"treemaplayer\"/><g class=\"sunburstlayer\"/><g class=\"glimages\"/><defs id=\"topdefs-32c8a7\"><g class=\"clips\"/></defs><g class=\"layer-above\"><g class=\"imagelayer\"/><g class=\"shapelayer\"/></g><g class=\"infolayer\"><g class=\"g-gtitle\"><text class=\"gtitle\" x=\"35\" y=\"50\" text-anchor=\"start\" dy=\"0em\" style=\"font-family: 'Open Sans', verdana, arial, sans-serif; font-size: 17px; fill: rgb(42, 63, 95); opacity: 1; font-weight: normal; white-space: pre;\">Learning Curve In Percentage With Missing Data</text></g><g class=\"g-xtitle\"><text class=\"xtitle\" x=\"350\" y=\"438.45625\" text-anchor=\"middle\" style=\"font-family: 'Open Sans', verdana, arial, sans-serif; font-size: 14px; fill: rgb(42, 63, 95); opacity: 1; font-weight: normal; white-space: pre;\">Date</text></g><g class=\"g-ytitle\"><text class=\"ytitle\" transform=\"rotate(-90,30.590625000000003,217)\" x=\"30.590625000000003\" y=\"217\" text-anchor=\"middle\" style=\"font-family: 'Open Sans', verdana, arial, sans-serif; font-size: 14px; fill: rgb(42, 63, 95); opacity: 1; font-weight: normal; white-space: pre;\">Percentage Completed</text></g></g></svg>"
      ]
     },
     "metadata": {},
     "output_type": "display_data"
    }
   ],
   "source": [
    "fig = px.line(all_dates_curve,\n",
    "               x = 'date',\n",
    "               y = 'finished_pct', \n",
    "               title = 'Learning Curve In Percentage With Missing Data',\n",
    "               width = 600,\n",
    "               height = 500)\n",
    "\n",
    "fig.update_layout(\n",
    "    xaxis = dict(tickvals = all_dates_curve.date,\n",
    "                title = 'Date'),\n",
    "    \n",
    "    yaxis = dict(\n",
    "        title = 'Percentage Completed',\n",
    "        tickvals = np.arange(0,1.25,0.25),\n",
    "        tickformat = '%',\n",
    "    )\n",
    ")\n",
    "\n",
    "fig.show('svg')"
   ]
  },
  {
   "cell_type": "code",
   "execution_count": 96,
   "metadata": {},
   "outputs": [
    {
     "name": "stdout",
     "output_type": "stream",
     "text": [
      "There are 6 missing weeks and 21.0 missions missing\n"
     ]
    }
   ],
   "source": [
    "# Create a list of missing weeks indices\n",
    "missing_weeks_idx = all_dates_curve[all_dates_curve.missions_completed.isnull()].index\n",
    "missing_weeks_num = len(missing_weeks_idx)\n",
    "print('There are', missing_weeks_num, 'missing weeks and', 165 - all_dates_curve.missions_completed.sum(), 'missions missing')"
   ]
  },
  {
   "cell_type": "code",
   "execution_count": 97,
   "metadata": {},
   "outputs": [],
   "source": [
    "# Impute the missions into missing weeks with the report of week 13 with less missisons and the minutes spent missing data with avg_minutes_per_mission*missions_completed\n",
    "for i in missing_weeks_idx:\n",
    "    if i != 12:\n",
    "        all_dates_curve.loc[i, 'missions_completed'] = 4\n",
    "        all_dates_curve.loc[i, 'minutes_spent'] = round(4*avg_minutes_per_mission, 0)\n",
    "    else:\n",
    "        all_dates_curve.loc[i, 'missions_completed']  = 1\n",
    "        all_dates_curve.loc[i, 'minutes_spent']  = round(avg_minutes_per_mission, 0)"
   ]
  },
  {
   "cell_type": "code",
   "execution_count": 98,
   "metadata": {},
   "outputs": [],
   "source": [
    "# Update finished_pct column\n",
    "all_dates_curve['finished_pct'] = (round(all_dates_curve.missions_completed/165, 4)).cumsum()\n",
    "\n",
    "# Create a column of total number of missions completed \n",
    "all_dates_curve['missions_cum_sum'] = all_dates_curve.missions_completed.cumsum()"
   ]
  },
  {
   "cell_type": "code",
   "execution_count": 99,
   "metadata": {},
   "outputs": [
    {
     "data": {
      "text/html": [
       "<div>\n",
       "<style scoped>\n",
       "    .dataframe tbody tr th:only-of-type {\n",
       "        vertical-align: middle;\n",
       "    }\n",
       "\n",
       "    .dataframe tbody tr th {\n",
       "        vertical-align: top;\n",
       "    }\n",
       "\n",
       "    .dataframe thead th {\n",
       "        text-align: right;\n",
       "    }\n",
       "</style>\n",
       "<table border=\"1\" class=\"dataframe\">\n",
       "  <thead>\n",
       "    <tr style=\"text-align: right;\">\n",
       "      <th></th>\n",
       "      <th>date</th>\n",
       "      <th>week</th>\n",
       "      <th>missions_completed</th>\n",
       "      <th>minutes_spent</th>\n",
       "      <th>finished_pct</th>\n",
       "      <th>missions_cum_sum</th>\n",
       "    </tr>\n",
       "  </thead>\n",
       "  <tbody>\n",
       "    <tr>\n",
       "      <th>0</th>\n",
       "      <td>2020-06-22</td>\n",
       "      <td>1</td>\n",
       "      <td>5.0</td>\n",
       "      <td>277.0</td>\n",
       "      <td>0.0303</td>\n",
       "      <td>5.0</td>\n",
       "    </tr>\n",
       "    <tr>\n",
       "      <th>1</th>\n",
       "      <td>2020-06-29</td>\n",
       "      <td>2</td>\n",
       "      <td>10.0</td>\n",
       "      <td>1231.0</td>\n",
       "      <td>0.0909</td>\n",
       "      <td>15.0</td>\n",
       "    </tr>\n",
       "    <tr>\n",
       "      <th>2</th>\n",
       "      <td>2020-07-06</td>\n",
       "      <td>3</td>\n",
       "      <td>7.0</td>\n",
       "      <td>646.0</td>\n",
       "      <td>0.1333</td>\n",
       "      <td>22.0</td>\n",
       "    </tr>\n",
       "    <tr>\n",
       "      <th>3</th>\n",
       "      <td>2020-07-13</td>\n",
       "      <td>4</td>\n",
       "      <td>7.0</td>\n",
       "      <td>843.0</td>\n",
       "      <td>0.1757</td>\n",
       "      <td>29.0</td>\n",
       "    </tr>\n",
       "    <tr>\n",
       "      <th>4</th>\n",
       "      <td>2020-07-20</td>\n",
       "      <td>5</td>\n",
       "      <td>6.0</td>\n",
       "      <td>1133.0</td>\n",
       "      <td>0.2121</td>\n",
       "      <td>35.0</td>\n",
       "    </tr>\n",
       "    <tr>\n",
       "      <th>5</th>\n",
       "      <td>2020-07-27</td>\n",
       "      <td>6</td>\n",
       "      <td>16.0</td>\n",
       "      <td>1369.0</td>\n",
       "      <td>0.3091</td>\n",
       "      <td>51.0</td>\n",
       "    </tr>\n",
       "    <tr>\n",
       "      <th>6</th>\n",
       "      <td>2020-08-03</td>\n",
       "      <td>7</td>\n",
       "      <td>4.0</td>\n",
       "      <td>446.0</td>\n",
       "      <td>0.3333</td>\n",
       "      <td>55.0</td>\n",
       "    </tr>\n",
       "    <tr>\n",
       "      <th>7</th>\n",
       "      <td>2020-08-10</td>\n",
       "      <td>8</td>\n",
       "      <td>10.0</td>\n",
       "      <td>1017.0</td>\n",
       "      <td>0.3939</td>\n",
       "      <td>65.0</td>\n",
       "    </tr>\n",
       "    <tr>\n",
       "      <th>8</th>\n",
       "      <td>2020-08-17</td>\n",
       "      <td>9</td>\n",
       "      <td>9.0</td>\n",
       "      <td>837.0</td>\n",
       "      <td>0.4484</td>\n",
       "      <td>74.0</td>\n",
       "    </tr>\n",
       "    <tr>\n",
       "      <th>9</th>\n",
       "      <td>2020-08-24</td>\n",
       "      <td>10</td>\n",
       "      <td>4.0</td>\n",
       "      <td>446.0</td>\n",
       "      <td>0.4726</td>\n",
       "      <td>78.0</td>\n",
       "    </tr>\n",
       "    <tr>\n",
       "      <th>10</th>\n",
       "      <td>2020-08-31</td>\n",
       "      <td>11</td>\n",
       "      <td>4.0</td>\n",
       "      <td>446.0</td>\n",
       "      <td>0.4968</td>\n",
       "      <td>82.0</td>\n",
       "    </tr>\n",
       "    <tr>\n",
       "      <th>11</th>\n",
       "      <td>2020-09-07</td>\n",
       "      <td>12</td>\n",
       "      <td>5.0</td>\n",
       "      <td>783.0</td>\n",
       "      <td>0.5271</td>\n",
       "      <td>87.0</td>\n",
       "    </tr>\n",
       "    <tr>\n",
       "      <th>12</th>\n",
       "      <td>2020-09-14</td>\n",
       "      <td>13</td>\n",
       "      <td>1.0</td>\n",
       "      <td>111.0</td>\n",
       "      <td>0.5332</td>\n",
       "      <td>88.0</td>\n",
       "    </tr>\n",
       "    <tr>\n",
       "      <th>13</th>\n",
       "      <td>2020-09-21</td>\n",
       "      <td>14</td>\n",
       "      <td>4.0</td>\n",
       "      <td>446.0</td>\n",
       "      <td>0.5574</td>\n",
       "      <td>92.0</td>\n",
       "    </tr>\n",
       "    <tr>\n",
       "      <th>14</th>\n",
       "      <td>2020-09-28</td>\n",
       "      <td>15</td>\n",
       "      <td>4.0</td>\n",
       "      <td>446.0</td>\n",
       "      <td>0.5816</td>\n",
       "      <td>96.0</td>\n",
       "    </tr>\n",
       "    <tr>\n",
       "      <th>15</th>\n",
       "      <td>2020-10-05</td>\n",
       "      <td>16</td>\n",
       "      <td>9.0</td>\n",
       "      <td>1058.0</td>\n",
       "      <td>0.6361</td>\n",
       "      <td>105.0</td>\n",
       "    </tr>\n",
       "    <tr>\n",
       "      <th>16</th>\n",
       "      <td>2020-10-12</td>\n",
       "      <td>17</td>\n",
       "      <td>13.0</td>\n",
       "      <td>1341.0</td>\n",
       "      <td>0.7149</td>\n",
       "      <td>118.0</td>\n",
       "    </tr>\n",
       "    <tr>\n",
       "      <th>17</th>\n",
       "      <td>2020-10-19</td>\n",
       "      <td>18</td>\n",
       "      <td>0.0</td>\n",
       "      <td>0.0</td>\n",
       "      <td>0.7149</td>\n",
       "      <td>118.0</td>\n",
       "    </tr>\n",
       "    <tr>\n",
       "      <th>18</th>\n",
       "      <td>2020-10-26</td>\n",
       "      <td>19</td>\n",
       "      <td>12.0</td>\n",
       "      <td>1175.0</td>\n",
       "      <td>0.7876</td>\n",
       "      <td>130.0</td>\n",
       "    </tr>\n",
       "    <tr>\n",
       "      <th>19</th>\n",
       "      <td>2020-11-02</td>\n",
       "      <td>20</td>\n",
       "      <td>7.0</td>\n",
       "      <td>1817.0</td>\n",
       "      <td>0.8300</td>\n",
       "      <td>137.0</td>\n",
       "    </tr>\n",
       "    <tr>\n",
       "      <th>20</th>\n",
       "      <td>2020-11-09</td>\n",
       "      <td>21</td>\n",
       "      <td>5.0</td>\n",
       "      <td>1268.0</td>\n",
       "      <td>0.8603</td>\n",
       "      <td>142.0</td>\n",
       "    </tr>\n",
       "    <tr>\n",
       "      <th>21</th>\n",
       "      <td>2020-11-16</td>\n",
       "      <td>22</td>\n",
       "      <td>0.0</td>\n",
       "      <td>0.0</td>\n",
       "      <td>0.8603</td>\n",
       "      <td>142.0</td>\n",
       "    </tr>\n",
       "    <tr>\n",
       "      <th>22</th>\n",
       "      <td>2020-11-23</td>\n",
       "      <td>23</td>\n",
       "      <td>16.0</td>\n",
       "      <td>690.0</td>\n",
       "      <td>0.9573</td>\n",
       "      <td>158.0</td>\n",
       "    </tr>\n",
       "    <tr>\n",
       "      <th>23</th>\n",
       "      <td>2020-11-30</td>\n",
       "      <td>24</td>\n",
       "      <td>5.0</td>\n",
       "      <td>339.0</td>\n",
       "      <td>0.9876</td>\n",
       "      <td>163.0</td>\n",
       "    </tr>\n",
       "    <tr>\n",
       "      <th>24</th>\n",
       "      <td>2020-12-07</td>\n",
       "      <td>25</td>\n",
       "      <td>1.0</td>\n",
       "      <td>111.0</td>\n",
       "      <td>0.9937</td>\n",
       "      <td>164.0</td>\n",
       "    </tr>\n",
       "    <tr>\n",
       "      <th>25</th>\n",
       "      <td>2020-12-14</td>\n",
       "      <td>26</td>\n",
       "      <td>1.0</td>\n",
       "      <td>111.0</td>\n",
       "      <td>0.9998</td>\n",
       "      <td>165.0</td>\n",
       "    </tr>\n",
       "  </tbody>\n",
       "</table>\n",
       "</div>"
      ],
      "text/plain": [
       "         date  week  missions_completed  minutes_spent  finished_pct  \\\n",
       "0  2020-06-22     1                 5.0          277.0        0.0303   \n",
       "1  2020-06-29     2                10.0         1231.0        0.0909   \n",
       "2  2020-07-06     3                 7.0          646.0        0.1333   \n",
       "3  2020-07-13     4                 7.0          843.0        0.1757   \n",
       "4  2020-07-20     5                 6.0         1133.0        0.2121   \n",
       "5  2020-07-27     6                16.0         1369.0        0.3091   \n",
       "6  2020-08-03     7                 4.0          446.0        0.3333   \n",
       "7  2020-08-10     8                10.0         1017.0        0.3939   \n",
       "8  2020-08-17     9                 9.0          837.0        0.4484   \n",
       "9  2020-08-24    10                 4.0          446.0        0.4726   \n",
       "10 2020-08-31    11                 4.0          446.0        0.4968   \n",
       "11 2020-09-07    12                 5.0          783.0        0.5271   \n",
       "12 2020-09-14    13                 1.0          111.0        0.5332   \n",
       "13 2020-09-21    14                 4.0          446.0        0.5574   \n",
       "14 2020-09-28    15                 4.0          446.0        0.5816   \n",
       "15 2020-10-05    16                 9.0         1058.0        0.6361   \n",
       "16 2020-10-12    17                13.0         1341.0        0.7149   \n",
       "17 2020-10-19    18                 0.0            0.0        0.7149   \n",
       "18 2020-10-26    19                12.0         1175.0        0.7876   \n",
       "19 2020-11-02    20                 7.0         1817.0        0.8300   \n",
       "20 2020-11-09    21                 5.0         1268.0        0.8603   \n",
       "21 2020-11-16    22                 0.0            0.0        0.8603   \n",
       "22 2020-11-23    23                16.0          690.0        0.9573   \n",
       "23 2020-11-30    24                 5.0          339.0        0.9876   \n",
       "24 2020-12-07    25                 1.0          111.0        0.9937   \n",
       "25 2020-12-14    26                 1.0          111.0        0.9998   \n",
       "\n",
       "    missions_cum_sum  \n",
       "0                5.0  \n",
       "1               15.0  \n",
       "2               22.0  \n",
       "3               29.0  \n",
       "4               35.0  \n",
       "5               51.0  \n",
       "6               55.0  \n",
       "7               65.0  \n",
       "8               74.0  \n",
       "9               78.0  \n",
       "10              82.0  \n",
       "11              87.0  \n",
       "12              88.0  \n",
       "13              92.0  \n",
       "14              96.0  \n",
       "15             105.0  \n",
       "16             118.0  \n",
       "17             118.0  \n",
       "18             130.0  \n",
       "19             137.0  \n",
       "20             142.0  \n",
       "21             142.0  \n",
       "22             158.0  \n",
       "23             163.0  \n",
       "24             164.0  \n",
       "25             165.0  "
      ]
     },
     "execution_count": 99,
     "metadata": {},
     "output_type": "execute_result"
    }
   ],
   "source": [
    "all_dates_curve"
   ]
  },
  {
   "cell_type": "code",
   "execution_count": 100,
   "metadata": {
    "scrolled": false
   },
   "outputs": [
    {
     "data": {
      "image/svg+xml": [
       "<svg class=\"main-svg\" xmlns=\"http://www.w3.org/2000/svg\" xmlns:xlink=\"http://www.w3.org/1999/xlink\" width=\"700\" height=\"450\" style=\"\" viewBox=\"0 0 700 450\"><rect x=\"0\" y=\"0\" width=\"700\" height=\"450\" style=\"fill: rgb(255, 255, 255); fill-opacity: 1;\"/><defs id=\"defs-cd1535\"><g class=\"clips\"><clipPath id=\"clipcd1535xyplot\" class=\"plotclip\"><rect width=\"540\" height=\"248\"/></clipPath><clipPath class=\"axesclip\" id=\"clipcd1535x\"><rect x=\"80\" y=\"0\" width=\"540\" height=\"450\"/></clipPath><clipPath class=\"axesclip\" id=\"clipcd1535y\"><rect x=\"0\" y=\"100\" width=\"700\" height=\"248\"/></clipPath><clipPath class=\"axesclip\" id=\"clipcd1535xy\"><rect x=\"80\" y=\"100\" width=\"540\" height=\"248\"/></clipPath></g><g class=\"gradients\"/></defs><g class=\"bglayer\"><rect class=\"bg\" x=\"80\" y=\"100\" width=\"540\" height=\"248\" style=\"fill: rgb(229, 236, 246); fill-opacity: 1; stroke-width: 0;\"/></g><g class=\"layer-below\"><g class=\"imagelayer\"/><g class=\"shapelayer\"/></g><g class=\"cartesianlayer\"><g class=\"subplot xy\"><g class=\"layer-subplot\"><g class=\"shapelayer\"/><g class=\"imagelayer\"/></g><g class=\"gridlayer\"><g class=\"x\"><path class=\"xgrid crisp\" transform=\"translate(101.6,0)\" d=\"M0,100v248\" style=\"stroke: rgb(255, 255, 255); stroke-opacity: 1; stroke-width: 1px;\"/><path class=\"xgrid crisp\" transform=\"translate(123.2,0)\" d=\"M0,100v248\" style=\"stroke: rgb(255, 255, 255); stroke-opacity: 1; stroke-width: 1px;\"/><path class=\"xgrid crisp\" transform=\"translate(144.8,0)\" d=\"M0,100v248\" style=\"stroke: rgb(255, 255, 255); stroke-opacity: 1; stroke-width: 1px;\"/><path class=\"xgrid crisp\" transform=\"translate(166.4,0)\" d=\"M0,100v248\" style=\"stroke: rgb(255, 255, 255); stroke-opacity: 1; stroke-width: 1px;\"/><path class=\"xgrid crisp\" transform=\"translate(188,0)\" d=\"M0,100v248\" style=\"stroke: rgb(255, 255, 255); stroke-opacity: 1; stroke-width: 1px;\"/><path class=\"xgrid crisp\" transform=\"translate(209.6,0)\" d=\"M0,100v248\" style=\"stroke: rgb(255, 255, 255); stroke-opacity: 1; stroke-width: 1px;\"/><path class=\"xgrid crisp\" transform=\"translate(231.2,0)\" d=\"M0,100v248\" style=\"stroke: rgb(255, 255, 255); stroke-opacity: 1; stroke-width: 1px;\"/><path class=\"xgrid crisp\" transform=\"translate(252.8,0)\" d=\"M0,100v248\" style=\"stroke: rgb(255, 255, 255); stroke-opacity: 1; stroke-width: 1px;\"/><path class=\"xgrid crisp\" transform=\"translate(274.4,0)\" d=\"M0,100v248\" style=\"stroke: rgb(255, 255, 255); stroke-opacity: 1; stroke-width: 1px;\"/><path class=\"xgrid crisp\" transform=\"translate(296,0)\" d=\"M0,100v248\" style=\"stroke: rgb(255, 255, 255); stroke-opacity: 1; stroke-width: 1px;\"/><path class=\"xgrid crisp\" transform=\"translate(317.6,0)\" d=\"M0,100v248\" style=\"stroke: rgb(255, 255, 255); stroke-opacity: 1; stroke-width: 1px;\"/><path class=\"xgrid crisp\" transform=\"translate(339.2,0)\" d=\"M0,100v248\" style=\"stroke: rgb(255, 255, 255); stroke-opacity: 1; stroke-width: 1px;\"/><path class=\"xgrid crisp\" transform=\"translate(360.8,0)\" d=\"M0,100v248\" style=\"stroke: rgb(255, 255, 255); stroke-opacity: 1; stroke-width: 1px;\"/><path class=\"xgrid crisp\" transform=\"translate(382.4,0)\" d=\"M0,100v248\" style=\"stroke: rgb(255, 255, 255); stroke-opacity: 1; stroke-width: 1px;\"/><path class=\"xgrid crisp\" transform=\"translate(404,0)\" d=\"M0,100v248\" style=\"stroke: rgb(255, 255, 255); stroke-opacity: 1; stroke-width: 1px;\"/><path class=\"xgrid crisp\" transform=\"translate(425.6,0)\" d=\"M0,100v248\" style=\"stroke: rgb(255, 255, 255); stroke-opacity: 1; stroke-width: 1px;\"/><path class=\"xgrid crisp\" transform=\"translate(447.2,0)\" d=\"M0,100v248\" style=\"stroke: rgb(255, 255, 255); stroke-opacity: 1; stroke-width: 1px;\"/><path class=\"xgrid crisp\" transform=\"translate(468.8,0)\" d=\"M0,100v248\" style=\"stroke: rgb(255, 255, 255); stroke-opacity: 1; stroke-width: 1px;\"/><path class=\"xgrid crisp\" transform=\"translate(490.4,0)\" d=\"M0,100v248\" style=\"stroke: rgb(255, 255, 255); stroke-opacity: 1; stroke-width: 1px;\"/><path class=\"xgrid crisp\" transform=\"translate(512,0)\" d=\"M0,100v248\" style=\"stroke: rgb(255, 255, 255); stroke-opacity: 1; stroke-width: 1px;\"/><path class=\"xgrid crisp\" transform=\"translate(533.6,0)\" d=\"M0,100v248\" style=\"stroke: rgb(255, 255, 255); stroke-opacity: 1; stroke-width: 1px;\"/><path class=\"xgrid crisp\" transform=\"translate(555.2,0)\" d=\"M0,100v248\" style=\"stroke: rgb(255, 255, 255); stroke-opacity: 1; stroke-width: 1px;\"/><path class=\"xgrid crisp\" transform=\"translate(576.8,0)\" d=\"M0,100v248\" style=\"stroke: rgb(255, 255, 255); stroke-opacity: 1; stroke-width: 1px;\"/><path class=\"xgrid crisp\" transform=\"translate(598.4,0)\" d=\"M0,100v248\" style=\"stroke: rgb(255, 255, 255); stroke-opacity: 1; stroke-width: 1px;\"/></g><g class=\"y\"><path class=\"ygrid crisp\" transform=\"translate(0,285.02)\" d=\"M80,0h540\" style=\"stroke: rgb(255, 255, 255); stroke-opacity: 1; stroke-width: 1px;\"/><path class=\"ygrid crisp\" transform=\"translate(0,227.45999999999998)\" d=\"M80,0h540\" style=\"stroke: rgb(255, 255, 255); stroke-opacity: 1; stroke-width: 1px;\"/><path class=\"ygrid crisp\" transform=\"translate(0,169.91)\" d=\"M80,0h540\" style=\"stroke: rgb(255, 255, 255); stroke-opacity: 1; stroke-width: 1px;\"/><path class=\"ygrid crisp\" transform=\"translate(0,112.35)\" d=\"M80,0h540\" style=\"stroke: rgb(255, 255, 255); stroke-opacity: 1; stroke-width: 1px;\"/></g></g><g class=\"zerolinelayer\"><path class=\"yzl zl crisp\" transform=\"translate(0,342.58000000000004)\" d=\"M80,0h540\" style=\"stroke: rgb(255, 255, 255); stroke-opacity: 1; stroke-width: 2px;\"/></g><path class=\"xlines-below\"/><path class=\"ylines-below\"/><g class=\"overlines-below\"/><g class=\"xaxislayer-below\"/><g class=\"yaxislayer-below\"/><g class=\"overaxes-below\"/><g class=\"plot\" transform=\"translate(80,100)\" clip-path=\"url('#clipcd1535xyplot')\"><g class=\"scatterlayer mlayer\"><g class=\"trace scatter trace53a4b9\" style=\"stroke-miterlimit: 2; opacity: 1;\"><g class=\"fills\"/><g class=\"errorbars\"/><g class=\"lines\"><path class=\"js-line\" d=\"M0,235.6L21.6,221.65L43.2,211.89L64.8,202.13L86.4,193.75L108,171.41L129.6,165.84L151.2,151.89L172.8,139.34L216,128.2L237.6,121.23L259.2,119.82L280.8,114.25L302.4,108.68L324,96.13L345.6,77.99L367.2,77.99L388.8,61.25L410.4,51.49L432,44.52L453.6,44.52L475.2,22.18L496.8,15.21L540,12.4\" style=\"vector-effect: non-scaling-stroke; fill: none; stroke: rgb(99, 110, 250); stroke-opacity: 1; stroke-width: 2px; opacity: 1;\"/></g><g class=\"points\"/><g class=\"text\"/></g></g></g><g class=\"overplot\"/><path class=\"xlines-above crisp\" d=\"M0,0\" style=\"fill: none;\"/><path class=\"ylines-above crisp\" d=\"M0,0\" style=\"fill: none;\"/><g class=\"overlines-above\"/><g class=\"xaxislayer-above\"><g class=\"xtick\"><text text-anchor=\"start\" x=\"0\" y=\"361\" transform=\"translate(80,0) rotate(45,0,355)\" style=\"font-family: 'Open Sans', verdana, arial, sans-serif; font-size: 12px; fill: rgb(42, 63, 95); fill-opacity: 1; white-space: pre;\">Jun 22, 2020</text></g><g class=\"xtick\"><text text-anchor=\"start\" x=\"0\" y=\"361\" transform=\"translate(101.6,0) rotate(45,0,355)\" style=\"font-family: 'Open Sans', verdana, arial, sans-serif; font-size: 12px; fill: rgb(42, 63, 95); fill-opacity: 1; white-space: pre;\">Jun 29, 2020</text></g><g class=\"xtick\"><text text-anchor=\"start\" x=\"0\" y=\"361\" transform=\"translate(123.2,0) rotate(45,0,355)\" style=\"font-family: 'Open Sans', verdana, arial, sans-serif; font-size: 12px; fill: rgb(42, 63, 95); fill-opacity: 1; white-space: pre;\">Jul 6, 2020</text></g><g class=\"xtick\"><text text-anchor=\"start\" x=\"0\" y=\"361\" transform=\"translate(144.8,0) rotate(45,0,355)\" style=\"font-family: 'Open Sans', verdana, arial, sans-serif; font-size: 12px; fill: rgb(42, 63, 95); fill-opacity: 1; white-space: pre;\">Jul 13, 2020</text></g><g class=\"xtick\"><text text-anchor=\"start\" x=\"0\" y=\"361\" transform=\"translate(166.4,0) rotate(45,0,355)\" style=\"font-family: 'Open Sans', verdana, arial, sans-serif; font-size: 12px; fill: rgb(42, 63, 95); fill-opacity: 1; white-space: pre;\">Jul 20, 2020</text></g><g class=\"xtick\"><text text-anchor=\"start\" x=\"0\" y=\"361\" transform=\"translate(188,0) rotate(45,0,355)\" style=\"font-family: 'Open Sans', verdana, arial, sans-serif; font-size: 12px; fill: rgb(42, 63, 95); fill-opacity: 1; white-space: pre;\">Jul 27, 2020</text></g><g class=\"xtick\"><text text-anchor=\"start\" x=\"0\" y=\"361\" transform=\"translate(209.6,0) rotate(45,0,355)\" style=\"font-family: 'Open Sans', verdana, arial, sans-serif; font-size: 12px; fill: rgb(42, 63, 95); fill-opacity: 1; white-space: pre;\">Aug 3, 2020</text></g><g class=\"xtick\"><text text-anchor=\"start\" x=\"0\" y=\"361\" transform=\"translate(231.2,0) rotate(45,0,355)\" style=\"font-family: 'Open Sans', verdana, arial, sans-serif; font-size: 12px; fill: rgb(42, 63, 95); fill-opacity: 1; white-space: pre;\">Aug 10, 2020</text></g><g class=\"xtick\"><text text-anchor=\"start\" x=\"0\" y=\"361\" transform=\"translate(252.8,0) rotate(45,0,355)\" style=\"font-family: 'Open Sans', verdana, arial, sans-serif; font-size: 12px; fill: rgb(42, 63, 95); fill-opacity: 1; white-space: pre;\">Aug 17, 2020</text></g><g class=\"xtick\"><text text-anchor=\"start\" x=\"0\" y=\"361\" transform=\"translate(274.4,0) rotate(45,0,355)\" style=\"font-family: 'Open Sans', verdana, arial, sans-serif; font-size: 12px; fill: rgb(42, 63, 95); fill-opacity: 1; white-space: pre;\">Aug 24, 2020</text></g><g class=\"xtick\"><text text-anchor=\"start\" x=\"0\" y=\"361\" transform=\"translate(296,0) rotate(45,0,355)\" style=\"font-family: 'Open Sans', verdana, arial, sans-serif; font-size: 12px; fill: rgb(42, 63, 95); fill-opacity: 1; white-space: pre;\">Aug 31, 2020</text></g><g class=\"xtick\"><text text-anchor=\"start\" x=\"0\" y=\"361\" transform=\"translate(317.6,0) rotate(45,0,355)\" style=\"font-family: 'Open Sans', verdana, arial, sans-serif; font-size: 12px; fill: rgb(42, 63, 95); fill-opacity: 1; white-space: pre;\">Sep 7, 2020</text></g><g class=\"xtick\"><text text-anchor=\"start\" x=\"0\" y=\"361\" transform=\"translate(339.2,0) rotate(45,0,355)\" style=\"font-family: 'Open Sans', verdana, arial, sans-serif; font-size: 12px; fill: rgb(42, 63, 95); fill-opacity: 1; white-space: pre;\">Sep 14, 2020</text></g><g class=\"xtick\"><text text-anchor=\"start\" x=\"0\" y=\"361\" transform=\"translate(360.8,0) rotate(45,0,355)\" style=\"font-family: 'Open Sans', verdana, arial, sans-serif; font-size: 12px; fill: rgb(42, 63, 95); fill-opacity: 1; white-space: pre;\">Sep 21, 2020</text></g><g class=\"xtick\"><text text-anchor=\"start\" x=\"0\" y=\"361\" transform=\"translate(382.4,0) rotate(45,0,355)\" style=\"font-family: 'Open Sans', verdana, arial, sans-serif; font-size: 12px; fill: rgb(42, 63, 95); fill-opacity: 1; white-space: pre;\">Sep 28, 2020</text></g><g class=\"xtick\"><text text-anchor=\"start\" x=\"0\" y=\"361\" transform=\"translate(404,0) rotate(45,0,355)\" style=\"font-family: 'Open Sans', verdana, arial, sans-serif; font-size: 12px; fill: rgb(42, 63, 95); fill-opacity: 1; white-space: pre;\">Oct 5, 2020</text></g><g class=\"xtick\"><text text-anchor=\"start\" x=\"0\" y=\"361\" transform=\"translate(425.6,0) rotate(45,0,355)\" style=\"font-family: 'Open Sans', verdana, arial, sans-serif; font-size: 12px; fill: rgb(42, 63, 95); fill-opacity: 1; white-space: pre;\">Oct 12, 2020</text></g><g class=\"xtick\"><text text-anchor=\"start\" x=\"0\" y=\"361\" transform=\"translate(447.2,0) rotate(45,0,355)\" style=\"font-family: 'Open Sans', verdana, arial, sans-serif; font-size: 12px; fill: rgb(42, 63, 95); fill-opacity: 1; white-space: pre;\">Oct 19, 2020</text></g><g class=\"xtick\"><text text-anchor=\"start\" x=\"0\" y=\"361\" transform=\"translate(468.8,0) rotate(45,0,355)\" style=\"font-family: 'Open Sans', verdana, arial, sans-serif; font-size: 12px; fill: rgb(42, 63, 95); fill-opacity: 1; white-space: pre;\">Oct 26, 2020</text></g><g class=\"xtick\"><text text-anchor=\"start\" x=\"0\" y=\"361\" transform=\"translate(490.4,0) rotate(45,0,355)\" style=\"font-family: 'Open Sans', verdana, arial, sans-serif; font-size: 12px; fill: rgb(42, 63, 95); fill-opacity: 1; white-space: pre;\">Nov 2, 2020</text></g><g class=\"xtick\"><text text-anchor=\"start\" x=\"0\" y=\"361\" transform=\"translate(512,0) rotate(45,0,355)\" style=\"font-family: 'Open Sans', verdana, arial, sans-serif; font-size: 12px; fill: rgb(42, 63, 95); fill-opacity: 1; white-space: pre;\">Nov 9, 2020</text></g><g class=\"xtick\"><text text-anchor=\"start\" x=\"0\" y=\"361\" transform=\"translate(533.6,0) rotate(45,0,355)\" style=\"font-family: 'Open Sans', verdana, arial, sans-serif; font-size: 12px; fill: rgb(42, 63, 95); fill-opacity: 1; white-space: pre;\">Nov 16, 2020</text></g><g class=\"xtick\"><text text-anchor=\"start\" x=\"0\" y=\"361\" transform=\"translate(555.2,0) rotate(45,0,355)\" style=\"font-family: 'Open Sans', verdana, arial, sans-serif; font-size: 12px; fill: rgb(42, 63, 95); fill-opacity: 1; white-space: pre;\">Nov 23, 2020</text></g><g class=\"xtick\"><text text-anchor=\"start\" x=\"0\" y=\"361\" transform=\"translate(576.8,0) rotate(45,0,355)\" style=\"font-family: 'Open Sans', verdana, arial, sans-serif; font-size: 12px; fill: rgb(42, 63, 95); fill-opacity: 1; white-space: pre;\">Nov 30, 2020</text></g><g class=\"xtick\"><text text-anchor=\"start\" x=\"0\" y=\"361\" transform=\"translate(598.4,0) rotate(45,0,355)\" style=\"font-family: 'Open Sans', verdana, arial, sans-serif; font-size: 12px; fill: rgb(42, 63, 95); fill-opacity: 1; white-space: pre;\">Dec 7, 2020</text></g><g class=\"xtick\"><text text-anchor=\"start\" x=\"0\" y=\"361\" transform=\"translate(620,0) rotate(45,0,355)\" style=\"font-family: 'Open Sans', verdana, arial, sans-serif; font-size: 12px; fill: rgb(42, 63, 95); fill-opacity: 1; white-space: pre;\">Dec 14, 2020</text></g></g><g class=\"yaxislayer-above\"><g class=\"ytick\"><text text-anchor=\"end\" x=\"79\" y=\"4.199999999999999\" transform=\"translate(0,342.58000000000004)\" style=\"font-family: 'Open Sans', verdana, arial, sans-serif; font-size: 12px; fill: rgb(42, 63, 95); fill-opacity: 1; white-space: pre;\">0%</text></g><g class=\"ytick\"><text text-anchor=\"end\" x=\"79\" y=\"4.199999999999999\" transform=\"translate(0,285.02)\" style=\"font-family: 'Open Sans', verdana, arial, sans-serif; font-size: 12px; fill: rgb(42, 63, 95); fill-opacity: 1; white-space: pre;\">25%</text></g><g class=\"ytick\"><text text-anchor=\"end\" x=\"79\" y=\"4.199999999999999\" transform=\"translate(0,227.45999999999998)\" style=\"font-family: 'Open Sans', verdana, arial, sans-serif; font-size: 12px; fill: rgb(42, 63, 95); fill-opacity: 1; white-space: pre;\">50%</text></g><g class=\"ytick\"><text text-anchor=\"end\" x=\"79\" y=\"4.199999999999999\" transform=\"translate(0,169.91)\" style=\"font-family: 'Open Sans', verdana, arial, sans-serif; font-size: 12px; fill: rgb(42, 63, 95); fill-opacity: 1; white-space: pre;\">75%</text></g><g class=\"ytick\"><text text-anchor=\"end\" x=\"79\" y=\"4.199999999999999\" transform=\"translate(0,112.35)\" style=\"font-family: 'Open Sans', verdana, arial, sans-serif; font-size: 12px; fill: rgb(42, 63, 95); fill-opacity: 1; white-space: pre;\">100%</text></g></g><g class=\"overaxes-above\"/></g></g><g class=\"polarlayer\"/><g class=\"ternarylayer\"/><g class=\"geolayer\"/><g class=\"funnelarealayer\"/><g class=\"pielayer\"/><g class=\"treemaplayer\"/><g class=\"sunburstlayer\"/><g class=\"glimages\"/><defs id=\"topdefs-cd1535\"><g class=\"clips\"/></defs><g class=\"layer-above\"><g class=\"imagelayer\"/><g class=\"shapelayer\"/></g><g class=\"infolayer\"><g class=\"g-gtitle\"><text class=\"gtitle\" x=\"35\" y=\"50\" text-anchor=\"start\" dy=\"0em\" style=\"font-family: 'Open Sans', verdana, arial, sans-serif; font-size: 17px; fill: rgb(42, 63, 95); opacity: 1; font-weight: normal; white-space: pre;\">Learning Curve In Percentage</text></g><g class=\"g-xtitle\"><text class=\"xtitle\" x=\"350\" y=\"437.8927734375\" text-anchor=\"middle\" style=\"font-family: 'Open Sans', verdana, arial, sans-serif; font-size: 14px; fill: rgb(42, 63, 95); opacity: 1; font-weight: normal; white-space: pre;\">Date</text></g><g class=\"g-ytitle\"><text class=\"ytitle\" transform=\"rotate(-90,23.731250000000003,224)\" x=\"23.731250000000003\" y=\"224\" text-anchor=\"middle\" style=\"font-family: 'Open Sans', verdana, arial, sans-serif; font-size: 14px; fill: rgb(42, 63, 95); opacity: 1; font-weight: normal; white-space: pre;\">Percentage Completed</text></g></g></svg>"
      ]
     },
     "metadata": {},
     "output_type": "display_data"
    }
   ],
   "source": [
    "# Update learning curve line plot & compare with DQ generated learning curve\n",
    "fig4 = px.line(all_dates_curve,\n",
    "               x = 'date',\n",
    "               y = 'finished_pct', \n",
    "               title = 'Learning Curve In Percentage',\n",
    "               width = 600,\n",
    "               height = 500)\n",
    "\n",
    "fig4.update_layout(\n",
    "    xaxis = dict(tickvals = all_dates_curve.date,\n",
    "                title = 'Date',\n",
    "                tickangle = 45),\n",
    "    \n",
    "    yaxis = dict(\n",
    "        title = 'Percentage Completed',\n",
    "        tickvals = np.arange(0,1.25,0.25),\n",
    "        tickformat = '%',\n",
    "    )\n",
    ")\n",
    "\n",
    "fig4.show('svg')"
   ]
  },
  {
   "cell_type": "markdown",
   "metadata": {},
   "source": [
    "<img style=\"float: left\" width=\"450\" src=\"learning_curve.png\">\n",
    "<img style=\"position: absolute; left: 170px; top: 70px; z-index: 1; opacity: 0.5\" width=\"360\", src=\"learning_curve_imitaiton.png\">"
   ]
  },
  {
   "cell_type": "markdown",
   "metadata": {},
   "source": [
    "The two images looks close enough. Now let's find some answers to our questions. "
   ]
  },
  {
   "cell_type": "markdown",
   "metadata": {},
   "source": [
    "## Analysis\n",
    "---\n",
    "During the whole journey, there are at least two weeks I didn't study at all. So I will take out 14 days/2 weeks in some of the calculations that involves only days I studied."
   ]
  },
  {
   "cell_type": "markdown",
   "metadata": {},
   "source": [
    "### General metrics"
   ]
  },
  {
   "cell_type": "code",
   "execution_count": 101,
   "metadata": {
    "scrolled": true
   },
   "outputs": [
    {
     "name": "stdout",
     "output_type": "stream",
     "text": [
      "Finished data scientist path in 175 days 00:00:00\n"
     ]
    }
   ],
   "source": [
    "# Calculate Total learning span: June 19th,2020 - December 11th, 2020, they happend to both be 3 days apart from the next monday\n",
    "learning_span = all_dates_curve.date.iloc[-1] - all_dates_curve.date.iloc[0]\n",
    "print('Finished data scientist path in', learning_span)"
   ]
  },
  {
   "cell_type": "code",
   "execution_count": 102,
   "metadata": {},
   "outputs": [
    {
     "name": "stdout",
     "output_type": "stream",
     "text": [
      "Total hours spent on finishing the path:  306.4 hours.\n"
     ]
    }
   ],
   "source": [
    "# Total hours spent on the path\n",
    "total_minutes_complete = all_dates_curve.minutes_spent.sum()\n",
    "total_hours_complete = total_minutes_complete/60\n",
    "print('Total hours spent on finishing the path: ', round(total_hours_complete, 1) , 'hours.')"
   ]
  },
  {
   "cell_type": "code",
   "execution_count": 103,
   "metadata": {},
   "outputs": [
    {
     "name": "stdout",
     "output_type": "stream",
     "text": [
      "Average hours spent per week:  12.76875\n"
     ]
    }
   ],
   "source": [
    "# Average hours spent per studying week\n",
    "avg_hr_week = (total_minutes_complete/24)/60\n",
    "print('Average hours spent per week: ', avg_hr_week)"
   ]
  },
  {
   "cell_type": "code",
   "execution_count": 104,
   "metadata": {},
   "outputs": [
    {
     "name": "stdout",
     "output_type": "stream",
     "text": [
      "Average missions completed per week:  10.3125\n"
     ]
    }
   ],
   "source": [
    "# Average mission per week (not including weeks with no mission completed)\n",
    "missions_perweek_avg = 165/learning_curve.shape[0]\n",
    "print('Average missions completed per week: ', missions_perweek_avg)"
   ]
  },
  {
   "cell_type": "code",
   "execution_count": 105,
   "metadata": {},
   "outputs": [
    {
     "name": "stdout",
     "output_type": "stream",
     "text": [
      "The average leraning streak was 6.6875\n"
     ]
    }
   ],
   "source": [
    "# Calculate average streak in learning curve \n",
    "avg_streak = learning_curve['learning_streak(days)'].mean()\n",
    "print('The average leraning streak was', avg_streak)"
   ]
  },
  {
   "cell_type": "markdown",
   "metadata": {},
   "source": [
    "### Curriculum related\n",
    "--- \n",
    "My roadmap:\n",
    "* I started with Step 1 of the curriculum but only proceeded with the first 5 missions because I just learned all the Python fundamentals in another course. \n",
    "* After the first 5 missions, I proceeded with Step 2 and then by order, until the last mission of Step 6. \n",
    "* Then I went back to finish the non-project missions in Step 1, then go back to Step 7 and Step 8. \n",
    "* Lastly I finished the 2 guided projects in Step 1. "
   ]
  },
  {
   "cell_type": "code",
   "execution_count": 106,
   "metadata": {
    "scrolled": false
   },
   "outputs": [
    {
     "name": "stdout",
     "output_type": "stream",
     "text": [
      "Check non-duplicate actual order number: 165\n"
     ]
    },
    {
     "data": {
      "text/html": [
       "<div>\n",
       "<style scoped>\n",
       "    .dataframe tbody tr th:only-of-type {\n",
       "        vertical-align: middle;\n",
       "    }\n",
       "\n",
       "    .dataframe tbody tr th {\n",
       "        vertical-align: top;\n",
       "    }\n",
       "\n",
       "    .dataframe thead th {\n",
       "        text-align: right;\n",
       "    }\n",
       "</style>\n",
       "<table border=\"1\" class=\"dataframe\">\n",
       "  <thead>\n",
       "    <tr style=\"text-align: right;\">\n",
       "      <th></th>\n",
       "      <th></th>\n",
       "      <th>mission</th>\n",
       "      <th>natural_ord</th>\n",
       "      <th>actual_ord</th>\n",
       "    </tr>\n",
       "  </thead>\n",
       "  <tbody>\n",
       "    <tr>\n",
       "      <th rowspan=\"14\" valign=\"top\">Step 1</th>\n",
       "      <th>Python for Data Science: Fundamentals</th>\n",
       "      <td>Programming in Python</td>\n",
       "      <td>1</td>\n",
       "      <td>1</td>\n",
       "    </tr>\n",
       "    <tr>\n",
       "      <th>Python for Data Science: Fundamentals</th>\n",
       "      <td>Variables and Data Types</td>\n",
       "      <td>2</td>\n",
       "      <td>2</td>\n",
       "    </tr>\n",
       "    <tr>\n",
       "      <th>Python for Data Science: Fundamentals</th>\n",
       "      <td>Lists and For Loops</td>\n",
       "      <td>3</td>\n",
       "      <td>3</td>\n",
       "    </tr>\n",
       "    <tr>\n",
       "      <th>Python for Data Science: Fundamentals</th>\n",
       "      <td>Conditional Statements</td>\n",
       "      <td>4</td>\n",
       "      <td>4</td>\n",
       "    </tr>\n",
       "    <tr>\n",
       "      <th>Python for Data Science: Fundamentals</th>\n",
       "      <td>Dictionaries and Frequency Tables</td>\n",
       "      <td>5</td>\n",
       "      <td>5</td>\n",
       "    </tr>\n",
       "    <tr>\n",
       "      <th>Python for Data Science: Fundamentals</th>\n",
       "      <td>Functions: Fundamentals</td>\n",
       "      <td>6</td>\n",
       "      <td>124</td>\n",
       "    </tr>\n",
       "    <tr>\n",
       "      <th>Python for Data Science: Fundamentals</th>\n",
       "      <td>Functions: Intermediate</td>\n",
       "      <td>7</td>\n",
       "      <td>125</td>\n",
       "    </tr>\n",
       "    <tr>\n",
       "      <th>Python for Data Science: Fundamentals</th>\n",
       "      <td>Project: Learn and Install Jupyter Notebook</td>\n",
       "      <td>8</td>\n",
       "      <td>126</td>\n",
       "    </tr>\n",
       "    <tr>\n",
       "      <th>Python for Data Science: Fundamentals</th>\n",
       "      <td>Guided Project: Profitable App Profiles for th...</td>\n",
       "      <td>9</td>\n",
       "      <td>164</td>\n",
       "    </tr>\n",
       "    <tr>\n",
       "      <th>Python for Data Science: Intermediate</th>\n",
       "      <td>Cleaning and Preparing Data in Python</td>\n",
       "      <td>10</td>\n",
       "      <td>127</td>\n",
       "    </tr>\n",
       "    <tr>\n",
       "      <th>Python for Data Science: Intermediate</th>\n",
       "      <td>Python Data Analysis Basics</td>\n",
       "      <td>11</td>\n",
       "      <td>128</td>\n",
       "    </tr>\n",
       "    <tr>\n",
       "      <th>Python for Data Science: Intermediate</th>\n",
       "      <td>Object-Oriented Python</td>\n",
       "      <td>12</td>\n",
       "      <td>129</td>\n",
       "    </tr>\n",
       "    <tr>\n",
       "      <th>Python for Data Science: Intermediate</th>\n",
       "      <td>Working with Dates and Times in Python</td>\n",
       "      <td>13</td>\n",
       "      <td>130</td>\n",
       "    </tr>\n",
       "    <tr>\n",
       "      <th>Python for Data Science: Intermediate</th>\n",
       "      <td>Guided Project: Exploring Hacker News Posts</td>\n",
       "      <td>14</td>\n",
       "      <td>165</td>\n",
       "    </tr>\n",
       "    <tr>\n",
       "      <th rowspan=\"6\" valign=\"top\">Step 2</th>\n",
       "      <th>Pandas and NumPy Fundamentals</th>\n",
       "      <td>Introduction to NumPy</td>\n",
       "      <td>15</td>\n",
       "      <td>6</td>\n",
       "    </tr>\n",
       "    <tr>\n",
       "      <th>Pandas and NumPy Fundamentals</th>\n",
       "      <td>Boolean Indexing with NumPy</td>\n",
       "      <td>16</td>\n",
       "      <td>7</td>\n",
       "    </tr>\n",
       "    <tr>\n",
       "      <th>Pandas and NumPy Fundamentals</th>\n",
       "      <td>Introduction to pandas</td>\n",
       "      <td>17</td>\n",
       "      <td>8</td>\n",
       "    </tr>\n",
       "    <tr>\n",
       "      <th>Pandas and NumPy Fundamentals</th>\n",
       "      <td>Exploring Data with pandas: Fundamentals</td>\n",
       "      <td>18</td>\n",
       "      <td>9</td>\n",
       "    </tr>\n",
       "    <tr>\n",
       "      <th>Pandas and NumPy Fundamentals</th>\n",
       "      <td>Exploring Data with pandas: Intermediate</td>\n",
       "      <td>19</td>\n",
       "      <td>10</td>\n",
       "    </tr>\n",
       "    <tr>\n",
       "      <th>Pandas and NumPy Fundamentals</th>\n",
       "      <td>Data Cleaning Basics</td>\n",
       "      <td>20</td>\n",
       "      <td>11</td>\n",
       "    </tr>\n",
       "  </tbody>\n",
       "</table>\n",
       "</div>"
      ],
      "text/plain": [
       "                                                                                        mission  \\\n",
       "Step 1 Python for Data Science: Fundamentals                              Programming in Python   \n",
       "       Python for Data Science: Fundamentals                           Variables and Data Types   \n",
       "       Python for Data Science: Fundamentals                                Lists and For Loops   \n",
       "       Python for Data Science: Fundamentals                             Conditional Statements   \n",
       "       Python for Data Science: Fundamentals                  Dictionaries and Frequency Tables   \n",
       "       Python for Data Science: Fundamentals                            Functions: Fundamentals   \n",
       "       Python for Data Science: Fundamentals                            Functions: Intermediate   \n",
       "       Python for Data Science: Fundamentals        Project: Learn and Install Jupyter Notebook   \n",
       "       Python for Data Science: Fundamentals  Guided Project: Profitable App Profiles for th...   \n",
       "       Python for Data Science: Intermediate              Cleaning and Preparing Data in Python   \n",
       "       Python for Data Science: Intermediate                        Python Data Analysis Basics   \n",
       "       Python for Data Science: Intermediate                             Object-Oriented Python   \n",
       "       Python for Data Science: Intermediate             Working with Dates and Times in Python   \n",
       "       Python for Data Science: Intermediate        Guided Project: Exploring Hacker News Posts   \n",
       "Step 2 Pandas and NumPy Fundamentals                                      Introduction to NumPy   \n",
       "       Pandas and NumPy Fundamentals                                Boolean Indexing with NumPy   \n",
       "       Pandas and NumPy Fundamentals                                     Introduction to pandas   \n",
       "       Pandas and NumPy Fundamentals                   Exploring Data with pandas: Fundamentals   \n",
       "       Pandas and NumPy Fundamentals                   Exploring Data with pandas: Intermediate   \n",
       "       Pandas and NumPy Fundamentals                                       Data Cleaning Basics   \n",
       "\n",
       "                                              natural_ord  actual_ord  \n",
       "Step 1 Python for Data Science: Fundamentals            1           1  \n",
       "       Python for Data Science: Fundamentals            2           2  \n",
       "       Python for Data Science: Fundamentals            3           3  \n",
       "       Python for Data Science: Fundamentals            4           4  \n",
       "       Python for Data Science: Fundamentals            5           5  \n",
       "       Python for Data Science: Fundamentals            6         124  \n",
       "       Python for Data Science: Fundamentals            7         125  \n",
       "       Python for Data Science: Fundamentals            8         126  \n",
       "       Python for Data Science: Fundamentals            9         164  \n",
       "       Python for Data Science: Intermediate           10         127  \n",
       "       Python for Data Science: Intermediate           11         128  \n",
       "       Python for Data Science: Intermediate           12         129  \n",
       "       Python for Data Science: Intermediate           13         130  \n",
       "       Python for Data Science: Intermediate           14         165  \n",
       "Step 2 Pandas and NumPy Fundamentals                   15           6  \n",
       "       Pandas and NumPy Fundamentals                   16           7  \n",
       "       Pandas and NumPy Fundamentals                   17           8  \n",
       "       Pandas and NumPy Fundamentals                   18           9  \n",
       "       Pandas and NumPy Fundamentals                   19          10  \n",
       "       Pandas and NumPy Fundamentals                   20          11  "
      ]
     },
     "execution_count": 106,
     "metadata": {},
     "output_type": "execute_result"
    }
   ],
   "source": [
    "# Get natural order for change points\n",
    "step2_first = ds_curriculum.loc['Step 2'].natural_ord[0]\n",
    "shift_ord = ds_curriculum.loc['Step 1'].natural_ord[-1] - 5\n",
    "\n",
    "step6_last = ds_curriculum.loc['Step 6'].natural_ord[-1]\n",
    "last_projects = projects.loc['Step 1'].natural_ord\n",
    "\n",
    "\n",
    "# Create a column that indicates the actual learning order of each mission\n",
    "ds_curriculum['actual_ord'] = 0\n",
    "for i in ds_curriculum.natural_ord:\n",
    "    if i < 6:\n",
    "        ds_curriculum.loc[ds_curriculum.natural_ord == i, 'actual_ord'] = i\n",
    "    elif i >= step2_first and i <= step6_last:\n",
    "        ds_curriculum.loc[ds_curriculum.natural_ord == i, 'actual_ord'] = i - shift_ord\n",
    "    elif i == last_projects[0]:\n",
    "        ds_curriculum.loc[ds_curriculum.natural_ord == i, 'actual_ord'] = 164\n",
    "    elif i == last_projects[1]:\n",
    "        ds_curriculum.loc[ds_curriculum.natural_ord == i, 'actual_ord'] = 165\n",
    "\n",
    "# Fill the actual order of the rest missions\n",
    "step6_last_ao = ds_curriculum.loc['Step 6'].actual_ord[-1]\n",
    "rest_fill = [x + step6_last_ao + 1 for x in list(range(len(ds_curriculum[ds_curriculum.actual_ord == 0])))]\n",
    "\n",
    "ds_curriculum.loc[ds_curriculum.actual_ord == 0, 'actual_ord'] = rest_fill\n",
    "\n",
    "# Sanity check\n",
    "print('Check non-duplicate actual order number:', len(set(ds_curriculum.actual_ord)))\n",
    "ds_curriculum.head(20)"
   ]
  },
  {
   "cell_type": "code",
   "execution_count": 107,
   "metadata": {
    "scrolled": false
   },
   "outputs": [],
   "source": [
    "# Create new columns in all_dates_curve with list of missions completed, courses and steps learned each week \n",
    "missions_cumsum = all_dates_curve.missions_cum_sum.astype(int)\n",
    "\n",
    "weekly_missions_list = []\n",
    "steps_list = []\n",
    "courses_list = []\n",
    "\n",
    "for i in all_dates_curve.index:\n",
    "    # Get missions range based on number of missions completed each week\n",
    "    if i == 0:\n",
    "        missions_range = range(1, missions_cumsum[i] + 1)\n",
    "    else:      \n",
    "        missions_range = range(missions_cumsum[i-1] + 1, missions_cumsum[i] + 1)\n",
    "    \n",
    "    # Get match missions iloc with actual order\n",
    "    indices = [j for j in range(165) if ds_curriculum.actual_ord[j] in missions_range]\n",
    "    \n",
    "    weekly_missions = ds_curriculum.iloc[indices].mission.values\n",
    "    weekly_missions_list.append(weekly_missions)\n",
    "    \n",
    "    step_course = list(set(ds_curriculum.iloc[indices].index))\n",
    "    steps = set()\n",
    "    courses = set()\n",
    "    for pair in step_course:\n",
    "        step = pair[0]\n",
    "        course = pair[1]\n",
    "        steps.add(step)\n",
    "        courses.add(course)\n",
    "        \n",
    "    steps_list.append(sorted(list(steps)))\n",
    "    courses_list.append(sorted(list(courses)))\n",
    "    \n",
    "\n",
    "all_dates_curve['missions'] = weekly_missions_list\n",
    "all_dates_curve['courses'] = courses_list\n",
    "all_dates_curve['steps'] = steps_list"
   ]
  },
  {
   "cell_type": "code",
   "execution_count": 108,
   "metadata": {},
   "outputs": [
    {
     "data": {
      "text/html": [
       "<div>\n",
       "<style scoped>\n",
       "    .dataframe tbody tr th:only-of-type {\n",
       "        vertical-align: middle;\n",
       "    }\n",
       "\n",
       "    .dataframe tbody tr th {\n",
       "        vertical-align: top;\n",
       "    }\n",
       "\n",
       "    .dataframe thead th {\n",
       "        text-align: right;\n",
       "    }\n",
       "</style>\n",
       "<table border=\"1\" class=\"dataframe\">\n",
       "  <thead>\n",
       "    <tr style=\"text-align: right;\">\n",
       "      <th></th>\n",
       "      <th>date</th>\n",
       "      <th>week</th>\n",
       "      <th>missions_completed</th>\n",
       "      <th>minutes_spent</th>\n",
       "      <th>finished_pct</th>\n",
       "      <th>missions_cum_sum</th>\n",
       "      <th>missions</th>\n",
       "      <th>courses</th>\n",
       "      <th>steps</th>\n",
       "    </tr>\n",
       "  </thead>\n",
       "  <tbody>\n",
       "    <tr>\n",
       "      <th>0</th>\n",
       "      <td>2020-06-22</td>\n",
       "      <td>1</td>\n",
       "      <td>5.0</td>\n",
       "      <td>277.0</td>\n",
       "      <td>0.0303</td>\n",
       "      <td>5.0</td>\n",
       "      <td>[Programming in Python, Variables and Data Typ...</td>\n",
       "      <td>[Python for Data Science: Fundamentals]</td>\n",
       "      <td>[Step 1]</td>\n",
       "    </tr>\n",
       "    <tr>\n",
       "      <th>1</th>\n",
       "      <td>2020-06-29</td>\n",
       "      <td>2</td>\n",
       "      <td>10.0</td>\n",
       "      <td>1231.0</td>\n",
       "      <td>0.0909</td>\n",
       "      <td>15.0</td>\n",
       "      <td>[Introduction to NumPy, Boolean Indexing with ...</td>\n",
       "      <td>[Exploratory Data Visualization, Pandas and Nu...</td>\n",
       "      <td>[Step 2]</td>\n",
       "    </tr>\n",
       "    <tr>\n",
       "      <th>2</th>\n",
       "      <td>2020-07-06</td>\n",
       "      <td>3</td>\n",
       "      <td>7.0</td>\n",
       "      <td>646.0</td>\n",
       "      <td>0.1333</td>\n",
       "      <td>22.0</td>\n",
       "      <td>[Histograms And Box Plots, Guided Project: Vis...</td>\n",
       "      <td>[Data Cleaning and Analysis, Exploratory Data ...</td>\n",
       "      <td>[Step 2]</td>\n",
       "    </tr>\n",
       "    <tr>\n",
       "      <th>3</th>\n",
       "      <td>2020-07-13</td>\n",
       "      <td>4</td>\n",
       "      <td>7.0</td>\n",
       "      <td>843.0</td>\n",
       "      <td>0.1757</td>\n",
       "      <td>29.0</td>\n",
       "      <td>[Combining Data With Pandas, Transforming Data...</td>\n",
       "      <td>[Data Cleaning and Analysis, Data Cleaning in ...</td>\n",
       "      <td>[Step 2]</td>\n",
       "    </tr>\n",
       "    <tr>\n",
       "      <th>4</th>\n",
       "      <td>2020-07-20</td>\n",
       "      <td>5</td>\n",
       "      <td>6.0</td>\n",
       "      <td>1133.0</td>\n",
       "      <td>0.2121</td>\n",
       "      <td>35.0</td>\n",
       "      <td>[List Comprehensions and Lambda Functions, Wor...</td>\n",
       "      <td>[Data Cleaning Project Walkthrough, Data Clean...</td>\n",
       "      <td>[Step 2]</td>\n",
       "    </tr>\n",
       "    <tr>\n",
       "      <th>5</th>\n",
       "      <td>2020-07-27</td>\n",
       "      <td>6</td>\n",
       "      <td>16.0</td>\n",
       "      <td>1369.0</td>\n",
       "      <td>0.3091</td>\n",
       "      <td>51.0</td>\n",
       "      <td>[Challenge: Cleaning Data, Guided Project: Sta...</td>\n",
       "      <td>[Data Cleaning Project Walkthrough, Elements o...</td>\n",
       "      <td>[Step 2, Step 3, Step 4]</td>\n",
       "    </tr>\n",
       "    <tr>\n",
       "      <th>6</th>\n",
       "      <td>2020-08-03</td>\n",
       "      <td>7</td>\n",
       "      <td>4.0</td>\n",
       "      <td>446.0</td>\n",
       "      <td>0.3333</td>\n",
       "      <td>55.0</td>\n",
       "      <td>[Guided Project: Analyzing CIA Factbook Data U...</td>\n",
       "      <td>[Intermediate SQL for Data Analysis, SQL Funda...</td>\n",
       "      <td>[Step 4]</td>\n",
       "    </tr>\n",
       "    <tr>\n",
       "      <th>7</th>\n",
       "      <td>2020-08-10</td>\n",
       "      <td>8</td>\n",
       "      <td>10.0</td>\n",
       "      <td>1017.0</td>\n",
       "      <td>0.3939</td>\n",
       "      <td>65.0</td>\n",
       "      <td>[Guided Project: Answering Business Questions ...</td>\n",
       "      <td>[APIs and Web Scraping in Python, Data Analysi...</td>\n",
       "      <td>[Step 4]</td>\n",
       "    </tr>\n",
       "    <tr>\n",
       "      <th>8</th>\n",
       "      <td>2020-08-17</td>\n",
       "      <td>9</td>\n",
       "      <td>9.0</td>\n",
       "      <td>837.0</td>\n",
       "      <td>0.4484</td>\n",
       "      <td>74.0</td>\n",
       "      <td>[Guided Project: Popular Data Science Question...</td>\n",
       "      <td>[Data Analysis in Business, Statistics Fundame...</td>\n",
       "      <td>[Step 4, Step 5]</td>\n",
       "    </tr>\n",
       "    <tr>\n",
       "      <th>9</th>\n",
       "      <td>2020-08-24</td>\n",
       "      <td>10</td>\n",
       "      <td>4.0</td>\n",
       "      <td>446.0</td>\n",
       "      <td>0.4726</td>\n",
       "      <td>78.0</td>\n",
       "      <td>[The Mode, Measures of Variability, Z-scores, ...</td>\n",
       "      <td>[Statistics Intermediate: Averages and Variabi...</td>\n",
       "      <td>[Step 5]</td>\n",
       "    </tr>\n",
       "    <tr>\n",
       "      <th>10</th>\n",
       "      <td>2020-08-31</td>\n",
       "      <td>11</td>\n",
       "      <td>4.0</td>\n",
       "      <td>446.0</td>\n",
       "      <td>0.4968</td>\n",
       "      <td>82.0</td>\n",
       "      <td>[Estimating Probabilities, Probability Rules, ...</td>\n",
       "      <td>[Probability: Fundamentals]</td>\n",
       "      <td>[Step 5]</td>\n",
       "    </tr>\n",
       "    <tr>\n",
       "      <th>11</th>\n",
       "      <td>2020-09-07</td>\n",
       "      <td>12</td>\n",
       "      <td>5.0</td>\n",
       "      <td>783.0</td>\n",
       "      <td>0.5271</td>\n",
       "      <td>87.0</td>\n",
       "      <td>[Guided Project: Mobile App for Lottery Addict...</td>\n",
       "      <td>[Conditional Probability, Probability: Fundame...</td>\n",
       "      <td>[Step 5]</td>\n",
       "    </tr>\n",
       "    <tr>\n",
       "      <th>12</th>\n",
       "      <td>2020-09-14</td>\n",
       "      <td>13</td>\n",
       "      <td>1.0</td>\n",
       "      <td>111.0</td>\n",
       "      <td>0.5332</td>\n",
       "      <td>88.0</td>\n",
       "      <td>[Guided Project: Building a Spam Filter with N...</td>\n",
       "      <td>[Conditional Probability]</td>\n",
       "      <td>[Step 5]</td>\n",
       "    </tr>\n",
       "    <tr>\n",
       "      <th>13</th>\n",
       "      <td>2020-09-21</td>\n",
       "      <td>14</td>\n",
       "      <td>4.0</td>\n",
       "      <td>446.0</td>\n",
       "      <td>0.5574</td>\n",
       "      <td>92.0</td>\n",
       "      <td>[Significance Testing, Chi-squared tests, Mult...</td>\n",
       "      <td>[Hypothesis Testing: Fundamentals]</td>\n",
       "      <td>[Step 5]</td>\n",
       "    </tr>\n",
       "    <tr>\n",
       "      <th>14</th>\n",
       "      <td>2020-09-28</td>\n",
       "      <td>15</td>\n",
       "      <td>4.0</td>\n",
       "      <td>446.0</td>\n",
       "      <td>0.5816</td>\n",
       "      <td>96.0</td>\n",
       "      <td>[Introduction to K-Nearest Neighbors, Evaluati...</td>\n",
       "      <td>[Machine Learning Fundamentals]</td>\n",
       "      <td>[Step 6]</td>\n",
       "    </tr>\n",
       "    <tr>\n",
       "      <th>15</th>\n",
       "      <td>2020-10-05</td>\n",
       "      <td>16</td>\n",
       "      <td>9.0</td>\n",
       "      <td>1058.0</td>\n",
       "      <td>0.6361</td>\n",
       "      <td>105.0</td>\n",
       "      <td>[Cross Validation, Guided Project: Predicting ...</td>\n",
       "      <td>[Calculus For Machine Learning, Linear Algebra...</td>\n",
       "      <td>[Step 6]</td>\n",
       "    </tr>\n",
       "    <tr>\n",
       "      <th>16</th>\n",
       "      <td>2020-10-12</td>\n",
       "      <td>17</td>\n",
       "      <td>13.0</td>\n",
       "      <td>1341.0</td>\n",
       "      <td>0.7149</td>\n",
       "      <td>118.0</td>\n",
       "      <td>[The Linear Regression Model, Feature Selectio...</td>\n",
       "      <td>[Linear Regression For Machine Learning, Machi...</td>\n",
       "      <td>[Step 6]</td>\n",
       "    </tr>\n",
       "    <tr>\n",
       "      <th>17</th>\n",
       "      <td>2020-10-19</td>\n",
       "      <td>18</td>\n",
       "      <td>0.0</td>\n",
       "      <td>0.0</td>\n",
       "      <td>0.7149</td>\n",
       "      <td>118.0</td>\n",
       "      <td>[]</td>\n",
       "      <td>[]</td>\n",
       "      <td>[]</td>\n",
       "    </tr>\n",
       "    <tr>\n",
       "      <th>18</th>\n",
       "      <td>2020-10-26</td>\n",
       "      <td>19</td>\n",
       "      <td>12.0</td>\n",
       "      <td>1175.0</td>\n",
       "      <td>0.7876</td>\n",
       "      <td>130.0</td>\n",
       "      <td>[Functions: Fundamentals, Functions: Intermedi...</td>\n",
       "      <td>[Decision Trees, Python for Data Science: Fund...</td>\n",
       "      <td>[Step 1, Step 6]</td>\n",
       "    </tr>\n",
       "    <tr>\n",
       "      <th>19</th>\n",
       "      <td>2020-11-02</td>\n",
       "      <td>20</td>\n",
       "      <td>7.0</td>\n",
       "      <td>1817.0</td>\n",
       "      <td>0.8300</td>\n",
       "      <td>137.0</td>\n",
       "      <td>[Representing Neural Networks, Nonlinear Activ...</td>\n",
       "      <td>[Deep Learning Fundamentals, Machine Learning ...</td>\n",
       "      <td>[Step 7]</td>\n",
       "    </tr>\n",
       "    <tr>\n",
       "      <th>20</th>\n",
       "      <td>2020-11-09</td>\n",
       "      <td>21</td>\n",
       "      <td>5.0</td>\n",
       "      <td>1268.0</td>\n",
       "      <td>0.8603</td>\n",
       "      <td>142.0</td>\n",
       "      <td>[Getting Started with Kaggle, Feature Preparat...</td>\n",
       "      <td>[Functions: Advanced, Kaggle Fundamentals]</td>\n",
       "      <td>[Step 7, Step 8]</td>\n",
       "    </tr>\n",
       "    <tr>\n",
       "      <th>21</th>\n",
       "      <td>2020-11-16</td>\n",
       "      <td>22</td>\n",
       "      <td>0.0</td>\n",
       "      <td>0.0</td>\n",
       "      <td>0.8603</td>\n",
       "      <td>142.0</td>\n",
       "      <td>[]</td>\n",
       "      <td>[]</td>\n",
       "      <td>[]</td>\n",
       "    </tr>\n",
       "    <tr>\n",
       "      <th>22</th>\n",
       "      <td>2020-11-23</td>\n",
       "      <td>23</td>\n",
       "      <td>16.0</td>\n",
       "      <td>690.0</td>\n",
       "      <td>0.9573</td>\n",
       "      <td>158.0</td>\n",
       "      <td>[Context Managers, Introduction to Decorators,...</td>\n",
       "      <td>[Command Line: Intermediate, Functions: Advanc...</td>\n",
       "      <td>[Step 8]</td>\n",
       "    </tr>\n",
       "    <tr>\n",
       "      <th>23</th>\n",
       "      <td>2020-11-30</td>\n",
       "      <td>24</td>\n",
       "      <td>5.0</td>\n",
       "      <td>339.0</td>\n",
       "      <td>0.9876</td>\n",
       "      <td>163.0</td>\n",
       "      <td>[Project: Spark Installation and Jupyter Noteb...</td>\n",
       "      <td>[Spark and Map-Reduce]</td>\n",
       "      <td>[Step 8]</td>\n",
       "    </tr>\n",
       "    <tr>\n",
       "      <th>24</th>\n",
       "      <td>2020-12-07</td>\n",
       "      <td>25</td>\n",
       "      <td>1.0</td>\n",
       "      <td>111.0</td>\n",
       "      <td>0.9937</td>\n",
       "      <td>164.0</td>\n",
       "      <td>[Guided Project: Profitable App Profiles for t...</td>\n",
       "      <td>[Python for Data Science: Fundamentals]</td>\n",
       "      <td>[Step 1]</td>\n",
       "    </tr>\n",
       "    <tr>\n",
       "      <th>25</th>\n",
       "      <td>2020-12-14</td>\n",
       "      <td>26</td>\n",
       "      <td>1.0</td>\n",
       "      <td>111.0</td>\n",
       "      <td>0.9998</td>\n",
       "      <td>165.0</td>\n",
       "      <td>[Guided Project: Exploring Hacker News Posts]</td>\n",
       "      <td>[Python for Data Science: Intermediate]</td>\n",
       "      <td>[Step 1]</td>\n",
       "    </tr>\n",
       "  </tbody>\n",
       "</table>\n",
       "</div>"
      ],
      "text/plain": [
       "         date  week  missions_completed  minutes_spent  finished_pct  \\\n",
       "0  2020-06-22     1                 5.0          277.0        0.0303   \n",
       "1  2020-06-29     2                10.0         1231.0        0.0909   \n",
       "2  2020-07-06     3                 7.0          646.0        0.1333   \n",
       "3  2020-07-13     4                 7.0          843.0        0.1757   \n",
       "4  2020-07-20     5                 6.0         1133.0        0.2121   \n",
       "5  2020-07-27     6                16.0         1369.0        0.3091   \n",
       "6  2020-08-03     7                 4.0          446.0        0.3333   \n",
       "7  2020-08-10     8                10.0         1017.0        0.3939   \n",
       "8  2020-08-17     9                 9.0          837.0        0.4484   \n",
       "9  2020-08-24    10                 4.0          446.0        0.4726   \n",
       "10 2020-08-31    11                 4.0          446.0        0.4968   \n",
       "11 2020-09-07    12                 5.0          783.0        0.5271   \n",
       "12 2020-09-14    13                 1.0          111.0        0.5332   \n",
       "13 2020-09-21    14                 4.0          446.0        0.5574   \n",
       "14 2020-09-28    15                 4.0          446.0        0.5816   \n",
       "15 2020-10-05    16                 9.0         1058.0        0.6361   \n",
       "16 2020-10-12    17                13.0         1341.0        0.7149   \n",
       "17 2020-10-19    18                 0.0            0.0        0.7149   \n",
       "18 2020-10-26    19                12.0         1175.0        0.7876   \n",
       "19 2020-11-02    20                 7.0         1817.0        0.8300   \n",
       "20 2020-11-09    21                 5.0         1268.0        0.8603   \n",
       "21 2020-11-16    22                 0.0            0.0        0.8603   \n",
       "22 2020-11-23    23                16.0          690.0        0.9573   \n",
       "23 2020-11-30    24                 5.0          339.0        0.9876   \n",
       "24 2020-12-07    25                 1.0          111.0        0.9937   \n",
       "25 2020-12-14    26                 1.0          111.0        0.9998   \n",
       "\n",
       "    missions_cum_sum                                           missions  \\\n",
       "0                5.0  [Programming in Python, Variables and Data Typ...   \n",
       "1               15.0  [Introduction to NumPy, Boolean Indexing with ...   \n",
       "2               22.0  [Histograms And Box Plots, Guided Project: Vis...   \n",
       "3               29.0  [Combining Data With Pandas, Transforming Data...   \n",
       "4               35.0  [List Comprehensions and Lambda Functions, Wor...   \n",
       "5               51.0  [Challenge: Cleaning Data, Guided Project: Sta...   \n",
       "6               55.0  [Guided Project: Analyzing CIA Factbook Data U...   \n",
       "7               65.0  [Guided Project: Answering Business Questions ...   \n",
       "8               74.0  [Guided Project: Popular Data Science Question...   \n",
       "9               78.0  [The Mode, Measures of Variability, Z-scores, ...   \n",
       "10              82.0  [Estimating Probabilities, Probability Rules, ...   \n",
       "11              87.0  [Guided Project: Mobile App for Lottery Addict...   \n",
       "12              88.0  [Guided Project: Building a Spam Filter with N...   \n",
       "13              92.0  [Significance Testing, Chi-squared tests, Mult...   \n",
       "14              96.0  [Introduction to K-Nearest Neighbors, Evaluati...   \n",
       "15             105.0  [Cross Validation, Guided Project: Predicting ...   \n",
       "16             118.0  [The Linear Regression Model, Feature Selectio...   \n",
       "17             118.0                                                 []   \n",
       "18             130.0  [Functions: Fundamentals, Functions: Intermedi...   \n",
       "19             137.0  [Representing Neural Networks, Nonlinear Activ...   \n",
       "20             142.0  [Getting Started with Kaggle, Feature Preparat...   \n",
       "21             142.0                                                 []   \n",
       "22             158.0  [Context Managers, Introduction to Decorators,...   \n",
       "23             163.0  [Project: Spark Installation and Jupyter Noteb...   \n",
       "24             164.0  [Guided Project: Profitable App Profiles for t...   \n",
       "25             165.0      [Guided Project: Exploring Hacker News Posts]   \n",
       "\n",
       "                                              courses  \\\n",
       "0             [Python for Data Science: Fundamentals]   \n",
       "1   [Exploratory Data Visualization, Pandas and Nu...   \n",
       "2   [Data Cleaning and Analysis, Exploratory Data ...   \n",
       "3   [Data Cleaning and Analysis, Data Cleaning in ...   \n",
       "4   [Data Cleaning Project Walkthrough, Data Clean...   \n",
       "5   [Data Cleaning Project Walkthrough, Elements o...   \n",
       "6   [Intermediate SQL for Data Analysis, SQL Funda...   \n",
       "7   [APIs and Web Scraping in Python, Data Analysi...   \n",
       "8   [Data Analysis in Business, Statistics Fundame...   \n",
       "9   [Statistics Intermediate: Averages and Variabi...   \n",
       "10                        [Probability: Fundamentals]   \n",
       "11  [Conditional Probability, Probability: Fundame...   \n",
       "12                          [Conditional Probability]   \n",
       "13                 [Hypothesis Testing: Fundamentals]   \n",
       "14                    [Machine Learning Fundamentals]   \n",
       "15  [Calculus For Machine Learning, Linear Algebra...   \n",
       "16  [Linear Regression For Machine Learning, Machi...   \n",
       "17                                                 []   \n",
       "18  [Decision Trees, Python for Data Science: Fund...   \n",
       "19  [Deep Learning Fundamentals, Machine Learning ...   \n",
       "20         [Functions: Advanced, Kaggle Fundamentals]   \n",
       "21                                                 []   \n",
       "22  [Command Line: Intermediate, Functions: Advanc...   \n",
       "23                             [Spark and Map-Reduce]   \n",
       "24            [Python for Data Science: Fundamentals]   \n",
       "25            [Python for Data Science: Intermediate]   \n",
       "\n",
       "                       steps  \n",
       "0                   [Step 1]  \n",
       "1                   [Step 2]  \n",
       "2                   [Step 2]  \n",
       "3                   [Step 2]  \n",
       "4                   [Step 2]  \n",
       "5   [Step 2, Step 3, Step 4]  \n",
       "6                   [Step 4]  \n",
       "7                   [Step 4]  \n",
       "8           [Step 4, Step 5]  \n",
       "9                   [Step 5]  \n",
       "10                  [Step 5]  \n",
       "11                  [Step 5]  \n",
       "12                  [Step 5]  \n",
       "13                  [Step 5]  \n",
       "14                  [Step 6]  \n",
       "15                  [Step 6]  \n",
       "16                  [Step 6]  \n",
       "17                        []  \n",
       "18          [Step 1, Step 6]  \n",
       "19                  [Step 7]  \n",
       "20          [Step 7, Step 8]  \n",
       "21                        []  \n",
       "22                  [Step 8]  \n",
       "23                  [Step 8]  \n",
       "24                  [Step 1]  \n",
       "25                  [Step 1]  "
      ]
     },
     "execution_count": 108,
     "metadata": {},
     "output_type": "execute_result"
    }
   ],
   "source": [
    "all_dates_curve"
   ]
  },
  {
   "cell_type": "markdown",
   "metadata": {},
   "source": [
    "## Visualizations"
   ]
  },
  {
   "cell_type": "markdown",
   "metadata": {},
   "source": [
    "### Create a curriculum reference table "
   ]
  },
  {
   "cell_type": "code",
   "execution_count": 109,
   "metadata": {
    "scrolled": false
   },
   "outputs": [],
   "source": [
    "curriculum_table = pd.DataFrame({'Steps':step_level,\n",
    "                                'Courses':course_level,\n",
    "                                'Missions':all_missions,\n",
    "                                'Order': range(len(all_missions))})\n",
    "curriculum_table = curriculum_table.groupby('Courses').agg(set)\n",
    "curriculum_table.Steps = curriculum_table.Steps.astype(str).str.replace('{|}|\\'|', '')\n",
    "curriculum_table.Missions = curriculum_table.Missions.astype(str).str.replace('{|}|\\'|', '')\n",
    "\n",
    "# Use Order column to sort courses by order\n",
    "# Find the minimum order num in the grouped order num set\n",
    "curriculum_table = curriculum_table.sort_values(by = 'Order', key = lambda x: [min(r) for r in x]) \n",
    "\n",
    "# Drop Order column after sorting\n",
    "curriculum_table.drop(['Order'], axis = 1, inplace = True)"
   ]
  },
  {
   "cell_type": "code",
   "execution_count": 112,
   "metadata": {
    "scrolled": false
   },
   "outputs": [],
   "source": [
    "# Generate formated data for table\n",
    "values = list(list(curriculum_table[col].str.replace(',', ' / ').values) for col in curriculum_table.columns)\n",
    "header = [[col] for col in curriculum_table.columns.insert(0, 'Courses')]\n",
    "values.insert(0, curriculum_table.index)"
   ]
  },
  {
   "cell_type": "code",
   "execution_count": 113,
   "metadata": {
    "scrolled": false
   },
   "outputs": [
    {
     "data": {
      "image/svg+xml": [
       "<svg class=\"main-svg\" xmlns=\"http://www.w3.org/2000/svg\" xmlns:xlink=\"http://www.w3.org/1999/xlink\" width=\"700\" height=\"450\" style=\"\" viewBox=\"0 0 700 450\"><rect x=\"0\" y=\"0\" width=\"700\" height=\"450\" style=\"fill: rgb(255, 255, 255); fill-opacity: 1;\"/><defs id=\"defs-c9bfac\"><g class=\"clips\"/><g class=\"gradients\"/></defs><g class=\"bglayer\"/><g class=\"layer-below\"><g class=\"imagelayer\"/><g class=\"shapelayer\"/></g><g class=\"cartesianlayer\"/><g class=\"polarlayer\"/><g class=\"ternarylayer\"/><g class=\"geolayer\"/><g class=\"funnelarealayer\"/><g class=\"pielayer\"/><g class=\"treemaplayer\"/><g class=\"sunburstlayer\"/><g class=\"glimages\"/><g class=\"table\" overflow=\"visible\" width=\"700\" height=\"450\" transform=\"\" style=\"box-sizing: content-box; position: absolute; left: 0px; overflow: visible; shape-rendering: crispedges; pointer-events: all;\"><g class=\"table-control-view\" transform=\"translate(80,100)\" clip-path=\"url('#clipc9bfac_scrollAreaBottomClip_cc08a2true')\" style=\"box-sizing: content-box;\"><rect class=\"scroll-background\" fill=\"none\" width=\"540\" height=\"270\"/><g class=\"y-column\" transform=\"\" clip-path=\"url('#clipc9bfac_columnBoundaryClippath_cc08a2true_0')\"><g class=\"column-block\" id=\"cells1\" transform=\"\" style=\"cursor: default;\"><g class=\"column-cells\"><g class=\"column-cell\" transform=\"translate(0,40)\"><rect class=\"cell-rect\" width=\"180\" stroke-width=\"1\" style=\"stroke: rgb(47, 79, 79); stroke-opacity: 1; fill: rgb(175, 238, 238); fill-opacity: 1;\" height=\"126.109375\"/><g class=\"cell-text-holder\" transform=\"translate(21.7734375,21)\" style=\"shape-rendering: geometricprecision;\"><text class=\"cell-text\" dy=\"0\" x=\"0\" y=\"0\" style=\"cursor: auto; font-family: 'Open Sans', verdana, arial, sans-serif; font-size: 12px; fill: rgb(42, 63, 95); fill-opacity: 1; white-space: pre;\"><tspan class=\"line\" dy=\"0em\" x=\"0\" y=\"0\">Python for Data Science:</tspan><tspan class=\"line\" dy=\"1.3em\" x=\"0\" y=\"0\">Fundamentals</tspan></text></g></g><g class=\"column-cell\" transform=\"translate(0,166.109375)\"><rect class=\"cell-rect\" width=\"180\" stroke-width=\"1\" style=\"stroke: rgb(47, 79, 79); stroke-opacity: 1; fill: rgb(175, 238, 238); fill-opacity: 1;\" height=\"79.3125\"/><g class=\"cell-text-holder\" transform=\"translate(21.7734375,21)\" style=\"shape-rendering: geometricprecision;\"><text class=\"cell-text\" dy=\"0\" x=\"0\" y=\"0\" style=\"cursor: auto; font-family: 'Open Sans', verdana, arial, sans-serif; font-size: 12px; fill: rgb(42, 63, 95); fill-opacity: 1; white-space: pre;\"><tspan class=\"line\" dy=\"0em\" x=\"0\" y=\"0\">Python for Data Science:</tspan><tspan class=\"line\" dy=\"1.3em\" x=\"0\" y=\"0\">Intermediate</tspan></text></g></g><g class=\"column-cell\" transform=\"translate(0,245.421875)\"><rect class=\"cell-rect\" width=\"180\" stroke-width=\"1\" style=\"stroke: rgb(47, 79, 79); stroke-opacity: 1; fill: rgb(175, 238, 238); fill-opacity: 1;\" height=\"110.5\"/><g class=\"cell-text-holder\" transform=\"translate(35.25,21)\" style=\"shape-rendering: geometricprecision;\"><text class=\"cell-text\" dy=\"0\" x=\"0\" y=\"0\" style=\"cursor: auto; font-family: 'Open Sans', verdana, arial, sans-serif; font-size: 12px; fill: rgb(42, 63, 95); fill-opacity: 1; white-space: pre;\"><tspan class=\"line\" dy=\"0em\" x=\"0\" y=\"0\">Pandas and NumPy</tspan><tspan class=\"line\" dy=\"1.3em\" x=\"0\" y=\"0\">Fundamentals</tspan></text></g></g><g class=\"column-cell\" transform=\"translate(0,355.921875)\"><rect class=\"cell-rect\" width=\"180\" stroke-width=\"1\" style=\"stroke: rgb(47, 79, 79); stroke-opacity: 1; fill: rgb(175, 238, 238); fill-opacity: 1;\" height=\"79.3125\"/><g class=\"cell-text-holder\" transform=\"translate(42.96875,21)\" style=\"shape-rendering: geometricprecision;\"><text class=\"cell-text\" dy=\"0\" x=\"0\" y=\"0\" style=\"cursor: auto; font-family: 'Open Sans', verdana, arial, sans-serif; font-size: 12px; fill: rgb(42, 63, 95); fill-opacity: 1; white-space: pre;\"><tspan class=\"line\" dy=\"0em\" x=\"0\" y=\"0\">Exploratory Data</tspan><tspan class=\"line\" dy=\"1.3em\" x=\"0\" y=\"0\">Visualization</tspan></text></g></g><g class=\"column-cell\" transform=\"translate(0,435.234375)\"><rect class=\"cell-rect\" width=\"180\" stroke-width=\"1\" style=\"stroke: rgb(47, 79, 79); stroke-opacity: 1; fill: rgb(175, 238, 238); fill-opacity: 1;\" height=\"79.3125\"/><g class=\"cell-text-holder\" transform=\"translate(18.46875,21)\" style=\"shape-rendering: geometricprecision;\"><text class=\"cell-text\" dy=\"0\" x=\"0\" y=\"0\" style=\"cursor: auto; font-family: 'Open Sans', verdana, arial, sans-serif; font-size: 12px; fill: rgb(42, 63, 95); fill-opacity: 1; white-space: pre;\"><tspan class=\"line\" dy=\"0em\" x=\"0\" y=\"0\">Storytelling Through Data</tspan><tspan class=\"line\" dy=\"1.3em\" x=\"0\" y=\"0\">Visualization</tspan></text></g></g><g class=\"column-cell\" transform=\"translate(0,514.546875)\"><rect class=\"cell-rect\" width=\"180\" stroke-width=\"1\" style=\"stroke: rgb(47, 79, 79); stroke-opacity: 1; fill: rgb(175, 238, 238); fill-opacity: 1;\" height=\"94.90625\"/><g class=\"cell-text-holder\" transform=\"translate(90,8)\" text-anchor=\"middle\" style=\"shape-rendering: geometricprecision;\"><text class=\"cell-text\" dy=\"0.75em\" x=\"0\" y=\"0\" style=\"cursor: auto; font-family: 'Open Sans', verdana, arial, sans-serif; font-size: 12px; fill: rgb(42, 63, 95); fill-opacity: 1; white-space: pre;\">Data Cleaning and Analysis</text></g></g><g class=\"column-cell\" transform=\"translate(0,609.453125)\"><rect class=\"cell-rect\" width=\"180\" stroke-width=\"1\" style=\"stroke: rgb(47, 79, 79); stroke-opacity: 1; fill: rgb(175, 238, 238); fill-opacity: 1;\" height=\"63.703125\"/><g class=\"cell-text-holder\" transform=\"translate(21.4375,21)\" style=\"shape-rendering: geometricprecision;\"><text class=\"cell-text\" dy=\"0\" x=\"0\" y=\"0\" style=\"cursor: auto; font-family: 'Open Sans', verdana, arial, sans-serif; font-size: 12px; fill: rgb(42, 63, 95); fill-opacity: 1; white-space: pre;\"><tspan class=\"line\" dy=\"0em\" x=\"0\" y=\"0\">Data Cleaning in Python:</tspan><tspan class=\"line\" dy=\"1.3em\" x=\"0\" y=\"0\">Advanced</tspan></text></g></g><g class=\"column-cell\" transform=\"translate(0,673.15625)\"><rect class=\"cell-rect\" width=\"180\" stroke-width=\"1\" style=\"stroke: rgb(47, 79, 79); stroke-opacity: 1; fill: rgb(175, 238, 238); fill-opacity: 1;\" height=\"110.5\"/><g class=\"cell-text-holder\" transform=\"translate(29.9921875,21)\" style=\"shape-rendering: geometricprecision;\"><text class=\"cell-text\" dy=\"0\" x=\"0\" y=\"0\" style=\"cursor: auto; font-family: 'Open Sans', verdana, arial, sans-serif; font-size: 12px; fill: rgb(42, 63, 95); fill-opacity: 1; white-space: pre;\"><tspan class=\"line\" dy=\"0em\" x=\"0\" y=\"0\">Data Cleaning Project</tspan><tspan class=\"line\" dy=\"1.3em\" x=\"0\" y=\"0\">Walkthrough</tspan></text></g></g><g class=\"column-cell\" transform=\"translate(0,783.65625)\"><rect class=\"cell-rect\" width=\"180\" stroke-width=\"1\" style=\"stroke: rgb(47, 79, 79); stroke-opacity: 1; fill: rgb(175, 238, 238); fill-opacity: 1;\" height=\"63.703125\"/><g class=\"cell-text-holder\" transform=\"translate(15.3984375,21)\" style=\"shape-rendering: geometricprecision;\"><text class=\"cell-text\" dy=\"0\" x=\"0\" y=\"0\" style=\"cursor: auto; font-family: 'Open Sans', verdana, arial, sans-serif; font-size: 12px; fill: rgb(42, 63, 95); fill-opacity: 1; white-space: pre;\"><tspan class=\"line\" dy=\"0em\" x=\"0\" y=\"0\">Elements of the Command</tspan><tspan class=\"line\" dy=\"1.3em\" x=\"0\" y=\"0\">Line</tspan></text></g></g><g class=\"column-cell\" transform=\"translate(0,847.359375)\"><rect class=\"cell-rect\" width=\"180\" stroke-width=\"1\" style=\"stroke: rgb(47, 79, 79); stroke-opacity: 1; fill: rgb(175, 238, 238); fill-opacity: 1;\" height=\"79.3125\"/><g class=\"cell-text-holder\" transform=\"translate(28.8828125,21)\" style=\"shape-rendering: geometricprecision;\"><text class=\"cell-text\" dy=\"0\" x=\"0\" y=\"0\" style=\"cursor: auto; font-family: 'Open Sans', verdana, arial, sans-serif; font-size: 12px; fill: rgb(42, 63, 95); fill-opacity: 1; white-space: pre;\"><tspan class=\"line\" dy=\"0em\" x=\"0\" y=\"0\">Text Processing in the</tspan><tspan class=\"line\" dy=\"1.3em\" x=\"0\" y=\"0\">Command Line</tspan></text></g></g><g class=\"column-cell\" transform=\"translate(0,926.671875)\"><rect class=\"cell-rect\" width=\"180\" stroke-width=\"1\" style=\"stroke: rgb(47, 79, 79); stroke-opacity: 1; fill: rgb(175, 238, 238); fill-opacity: 1;\" height=\"79.3125\"/><g class=\"cell-text-holder\" transform=\"translate(90,8)\" text-anchor=\"middle\" style=\"shape-rendering: geometricprecision;\"><text class=\"cell-text\" dy=\"0.75em\" x=\"0\" y=\"0\" style=\"cursor: auto; font-family: 'Open Sans', verdana, arial, sans-serif; font-size: 12px; fill: rgb(42, 63, 95); fill-opacity: 1; white-space: pre;\">SQL Fundamentals</text></g></g><g class=\"column-cell\" transform=\"translate(0,1005.984375)\"><rect class=\"cell-rect\" width=\"180\" stroke-width=\"1\" style=\"stroke: rgb(47, 79, 79); stroke-opacity: 1; fill: rgb(175, 238, 238); fill-opacity: 1;\" height=\"94.90625\"/><g class=\"cell-text-holder\" transform=\"translate(16.71875,21)\" style=\"shape-rendering: geometricprecision;\"><text class=\"cell-text\" dy=\"0\" x=\"0\" y=\"0\" style=\"cursor: auto; font-family: 'Open Sans', verdana, arial, sans-serif; font-size: 12px; fill: rgb(42, 63, 95); fill-opacity: 1; white-space: pre;\"><tspan class=\"line\" dy=\"0em\" x=\"0\" y=\"0\">Intermediate SQL for Data</tspan><tspan class=\"line\" dy=\"1.3em\" x=\"0\" y=\"0\">Analysis</tspan></text></g></g></g></g><g class=\"column-block\" id=\"cells2\" transform=\"translate(0,1060.890625)\" style=\"cursor: default;\"><g class=\"column-cells\"><g class=\"column-cell\" transform=\"translate(0,40)\"><rect class=\"cell-rect\" width=\"180\" stroke-width=\"1\" style=\"stroke: rgb(47, 79, 79); stroke-opacity: 1; fill: rgb(175, 238, 238); fill-opacity: 1;\" height=\"48.109375\"/><g class=\"cell-text-holder\" transform=\"translate(19.2265625,21)\" style=\"shape-rendering: geometricprecision;\"><text class=\"cell-text\" dy=\"0\" x=\"0\" y=\"0\" style=\"cursor: auto; font-family: 'Open Sans', verdana, arial, sans-serif; font-size: 12px; fill: rgb(42, 63, 95); fill-opacity: 1; white-space: pre;\"><tspan class=\"line\" dy=\"0em\" x=\"0\" y=\"0\">APIs and Web Scraping in</tspan><tspan class=\"line\" dy=\"1.3em\" x=\"0\" y=\"0\">Python</tspan></text></g></g><g class=\"column-cell\" transform=\"translate(0,88.109375)\"><rect class=\"cell-rect\" width=\"180\" stroke-width=\"1\" style=\"stroke: rgb(47, 79, 79); stroke-opacity: 1; fill: rgb(175, 238, 238); fill-opacity: 1;\" height=\"63.703125\"/><g class=\"cell-text-holder\" transform=\"translate(90,8)\" text-anchor=\"middle\" style=\"shape-rendering: geometricprecision;\"><text class=\"cell-text\" dy=\"0.75em\" x=\"0\" y=\"0\" style=\"cursor: auto; font-family: 'Open Sans', verdana, arial, sans-serif; font-size: 12px; fill: rgb(42, 63, 95); fill-opacity: 1; white-space: pre;\">Data Analysis in Business</text></g></g><g class=\"column-cell\" transform=\"translate(0,151.8125)\"><rect class=\"cell-rect\" width=\"180\" stroke-width=\"1\" style=\"stroke: rgb(47, 79, 79); stroke-opacity: 1; fill: rgb(175, 238, 238); fill-opacity: 1;\" height=\"79.3125\"/><g class=\"cell-text-holder\" transform=\"translate(90,8)\" text-anchor=\"middle\" style=\"shape-rendering: geometricprecision;\"><text class=\"cell-text\" dy=\"0.75em\" x=\"0\" y=\"0\" style=\"cursor: auto; font-family: 'Open Sans', verdana, arial, sans-serif; font-size: 12px; fill: rgb(42, 63, 95); fill-opacity: 1; white-space: pre;\">Statistics Fundamentals</text></g></g><g class=\"column-cell\" transform=\"translate(0,231.125)\"><rect class=\"cell-rect\" width=\"180\" stroke-width=\"1\" style=\"stroke: rgb(47, 79, 79); stroke-opacity: 1; fill: rgb(175, 238, 238); fill-opacity: 1;\" height=\"79.3125\"/><g class=\"cell-text-holder\" transform=\"translate(23.1328125,21)\" style=\"shape-rendering: geometricprecision;\"><text class=\"cell-text\" dy=\"0\" x=\"0\" y=\"0\" style=\"cursor: auto; font-family: 'Open Sans', verdana, arial, sans-serif; font-size: 12px; fill: rgb(42, 63, 95); fill-opacity: 1; white-space: pre;\"><tspan class=\"line\" dy=\"0em\" x=\"0\" y=\"0\">Statistics Intermediate:</tspan><tspan class=\"line\" dy=\"1.3em\" x=\"0\" y=\"0\">Averages and Variability</tspan></text></g></g><g class=\"column-cell\" transform=\"translate(0,310.4375)\"><rect class=\"cell-rect\" width=\"180\" stroke-width=\"1\" style=\"stroke: rgb(47, 79, 79); stroke-opacity: 1; fill: rgb(175, 238, 238); fill-opacity: 1;\" height=\"79.3125\"/><g class=\"cell-text-holder\" transform=\"translate(90,8)\" text-anchor=\"middle\" style=\"shape-rendering: geometricprecision;\"><text class=\"cell-text\" dy=\"0.75em\" x=\"0\" y=\"0\" style=\"cursor: auto; font-family: 'Open Sans', verdana, arial, sans-serif; font-size: 12px; fill: rgb(42, 63, 95); fill-opacity: 1; white-space: pre;\">Probability: Fundamentals</text></g></g><g class=\"column-cell\" transform=\"translate(0,389.75)\"><rect class=\"cell-rect\" width=\"180\" stroke-width=\"1\" style=\"stroke: rgb(47, 79, 79); stroke-opacity: 1; fill: rgb(175, 238, 238); fill-opacity: 1;\" height=\"79.3125\"/><g class=\"cell-text-holder\" transform=\"translate(90,8)\" text-anchor=\"middle\" style=\"shape-rendering: geometricprecision;\"><text class=\"cell-text\" dy=\"0.75em\" x=\"0\" y=\"0\" style=\"cursor: auto; font-family: 'Open Sans', verdana, arial, sans-serif; font-size: 12px; fill: rgb(42, 63, 95); fill-opacity: 1; white-space: pre;\">Conditional Probability</text></g></g><g class=\"column-cell\" transform=\"translate(0,469.0625)\"><rect class=\"cell-rect\" width=\"180\" stroke-width=\"1\" style=\"stroke: rgb(47, 79, 79); stroke-opacity: 1; fill: rgb(175, 238, 238); fill-opacity: 1;\" height=\"63.703125\"/><g class=\"cell-text-holder\" transform=\"translate(35.53125,21)\" style=\"shape-rendering: geometricprecision;\"><text class=\"cell-text\" dy=\"0\" x=\"0\" y=\"0\" style=\"cursor: auto; font-family: 'Open Sans', verdana, arial, sans-serif; font-size: 12px; fill: rgb(42, 63, 95); fill-opacity: 1; white-space: pre;\"><tspan class=\"line\" dy=\"0em\" x=\"0\" y=\"0\">Hypothesis Testing:</tspan><tspan class=\"line\" dy=\"1.3em\" x=\"0\" y=\"0\">Fundamentals</tspan></text></g></g><g class=\"column-cell\" transform=\"translate(0,532.765625)\"><rect class=\"cell-rect\" width=\"180\" stroke-width=\"1\" style=\"stroke: rgb(47, 79, 79); stroke-opacity: 1; fill: rgb(175, 238, 238); fill-opacity: 1;\" height=\"94.90625\"/><g class=\"cell-text-holder\" transform=\"translate(40.140625,21)\" style=\"shape-rendering: geometricprecision;\"><text class=\"cell-text\" dy=\"0\" x=\"0\" y=\"0\" style=\"cursor: auto; font-family: 'Open Sans', verdana, arial, sans-serif; font-size: 12px; fill: rgb(42, 63, 95); fill-opacity: 1; white-space: pre;\"><tspan class=\"line\" dy=\"0em\" x=\"0\" y=\"0\">Machine Learning</tspan><tspan class=\"line\" dy=\"1.3em\" x=\"0\" y=\"0\">Fundamentals</tspan></text></g></g><g class=\"column-cell\" transform=\"translate(0,627.671875)\"><rect class=\"cell-rect\" width=\"180\" stroke-width=\"1\" style=\"stroke: rgb(47, 79, 79); stroke-opacity: 1; fill: rgb(175, 238, 238); fill-opacity: 1;\" height=\"48.109375\"/><g class=\"cell-text-holder\" transform=\"translate(30.609375,21)\" style=\"shape-rendering: geometricprecision;\"><text class=\"cell-text\" dy=\"0\" x=\"0\" y=\"0\" style=\"cursor: auto; font-family: 'Open Sans', verdana, arial, sans-serif; font-size: 12px; fill: rgb(42, 63, 95); fill-opacity: 1; white-space: pre;\"><tspan class=\"line\" dy=\"0em\" x=\"0\" y=\"0\">Calculus For Machine</tspan><tspan class=\"line\" dy=\"1.3em\" x=\"0\" y=\"0\">Learning</tspan></text></g></g><g class=\"column-cell\" transform=\"translate(0,675.78125)\"><rect class=\"cell-rect\" width=\"180\" stroke-width=\"1\" style=\"stroke: rgb(47, 79, 79); stroke-opacity: 1; fill: rgb(175, 238, 238); fill-opacity: 1;\" height=\"48.109375\"/><g class=\"cell-text-holder\" transform=\"translate(13.390625,21)\" style=\"shape-rendering: geometricprecision;\"><text class=\"cell-text\" dy=\"0\" x=\"0\" y=\"0\" style=\"cursor: auto; font-family: 'Open Sans', verdana, arial, sans-serif; font-size: 12px; fill: rgb(42, 63, 95); fill-opacity: 1; white-space: pre;\"><tspan class=\"line\" dy=\"0em\" x=\"0\" y=\"0\">Linear Algebra For Machine</tspan><tspan class=\"line\" dy=\"1.3em\" x=\"0\" y=\"0\">Learning</tspan></text></g></g><g class=\"column-cell\" transform=\"translate(0,723.890625)\"><rect class=\"cell-rect\" width=\"180\" stroke-width=\"1\" style=\"stroke: rgb(47, 79, 79); stroke-opacity: 1; fill: rgb(175, 238, 238); fill-opacity: 1;\" height=\"79.3125\"/><g class=\"cell-text-holder\" transform=\"translate(29.515625,21)\" style=\"shape-rendering: geometricprecision;\"><text class=\"cell-text\" dy=\"0\" x=\"0\" y=\"0\" style=\"cursor: auto; font-family: 'Open Sans', verdana, arial, sans-serif; font-size: 12px; fill: rgb(42, 63, 95); fill-opacity: 1; white-space: pre;\"><tspan class=\"line\" dy=\"0em\" x=\"0\" y=\"0\">Linear Regression For</tspan><tspan class=\"line\" dy=\"1.3em\" x=\"0\" y=\"0\">Machine Learning</tspan></text></g></g><g class=\"column-cell\" transform=\"translate(0,803.203125)\"><rect class=\"cell-rect\" width=\"180\" stroke-width=\"1\" style=\"stroke: rgb(47, 79, 79); stroke-opacity: 1; fill: rgb(175, 238, 238); fill-opacity: 1;\" height=\"94.90625\"/><g class=\"cell-text-holder\" transform=\"translate(10.484375,21)\" style=\"shape-rendering: geometricprecision;\"><text class=\"cell-text\" dy=\"0\" x=\"0\" y=\"0\" style=\"cursor: auto; font-family: 'Open Sans', verdana, arial, sans-serif; font-size: 12px; fill: rgb(42, 63, 95); fill-opacity: 1; white-space: pre;\"><tspan class=\"line\" dy=\"0em\" x=\"0\" y=\"0\">Machine Learning in Python:</tspan><tspan class=\"line\" dy=\"1.3em\" x=\"0\" y=\"0\">Intermediate</tspan></text></g></g></g></g><g class=\"column-block\" id=\"header\" style=\"cursor: ew-resize;\"><g class=\"column-cells\"><g class=\"column-cell\" transform=\"\"><rect class=\"cell-rect\" width=\"180\" stroke-width=\"1\" height=\"40\" style=\"stroke: rgb(47, 79, 79); stroke-opacity: 1; fill: rgb(65, 105, 225); fill-opacity: 1;\"/><g class=\"cell-text-holder\" transform=\"translate(90,8)\" text-anchor=\"middle\" style=\"shape-rendering: geometricprecision;\"><text class=\"cell-text\" dy=\"0.75em\" style=\"cursor: auto; font-family: 'Open Sans', verdana, arial, sans-serif; font-size: 12px; fill: rgb(255, 255, 255); fill-opacity: 1;\">Courses</text></g></g></g></g><g class=\"column-boundary\"/><clipPath class=\"column-boundary-clippath\" id=\"clipc9bfac_columnBoundaryClippath_cc08a2true_0\"><rect class=\"column-boundary-rect\" fill=\"none\" width=\"182\" height=\"277\" x=\"-1\" y=\"-1\"/></clipPath></g><g class=\"y-column\" transform=\"translate(180,0)\" clip-path=\"url('#clipc9bfac_columnBoundaryClippath_cc08a2true_1')\"><g class=\"column-block\" id=\"cells1\" transform=\"\" style=\"cursor: default;\"><g class=\"column-cells\"><g class=\"column-cell\" transform=\"translate(0,40)\"><rect class=\"cell-rect\" width=\"60\" stroke-width=\"1\" style=\"stroke: rgb(47, 79, 79); stroke-opacity: 1; fill: rgb(255, 255, 255); fill-opacity: 1;\" height=\"126.109375\"/><g class=\"cell-text-holder\" transform=\"translate(30,8)\" text-anchor=\"middle\" style=\"shape-rendering: geometricprecision;\"><text class=\"cell-text\" dy=\"0.75em\" x=\"0\" y=\"0\" style=\"cursor: auto; font-family: 'Open Sans', verdana, arial, sans-serif; font-size: 12px; fill: rgb(42, 63, 95); fill-opacity: 1; white-space: pre;\">Step 1</text></g></g><g class=\"column-cell\" transform=\"translate(0,166.109375)\"><rect class=\"cell-rect\" width=\"60\" stroke-width=\"1\" style=\"stroke: rgb(47, 79, 79); stroke-opacity: 1; fill: rgb(255, 255, 255); fill-opacity: 1;\" height=\"79.3125\"/><g class=\"cell-text-holder\" transform=\"translate(30,8)\" text-anchor=\"middle\" style=\"shape-rendering: geometricprecision;\"><text class=\"cell-text\" dy=\"0.75em\" x=\"0\" y=\"0\" style=\"cursor: auto; font-family: 'Open Sans', verdana, arial, sans-serif; font-size: 12px; fill: rgb(42, 63, 95); fill-opacity: 1; white-space: pre;\">Step 1</text></g></g><g class=\"column-cell\" transform=\"translate(0,245.421875)\"><rect class=\"cell-rect\" width=\"60\" stroke-width=\"1\" style=\"stroke: rgb(47, 79, 79); stroke-opacity: 1; fill: rgb(255, 255, 255); fill-opacity: 1;\" height=\"110.5\"/><g class=\"cell-text-holder\" transform=\"translate(30,8)\" text-anchor=\"middle\" style=\"shape-rendering: geometricprecision;\"><text class=\"cell-text\" dy=\"0.75em\" x=\"0\" y=\"0\" style=\"cursor: auto; font-family: 'Open Sans', verdana, arial, sans-serif; font-size: 12px; fill: rgb(42, 63, 95); fill-opacity: 1; white-space: pre;\">Step 2</text></g></g><g class=\"column-cell\" transform=\"translate(0,355.921875)\"><rect class=\"cell-rect\" width=\"60\" stroke-width=\"1\" style=\"stroke: rgb(47, 79, 79); stroke-opacity: 1; fill: rgb(255, 255, 255); fill-opacity: 1;\" height=\"79.3125\"/><g class=\"cell-text-holder\" transform=\"translate(30,8)\" text-anchor=\"middle\" style=\"shape-rendering: geometricprecision;\"><text class=\"cell-text\" dy=\"0.75em\" x=\"0\" y=\"0\" style=\"cursor: auto; font-family: 'Open Sans', verdana, arial, sans-serif; font-size: 12px; fill: rgb(42, 63, 95); fill-opacity: 1; white-space: pre;\">Step 2</text></g></g><g class=\"column-cell\" transform=\"translate(0,435.234375)\"><rect class=\"cell-rect\" width=\"60\" stroke-width=\"1\" style=\"stroke: rgb(47, 79, 79); stroke-opacity: 1; fill: rgb(255, 255, 255); fill-opacity: 1;\" height=\"79.3125\"/><g class=\"cell-text-holder\" transform=\"translate(30,8)\" text-anchor=\"middle\" style=\"shape-rendering: geometricprecision;\"><text class=\"cell-text\" dy=\"0.75em\" x=\"0\" y=\"0\" style=\"cursor: auto; font-family: 'Open Sans', verdana, arial, sans-serif; font-size: 12px; fill: rgb(42, 63, 95); fill-opacity: 1; white-space: pre;\">Step 2</text></g></g><g class=\"column-cell\" transform=\"translate(0,514.546875)\"><rect class=\"cell-rect\" width=\"60\" stroke-width=\"1\" style=\"stroke: rgb(47, 79, 79); stroke-opacity: 1; fill: rgb(255, 255, 255); fill-opacity: 1;\" height=\"94.90625\"/><g class=\"cell-text-holder\" transform=\"translate(30,8)\" text-anchor=\"middle\" style=\"shape-rendering: geometricprecision;\"><text class=\"cell-text\" dy=\"0.75em\" x=\"0\" y=\"0\" style=\"cursor: auto; font-family: 'Open Sans', verdana, arial, sans-serif; font-size: 12px; fill: rgb(42, 63, 95); fill-opacity: 1; white-space: pre;\">Step 2</text></g></g><g class=\"column-cell\" transform=\"translate(0,609.453125)\"><rect class=\"cell-rect\" width=\"60\" stroke-width=\"1\" style=\"stroke: rgb(47, 79, 79); stroke-opacity: 1; fill: rgb(255, 255, 255); fill-opacity: 1;\" height=\"63.703125\"/><g class=\"cell-text-holder\" transform=\"translate(30,8)\" text-anchor=\"middle\" style=\"shape-rendering: geometricprecision;\"><text class=\"cell-text\" dy=\"0.75em\" x=\"0\" y=\"0\" style=\"cursor: auto; font-family: 'Open Sans', verdana, arial, sans-serif; font-size: 12px; fill: rgb(42, 63, 95); fill-opacity: 1; white-space: pre;\">Step 2</text></g></g><g class=\"column-cell\" transform=\"translate(0,673.15625)\"><rect class=\"cell-rect\" width=\"60\" stroke-width=\"1\" style=\"stroke: rgb(47, 79, 79); stroke-opacity: 1; fill: rgb(255, 255, 255); fill-opacity: 1;\" height=\"110.5\"/><g class=\"cell-text-holder\" transform=\"translate(30,8)\" text-anchor=\"middle\" style=\"shape-rendering: geometricprecision;\"><text class=\"cell-text\" dy=\"0.75em\" x=\"0\" y=\"0\" style=\"cursor: auto; font-family: 'Open Sans', verdana, arial, sans-serif; font-size: 12px; fill: rgb(42, 63, 95); fill-opacity: 1; white-space: pre;\">Step 2</text></g></g><g class=\"column-cell\" transform=\"translate(0,783.65625)\"><rect class=\"cell-rect\" width=\"60\" stroke-width=\"1\" style=\"stroke: rgb(47, 79, 79); stroke-opacity: 1; fill: rgb(255, 255, 255); fill-opacity: 1;\" height=\"63.703125\"/><g class=\"cell-text-holder\" transform=\"translate(30,8)\" text-anchor=\"middle\" style=\"shape-rendering: geometricprecision;\"><text class=\"cell-text\" dy=\"0.75em\" x=\"0\" y=\"0\" style=\"cursor: auto; font-family: 'Open Sans', verdana, arial, sans-serif; font-size: 12px; fill: rgb(42, 63, 95); fill-opacity: 1; white-space: pre;\">Step 3</text></g></g><g class=\"column-cell\" transform=\"translate(0,847.359375)\"><rect class=\"cell-rect\" width=\"60\" stroke-width=\"1\" style=\"stroke: rgb(47, 79, 79); stroke-opacity: 1; fill: rgb(255, 255, 255); fill-opacity: 1;\" height=\"79.3125\"/><g class=\"cell-text-holder\" transform=\"translate(30,8)\" text-anchor=\"middle\" style=\"shape-rendering: geometricprecision;\"><text class=\"cell-text\" dy=\"0.75em\" x=\"0\" y=\"0\" style=\"cursor: auto; font-family: 'Open Sans', verdana, arial, sans-serif; font-size: 12px; fill: rgb(42, 63, 95); fill-opacity: 1; white-space: pre;\">Step 3</text></g></g><g class=\"column-cell\" transform=\"translate(0,926.671875)\"><rect class=\"cell-rect\" width=\"60\" stroke-width=\"1\" style=\"stroke: rgb(47, 79, 79); stroke-opacity: 1; fill: rgb(255, 255, 255); fill-opacity: 1;\" height=\"79.3125\"/><g class=\"cell-text-holder\" transform=\"translate(30,8)\" text-anchor=\"middle\" style=\"shape-rendering: geometricprecision;\"><text class=\"cell-text\" dy=\"0.75em\" x=\"0\" y=\"0\" style=\"cursor: auto; font-family: 'Open Sans', verdana, arial, sans-serif; font-size: 12px; fill: rgb(42, 63, 95); fill-opacity: 1; white-space: pre;\">Step 4</text></g></g><g class=\"column-cell\" transform=\"translate(0,1005.984375)\"><rect class=\"cell-rect\" width=\"60\" stroke-width=\"1\" style=\"stroke: rgb(47, 79, 79); stroke-opacity: 1; fill: rgb(255, 255, 255); fill-opacity: 1;\" height=\"94.90625\"/><g class=\"cell-text-holder\" transform=\"translate(30,8)\" text-anchor=\"middle\" style=\"shape-rendering: geometricprecision;\"><text class=\"cell-text\" dy=\"0.75em\" x=\"0\" y=\"0\" style=\"cursor: auto; font-family: 'Open Sans', verdana, arial, sans-serif; font-size: 12px; fill: rgb(42, 63, 95); fill-opacity: 1; white-space: pre;\">Step 4</text></g></g></g></g><g class=\"column-block\" id=\"cells2\" transform=\"translate(0,1060.890625)\" style=\"cursor: default;\"><g class=\"column-cells\"><g class=\"column-cell\" transform=\"translate(0,40)\"><rect class=\"cell-rect\" width=\"60\" stroke-width=\"1\" style=\"stroke: rgb(47, 79, 79); stroke-opacity: 1; fill: rgb(255, 255, 255); fill-opacity: 1;\" height=\"48.109375\"/><g class=\"cell-text-holder\" transform=\"translate(30,8)\" text-anchor=\"middle\" style=\"shape-rendering: geometricprecision;\"><text class=\"cell-text\" dy=\"0.75em\" x=\"0\" y=\"0\" style=\"cursor: auto; font-family: 'Open Sans', verdana, arial, sans-serif; font-size: 12px; fill: rgb(42, 63, 95); fill-opacity: 1; white-space: pre;\">Step 4</text></g></g><g class=\"column-cell\" transform=\"translate(0,88.109375)\"><rect class=\"cell-rect\" width=\"60\" stroke-width=\"1\" style=\"stroke: rgb(47, 79, 79); stroke-opacity: 1; fill: rgb(255, 255, 255); fill-opacity: 1;\" height=\"63.703125\"/><g class=\"cell-text-holder\" transform=\"translate(30,8)\" text-anchor=\"middle\" style=\"shape-rendering: geometricprecision;\"><text class=\"cell-text\" dy=\"0.75em\" x=\"0\" y=\"0\" style=\"cursor: auto; font-family: 'Open Sans', verdana, arial, sans-serif; font-size: 12px; fill: rgb(42, 63, 95); fill-opacity: 1; white-space: pre;\">Step 4</text></g></g><g class=\"column-cell\" transform=\"translate(0,151.8125)\"><rect class=\"cell-rect\" width=\"60\" stroke-width=\"1\" style=\"stroke: rgb(47, 79, 79); stroke-opacity: 1; fill: rgb(255, 255, 255); fill-opacity: 1;\" height=\"79.3125\"/><g class=\"cell-text-holder\" transform=\"translate(30,8)\" text-anchor=\"middle\" style=\"shape-rendering: geometricprecision;\"><text class=\"cell-text\" dy=\"0.75em\" x=\"0\" y=\"0\" style=\"cursor: auto; font-family: 'Open Sans', verdana, arial, sans-serif; font-size: 12px; fill: rgb(42, 63, 95); fill-opacity: 1; white-space: pre;\">Step 5</text></g></g><g class=\"column-cell\" transform=\"translate(0,231.125)\"><rect class=\"cell-rect\" width=\"60\" stroke-width=\"1\" style=\"stroke: rgb(47, 79, 79); stroke-opacity: 1; fill: rgb(255, 255, 255); fill-opacity: 1;\" height=\"79.3125\"/><g class=\"cell-text-holder\" transform=\"translate(30,8)\" text-anchor=\"middle\" style=\"shape-rendering: geometricprecision;\"><text class=\"cell-text\" dy=\"0.75em\" x=\"0\" y=\"0\" style=\"cursor: auto; font-family: 'Open Sans', verdana, arial, sans-serif; font-size: 12px; fill: rgb(42, 63, 95); fill-opacity: 1; white-space: pre;\">Step 5</text></g></g><g class=\"column-cell\" transform=\"translate(0,310.4375)\"><rect class=\"cell-rect\" width=\"60\" stroke-width=\"1\" style=\"stroke: rgb(47, 79, 79); stroke-opacity: 1; fill: rgb(255, 255, 255); fill-opacity: 1;\" height=\"79.3125\"/><g class=\"cell-text-holder\" transform=\"translate(30,8)\" text-anchor=\"middle\" style=\"shape-rendering: geometricprecision;\"><text class=\"cell-text\" dy=\"0.75em\" x=\"0\" y=\"0\" style=\"cursor: auto; font-family: 'Open Sans', verdana, arial, sans-serif; font-size: 12px; fill: rgb(42, 63, 95); fill-opacity: 1; white-space: pre;\">Step 5</text></g></g><g class=\"column-cell\" transform=\"translate(0,389.75)\"><rect class=\"cell-rect\" width=\"60\" stroke-width=\"1\" style=\"stroke: rgb(47, 79, 79); stroke-opacity: 1; fill: rgb(255, 255, 255); fill-opacity: 1;\" height=\"79.3125\"/><g class=\"cell-text-holder\" transform=\"translate(30,8)\" text-anchor=\"middle\" style=\"shape-rendering: geometricprecision;\"><text class=\"cell-text\" dy=\"0.75em\" x=\"0\" y=\"0\" style=\"cursor: auto; font-family: 'Open Sans', verdana, arial, sans-serif; font-size: 12px; fill: rgb(42, 63, 95); fill-opacity: 1; white-space: pre;\">Step 5</text></g></g><g class=\"column-cell\" transform=\"translate(0,469.0625)\"><rect class=\"cell-rect\" width=\"60\" stroke-width=\"1\" style=\"stroke: rgb(47, 79, 79); stroke-opacity: 1; fill: rgb(255, 255, 255); fill-opacity: 1;\" height=\"63.703125\"/><g class=\"cell-text-holder\" transform=\"translate(30,8)\" text-anchor=\"middle\" style=\"shape-rendering: geometricprecision;\"><text class=\"cell-text\" dy=\"0.75em\" x=\"0\" y=\"0\" style=\"cursor: auto; font-family: 'Open Sans', verdana, arial, sans-serif; font-size: 12px; fill: rgb(42, 63, 95); fill-opacity: 1; white-space: pre;\">Step 5</text></g></g><g class=\"column-cell\" transform=\"translate(0,532.765625)\"><rect class=\"cell-rect\" width=\"60\" stroke-width=\"1\" style=\"stroke: rgb(47, 79, 79); stroke-opacity: 1; fill: rgb(255, 255, 255); fill-opacity: 1;\" height=\"94.90625\"/><g class=\"cell-text-holder\" transform=\"translate(30,8)\" text-anchor=\"middle\" style=\"shape-rendering: geometricprecision;\"><text class=\"cell-text\" dy=\"0.75em\" x=\"0\" y=\"0\" style=\"cursor: auto; font-family: 'Open Sans', verdana, arial, sans-serif; font-size: 12px; fill: rgb(42, 63, 95); fill-opacity: 1; white-space: pre;\">Step 6</text></g></g><g class=\"column-cell\" transform=\"translate(0,627.671875)\"><rect class=\"cell-rect\" width=\"60\" stroke-width=\"1\" style=\"stroke: rgb(47, 79, 79); stroke-opacity: 1; fill: rgb(255, 255, 255); fill-opacity: 1;\" height=\"48.109375\"/><g class=\"cell-text-holder\" transform=\"translate(30,8)\" text-anchor=\"middle\" style=\"shape-rendering: geometricprecision;\"><text class=\"cell-text\" dy=\"0.75em\" x=\"0\" y=\"0\" style=\"cursor: auto; font-family: 'Open Sans', verdana, arial, sans-serif; font-size: 12px; fill: rgb(42, 63, 95); fill-opacity: 1; white-space: pre;\">Step 6</text></g></g><g class=\"column-cell\" transform=\"translate(0,675.78125)\"><rect class=\"cell-rect\" width=\"60\" stroke-width=\"1\" style=\"stroke: rgb(47, 79, 79); stroke-opacity: 1; fill: rgb(255, 255, 255); fill-opacity: 1;\" height=\"48.109375\"/><g class=\"cell-text-holder\" transform=\"translate(30,8)\" text-anchor=\"middle\" style=\"shape-rendering: geometricprecision;\"><text class=\"cell-text\" dy=\"0.75em\" x=\"0\" y=\"0\" style=\"cursor: auto; font-family: 'Open Sans', verdana, arial, sans-serif; font-size: 12px; fill: rgb(42, 63, 95); fill-opacity: 1; white-space: pre;\">Step 6</text></g></g><g class=\"column-cell\" transform=\"translate(0,723.890625)\"><rect class=\"cell-rect\" width=\"60\" stroke-width=\"1\" style=\"stroke: rgb(47, 79, 79); stroke-opacity: 1; fill: rgb(255, 255, 255); fill-opacity: 1;\" height=\"79.3125\"/><g class=\"cell-text-holder\" transform=\"translate(30,8)\" text-anchor=\"middle\" style=\"shape-rendering: geometricprecision;\"><text class=\"cell-text\" dy=\"0.75em\" x=\"0\" y=\"0\" style=\"cursor: auto; font-family: 'Open Sans', verdana, arial, sans-serif; font-size: 12px; fill: rgb(42, 63, 95); fill-opacity: 1; white-space: pre;\">Step 6</text></g></g><g class=\"column-cell\" transform=\"translate(0,803.203125)\"><rect class=\"cell-rect\" width=\"60\" stroke-width=\"1\" style=\"stroke: rgb(47, 79, 79); stroke-opacity: 1; fill: rgb(255, 255, 255); fill-opacity: 1;\" height=\"94.90625\"/><g class=\"cell-text-holder\" transform=\"translate(30,8)\" text-anchor=\"middle\" style=\"shape-rendering: geometricprecision;\"><text class=\"cell-text\" dy=\"0.75em\" x=\"0\" y=\"0\" style=\"cursor: auto; font-family: 'Open Sans', verdana, arial, sans-serif; font-size: 12px; fill: rgb(42, 63, 95); fill-opacity: 1; white-space: pre;\">Step 6</text></g></g></g></g><g class=\"column-block\" id=\"header\" style=\"cursor: ew-resize;\"><g class=\"column-cells\"><g class=\"column-cell\" transform=\"\"><rect class=\"cell-rect\" width=\"60\" stroke-width=\"1\" height=\"40\" style=\"stroke: rgb(47, 79, 79); stroke-opacity: 1; fill: rgb(65, 105, 225); fill-opacity: 1;\"/><g class=\"cell-text-holder\" transform=\"translate(30,8)\" text-anchor=\"middle\" style=\"shape-rendering: geometricprecision;\"><text class=\"cell-text\" dy=\"0.75em\" style=\"cursor: auto; font-family: 'Open Sans', verdana, arial, sans-serif; font-size: 12px; fill: rgb(255, 255, 255); fill-opacity: 1;\">Steps</text></g></g></g></g><g class=\"column-boundary\"/><clipPath class=\"column-boundary-clippath\" id=\"clipc9bfac_columnBoundaryClippath_cc08a2true_1\"><rect class=\"column-boundary-rect\" fill=\"none\" width=\"62\" height=\"277\" x=\"-1\" y=\"-1\"/></clipPath></g><g class=\"y-column\" transform=\"translate(240,0)\" clip-path=\"url('#clipc9bfac_columnBoundaryClippath_cc08a2true_2')\"><g class=\"column-block\" id=\"cells1\" transform=\"\" style=\"cursor: default;\"><g class=\"column-cells\"><g class=\"column-cell\" transform=\"translate(0,40)\"><rect class=\"cell-rect\" width=\"300\" stroke-width=\"1\" style=\"stroke: rgb(47, 79, 79); stroke-opacity: 1; fill: rgb(255, 255, 255); fill-opacity: 1;\" height=\"126.109375\"/><g class=\"cell-text-holder\" transform=\"translate(10.6953125,21)\" style=\"shape-rendering: geometricprecision;\"><text class=\"cell-text\" dy=\"0\" x=\"0\" y=\"0\" style=\"cursor: auto; font-family: 'Open Sans', verdana, arial, sans-serif; font-size: 12px; fill: rgb(42, 63, 95); fill-opacity: 1; white-space: pre;\"><tspan class=\"line\" dy=\"0em\" x=\"0\" y=\"0\">Programming in Python /  Conditional Statements</tspan><tspan class=\"line\" dy=\"1.3em\" x=\"0\" y=\"0\">/  Functions: Fundamentals /  Dictionaries and</tspan><tspan class=\"line\" dy=\"2.6em\" x=\"0\" y=\"0\">Frequency Tables /  Project: Learn and Install</tspan><tspan class=\"line\" dy=\"3.9000000000000004em\" x=\"0\" y=\"0\">Jupyter Notebook /  Lists and For Loops / </tspan><tspan class=\"line\" dy=\"5.2em\" x=\"0\" y=\"0\">Variables and Data Types /  Guided Project:</tspan><tspan class=\"line\" dy=\"6.5em\" x=\"0\" y=\"0\">Profitable App Profiles for the App Store and</tspan><tspan class=\"line\" dy=\"7.800000000000001em\" x=\"0\" y=\"0\">Google Play Markets /  Functions: Intermediate</tspan></text></g></g><g class=\"column-cell\" transform=\"translate(0,166.109375)\"><rect class=\"cell-rect\" width=\"300\" stroke-width=\"1\" style=\"stroke: rgb(47, 79, 79); stroke-opacity: 1; fill: rgb(255, 255, 255); fill-opacity: 1;\" height=\"79.3125\"/><g class=\"cell-text-holder\" transform=\"translate(9.7734375,21)\" style=\"shape-rendering: geometricprecision;\"><text class=\"cell-text\" dy=\"0\" x=\"0\" y=\"0\" style=\"cursor: auto; font-family: 'Open Sans', verdana, arial, sans-serif; font-size: 12px; fill: rgb(42, 63, 95); fill-opacity: 1; white-space: pre;\"><tspan class=\"line\" dy=\"0em\" x=\"0\" y=\"0\">Object-Oriented Python /  Python Data Analysis</tspan><tspan class=\"line\" dy=\"1.3em\" x=\"0\" y=\"0\">Basics /  Guided Project: Exploring Hacker News</tspan><tspan class=\"line\" dy=\"2.6em\" x=\"0\" y=\"0\">Posts /  Working with Dates and Times in Python / </tspan><tspan class=\"line\" dy=\"3.9000000000000004em\" x=\"0\" y=\"0\">Cleaning and Preparing Data in Python</tspan></text></g></g><g class=\"column-cell\" transform=\"translate(0,245.421875)\"><rect class=\"cell-rect\" width=\"300\" stroke-width=\"1\" style=\"stroke: rgb(47, 79, 79); stroke-opacity: 1; fill: rgb(255, 255, 255); fill-opacity: 1;\" height=\"110.5\"/><g class=\"cell-text-holder\" transform=\"translate(15.96875,21)\" style=\"shape-rendering: geometricprecision;\"><text class=\"cell-text\" dy=\"0\" x=\"0\" y=\"0\" style=\"cursor: auto; font-family: 'Open Sans', verdana, arial, sans-serif; font-size: 12px; fill: rgb(42, 63, 95); fill-opacity: 1; white-space: pre;\"><tspan class=\"line\" dy=\"0em\" x=\"0\" y=\"0\">Introduction to NumPy /  Boolean Indexing with</tspan><tspan class=\"line\" dy=\"1.3em\" x=\"0\" y=\"0\">NumPy /  Exploring Data with pandas:</tspan><tspan class=\"line\" dy=\"2.6em\" x=\"0\" y=\"0\">Intermediate /  Data Cleaning Basics /  Exploring</tspan><tspan class=\"line\" dy=\"3.9000000000000004em\" x=\"0\" y=\"0\">Data with pandas: Fundamentals /  Introduction</tspan><tspan class=\"line\" dy=\"5.2em\" x=\"0\" y=\"0\">to pandas /  Guided Project: Exploring Ebay Car</tspan><tspan class=\"line\" dy=\"6.5em\" x=\"0\" y=\"0\">Sales Data</tspan></text></g></g><g class=\"column-cell\" transform=\"translate(0,355.921875)\"><rect class=\"cell-rect\" width=\"300\" stroke-width=\"1\" style=\"stroke: rgb(47, 79, 79); stroke-opacity: 1; fill: rgb(255, 255, 255); fill-opacity: 1;\" height=\"79.3125\"/><g class=\"cell-text-holder\" transform=\"translate(9.890625,21)\" style=\"shape-rendering: geometricprecision;\"><text class=\"cell-text\" dy=\"0\" x=\"0\" y=\"0\" style=\"cursor: auto; font-family: 'Open Sans', verdana, arial, sans-serif; font-size: 12px; fill: rgb(42, 63, 95); fill-opacity: 1; white-space: pre;\"><tspan class=\"line\" dy=\"0em\" x=\"0\" y=\"0\">Multiple plots /  Guided Project: Visualizing</tspan><tspan class=\"line\" dy=\"1.3em\" x=\"0\" y=\"0\">Earnings Based On College Majors /  Bar Plots And</tspan><tspan class=\"line\" dy=\"2.6em\" x=\"0\" y=\"0\">Scatter Plots /  Line Charts /  Histograms And Box</tspan><tspan class=\"line\" dy=\"3.9000000000000004em\" x=\"0\" y=\"0\">Plots</tspan></text></g></g><g class=\"column-cell\" transform=\"translate(0,435.234375)\"><rect class=\"cell-rect\" width=\"300\" stroke-width=\"1\" style=\"stroke: rgb(47, 79, 79); stroke-opacity: 1; fill: rgb(255, 255, 255); fill-opacity: 1;\" height=\"79.3125\"/><g class=\"cell-text-holder\" transform=\"translate(21.7265625,21)\" style=\"shape-rendering: geometricprecision;\"><text class=\"cell-text\" dy=\"0\" x=\"0\" y=\"0\" style=\"cursor: auto; font-family: 'Open Sans', verdana, arial, sans-serif; font-size: 12px; fill: rgb(42, 63, 95); fill-opacity: 1; white-space: pre;\"><tspan class=\"line\" dy=\"0em\" x=\"0\" y=\"0\">Color /  Layout /  and Annotations /  Guided</tspan><tspan class=\"line\" dy=\"1.3em\" x=\"0\" y=\"0\">Project: Visualizing The Gender Gap In College</tspan><tspan class=\"line\" dy=\"2.6em\" x=\"0\" y=\"0\">Degrees /  Conditional Plots /  Improving Plot</tspan><tspan class=\"line\" dy=\"3.9000000000000004em\" x=\"0\" y=\"0\">Aesthetics</tspan></text></g></g><g class=\"column-cell\" transform=\"translate(0,514.546875)\"><rect class=\"cell-rect\" width=\"300\" stroke-width=\"1\" style=\"stroke: rgb(47, 79, 79); stroke-opacity: 1; fill: rgb(255, 255, 255); fill-opacity: 1;\" height=\"94.90625\"/><g class=\"cell-text-holder\" transform=\"translate(17.9765625,21)\" style=\"shape-rendering: geometricprecision;\"><text class=\"cell-text\" dy=\"0\" x=\"0\" y=\"0\" style=\"cursor: auto; font-family: 'Open Sans', verdana, arial, sans-serif; font-size: 12px; fill: rgb(42, 63, 95); fill-opacity: 1; white-space: pre;\"><tspan class=\"line\" dy=\"0em\" x=\"0\" y=\"0\">Working With Strings In Pandas /  Working With</tspan><tspan class=\"line\" dy=\"1.3em\" x=\"0\" y=\"0\">Missing And Duplicate Data /  Guided Project:</tspan><tspan class=\"line\" dy=\"2.6em\" x=\"0\" y=\"0\">Clean And Analyze Employee Exit Surveys / </tspan><tspan class=\"line\" dy=\"3.9000000000000004em\" x=\"0\" y=\"0\">Combining Data With Pandas /  Transforming</tspan><tspan class=\"line\" dy=\"5.2em\" x=\"0\" y=\"0\">Data With Pandas /  Data Aggregation</tspan></text></g></g><g class=\"column-cell\" transform=\"translate(0,609.453125)\"><rect class=\"cell-rect\" width=\"300\" stroke-width=\"1\" style=\"stroke: rgb(47, 79, 79); stroke-opacity: 1; fill: rgb(255, 255, 255); fill-opacity: 1;\" height=\"63.703125\"/><g class=\"cell-text-holder\" transform=\"translate(18.5703125,21)\" style=\"shape-rendering: geometricprecision;\"><text class=\"cell-text\" dy=\"0\" x=\"0\" y=\"0\" style=\"cursor: auto; font-family: 'Open Sans', verdana, arial, sans-serif; font-size: 12px; fill: rgb(42, 63, 95); fill-opacity: 1; white-space: pre;\"><tspan class=\"line\" dy=\"0em\" x=\"0\" y=\"0\">Working with Missing Data /  Advanced Regular</tspan><tspan class=\"line\" dy=\"1.3em\" x=\"0\" y=\"0\">Expressions /  Regular Expression Basics /  List</tspan><tspan class=\"line\" dy=\"2.6em\" x=\"0\" y=\"0\">Comprehensions and Lambda Functions</tspan></text></g></g><g class=\"column-cell\" transform=\"translate(0,673.15625)\"><rect class=\"cell-rect\" width=\"300\" stroke-width=\"1\" style=\"stroke: rgb(47, 79, 79); stroke-opacity: 1; fill: rgb(255, 255, 255); fill-opacity: 1;\" height=\"110.5\"/><g class=\"cell-text-holder\" transform=\"translate(10.21875,21)\" style=\"shape-rendering: geometricprecision;\"><text class=\"cell-text\" dy=\"0\" x=\"0\" y=\"0\" style=\"cursor: auto; font-family: 'Open Sans', verdana, arial, sans-serif; font-size: 12px; fill: rgb(42, 63, 95); fill-opacity: 1; white-space: pre;\"><tspan class=\"line\" dy=\"0em\" x=\"0\" y=\"0\">Challenge: Cleaning Data /  Data Cleaning</tspan><tspan class=\"line\" dy=\"1.3em\" x=\"0\" y=\"0\">Walkthrough: Analyzing and Visualizing the Data / </tspan><tspan class=\"line\" dy=\"2.6em\" x=\"0\" y=\"0\">Guided Project: Analyzing NYC High School Data / </tspan><tspan class=\"line\" dy=\"3.9000000000000004em\" x=\"0\" y=\"0\">Guided Project: Star Wars Survey /  Data Cleaning</tspan><tspan class=\"line\" dy=\"5.2em\" x=\"0\" y=\"0\">Walkthrough: Combining the Data /  Data</tspan><tspan class=\"line\" dy=\"6.5em\" x=\"0\" y=\"0\">Cleaning Walkthrough</tspan></text></g></g><g class=\"column-cell\" transform=\"translate(0,783.65625)\"><rect class=\"cell-rect\" width=\"300\" stroke-width=\"1\" style=\"stroke: rgb(47, 79, 79); stroke-opacity: 1; fill: rgb(255, 255, 255); fill-opacity: 1;\" height=\"63.703125\"/><g class=\"cell-text-holder\" transform=\"translate(18.5390625,21)\" style=\"shape-rendering: geometricprecision;\"><text class=\"cell-text\" dy=\"0\" x=\"0\" y=\"0\" style=\"cursor: auto; font-family: 'Open Sans', verdana, arial, sans-serif; font-size: 12px; fill: rgb(42, 63, 95); fill-opacity: 1; white-space: pre;\"><tspan class=\"line\" dy=\"0em\" x=\"0\" y=\"0\">Introduction to the Command Line /  Modifying</tspan><tspan class=\"line\" dy=\"1.3em\" x=\"0\" y=\"0\">the Filesystem /  The Filesystem /  Users and</tspan><tspan class=\"line\" dy=\"2.6em\" x=\"0\" y=\"0\">Permissions /  Glob Patterns and Wildcards</tspan></text></g></g><g class=\"column-cell\" transform=\"translate(0,847.359375)\"><rect class=\"cell-rect\" width=\"300\" stroke-width=\"1\" style=\"stroke: rgb(47, 79, 79); stroke-opacity: 1; fill: rgb(255, 255, 255); fill-opacity: 1;\" height=\"79.3125\"/><g class=\"cell-text-holder\" transform=\"translate(21.8671875,21)\" style=\"shape-rendering: geometricprecision;\"><text class=\"cell-text\" dy=\"0\" x=\"0\" y=\"0\" style=\"cursor: auto; font-family: 'Open Sans', verdana, arial, sans-serif; font-size: 12px; fill: rgb(42, 63, 95); fill-opacity: 1; white-space: pre;\"><tspan class=\"line\" dy=\"0em\" x=\"0\" y=\"0\">Getting Help and Reading Documentation / </tspan><tspan class=\"line\" dy=\"1.3em\" x=\"0\" y=\"0\">Standard Streams and File Descriptors /  Text</tspan><tspan class=\"line\" dy=\"2.6em\" x=\"0\" y=\"0\">Processing /  File Inspection /  Redirection and</tspan><tspan class=\"line\" dy=\"3.9000000000000004em\" x=\"0\" y=\"0\">Pipelines</tspan></text></g></g><g class=\"column-cell\" transform=\"translate(0,926.671875)\"><rect class=\"cell-rect\" width=\"300\" stroke-width=\"1\" style=\"stroke: rgb(47, 79, 79); stroke-opacity: 1; fill: rgb(255, 255, 255); fill-opacity: 1;\" height=\"79.3125\"/><g class=\"cell-text-holder\" transform=\"translate(18.8125,21)\" style=\"shape-rendering: geometricprecision;\"><text class=\"cell-text\" dy=\"0\" x=\"0\" y=\"0\" style=\"cursor: auto; font-family: 'Open Sans', verdana, arial, sans-serif; font-size: 12px; fill: rgb(42, 63, 95); fill-opacity: 1; white-space: pre;\"><tspan class=\"line\" dy=\"0em\" x=\"0\" y=\"0\">Summary Statistics /  Subqueries /  Group</tspan><tspan class=\"line\" dy=\"1.3em\" x=\"0\" y=\"0\">Summary Statistics /  Guided Project: Analyzing</tspan><tspan class=\"line\" dy=\"2.6em\" x=\"0\" y=\"0\">CIA Factbook Data Using SQL /  Introduction to</tspan><tspan class=\"line\" dy=\"3.9000000000000004em\" x=\"0\" y=\"0\">SQL</tspan></text></g></g><g class=\"column-cell\" transform=\"translate(0,1005.984375)\"><rect class=\"cell-rect\" width=\"300\" stroke-width=\"1\" style=\"stroke: rgb(47, 79, 79); stroke-opacity: 1; fill: rgb(255, 255, 255); fill-opacity: 1;\" height=\"94.90625\"/><g class=\"cell-text-holder\" transform=\"translate(10.1484375,21)\" style=\"shape-rendering: geometricprecision;\"><text class=\"cell-text\" dy=\"0\" x=\"0\" y=\"0\" style=\"cursor: auto; font-family: 'Open Sans', verdana, arial, sans-serif; font-size: 12px; fill: rgb(42, 63, 95); fill-opacity: 1; white-space: pre;\"><tspan class=\"line\" dy=\"0em\" x=\"0\" y=\"0\">Guided Project: Answering Business Questions</tspan><tspan class=\"line\" dy=\"1.3em\" x=\"0\" y=\"0\">using SQL /  Table Relations and Normalization / </tspan><tspan class=\"line\" dy=\"2.6em\" x=\"0\" y=\"0\">Querying SQLite from Python /  Intermediate Joins</tspan><tspan class=\"line\" dy=\"3.9000000000000004em\" x=\"0\" y=\"0\">in SQL /  Joining Data in SQL /  Building and</tspan><tspan class=\"line\" dy=\"5.2em\" x=\"0\" y=\"0\">Organizing Complex Queries</tspan></text></g></g></g></g><g class=\"column-block\" id=\"cells2\" transform=\"translate(0,1060.890625)\" style=\"cursor: default;\"><g class=\"column-cells\"><g class=\"column-cell\" transform=\"translate(0,40)\"><rect class=\"cell-rect\" width=\"300\" stroke-width=\"1\" style=\"stroke: rgb(47, 79, 79); stroke-opacity: 1; fill: rgb(255, 255, 255); fill-opacity: 1;\" height=\"48.109375\"/><g class=\"cell-text-holder\" transform=\"translate(11.78125,21)\" style=\"shape-rendering: geometricprecision;\"><text class=\"cell-text\" dy=\"0\" x=\"0\" y=\"0\" style=\"cursor: auto; font-family: 'Open Sans', verdana, arial, sans-serif; font-size: 12px; fill: rgb(42, 63, 95); fill-opacity: 1; white-space: pre;\"><tspan class=\"line\" dy=\"0em\" x=\"0\" y=\"0\">Intermediate APIs /  Working with APIs /  Web</tspan><tspan class=\"line\" dy=\"1.3em\" x=\"0\" y=\"0\">Scraping /  Challenge: Working with the reddit API</tspan></text></g></g><g class=\"column-cell\" transform=\"translate(0,88.109375)\"><rect class=\"cell-rect\" width=\"300\" stroke-width=\"1\" style=\"stroke: rgb(47, 79, 79); stroke-opacity: 1; fill: rgb(255, 255, 255); fill-opacity: 1;\" height=\"63.703125\"/><g class=\"cell-text-holder\" transform=\"translate(29.4375,21)\" style=\"shape-rendering: geometricprecision;\"><text class=\"cell-text\" dy=\"0\" x=\"0\" y=\"0\" style=\"cursor: auto; font-family: 'Open Sans', verdana, arial, sans-serif; font-size: 12px; fill: rgb(42, 63, 95); fill-opacity: 1; white-space: pre;\"><tspan class=\"line\" dy=\"0em\" x=\"0\" y=\"0\">Fuzzy Language in Data Science /  Business</tspan><tspan class=\"line\" dy=\"1.3em\" x=\"0\" y=\"0\">Metrics /  Communicating Results /  Guided</tspan><tspan class=\"line\" dy=\"2.6em\" x=\"0\" y=\"0\">Project: Popular Data Science Questions</tspan></text></g></g><g class=\"column-cell\" transform=\"translate(0,151.8125)\"><rect class=\"cell-rect\" width=\"300\" stroke-width=\"1\" style=\"stroke: rgb(47, 79, 79); stroke-opacity: 1; fill: rgb(255, 255, 255); fill-opacity: 1;\" height=\"79.3125\"/><g class=\"cell-text-holder\" transform=\"translate(12.484375,21)\" style=\"shape-rendering: geometricprecision;\"><text class=\"cell-text\" dy=\"0\" x=\"0\" y=\"0\" style=\"cursor: auto; font-family: 'Open Sans', verdana, arial, sans-serif; font-size: 12px; fill: rgb(42, 63, 95); fill-opacity: 1; white-space: pre;\"><tspan class=\"line\" dy=\"0em\" x=\"0\" y=\"0\">Visualizing Frequency Distributions /  Guided</tspan><tspan class=\"line\" dy=\"1.3em\" x=\"0\" y=\"0\">Project: Investigating Fandango Movie Ratings / </tspan><tspan class=\"line\" dy=\"2.6em\" x=\"0\" y=\"0\">Variables in Statistics /  Frequency Distributions / </tspan><tspan class=\"line\" dy=\"3.9000000000000004em\" x=\"0\" y=\"0\">Sampling /  Comparing Frequency Distributions</tspan></text></g></g><g class=\"column-cell\" transform=\"translate(0,231.125)\"><rect class=\"cell-rect\" width=\"300\" stroke-width=\"1\" style=\"stroke: rgb(47, 79, 79); stroke-opacity: 1; fill: rgb(255, 255, 255); fill-opacity: 1;\" height=\"79.3125\"/><g class=\"cell-text-holder\" transform=\"translate(11.4765625,21)\" style=\"shape-rendering: geometricprecision;\"><text class=\"cell-text\" dy=\"0\" x=\"0\" y=\"0\" style=\"cursor: auto; font-family: 'Open Sans', verdana, arial, sans-serif; font-size: 12px; fill: rgb(42, 63, 95); fill-opacity: 1; white-space: pre;\"><tspan class=\"line\" dy=\"0em\" x=\"0\" y=\"0\">The Mode /  Measures of Variability /  The Mean / </tspan><tspan class=\"line\" dy=\"1.3em\" x=\"0\" y=\"0\">Guided Project: Finding the Best Markets to</tspan><tspan class=\"line\" dy=\"2.6em\" x=\"0\" y=\"0\">Advertise In /  The Weighted Mean and the</tspan><tspan class=\"line\" dy=\"3.9000000000000004em\" x=\"0\" y=\"0\">Median /  Z-scores</tspan></text></g></g><g class=\"column-cell\" transform=\"translate(0,310.4375)\"><rect class=\"cell-rect\" width=\"300\" stroke-width=\"1\" style=\"stroke: rgb(47, 79, 79); stroke-opacity: 1; fill: rgb(255, 255, 255); fill-opacity: 1;\" height=\"79.3125\"/><g class=\"cell-text-holder\" transform=\"translate(31.0859375,21)\" style=\"shape-rendering: geometricprecision;\"><text class=\"cell-text\" dy=\"0\" x=\"0\" y=\"0\" style=\"cursor: auto; font-family: 'Open Sans', verdana, arial, sans-serif; font-size: 12px; fill: rgb(42, 63, 95); fill-opacity: 1; white-space: pre;\"><tspan class=\"line\" dy=\"0em\" x=\"0\" y=\"0\">Permutations and Combinations /  Guided</tspan><tspan class=\"line\" dy=\"1.3em\" x=\"0\" y=\"0\">Project: Mobile App for Lottery Addiction / </tspan><tspan class=\"line\" dy=\"2.6em\" x=\"0\" y=\"0\">Estimating Probabilities /  Solving Complex</tspan><tspan class=\"line\" dy=\"3.9000000000000004em\" x=\"0\" y=\"0\">Probability Problems /  Probability Rules</tspan></text></g></g><g class=\"column-cell\" transform=\"translate(0,389.75)\"><rect class=\"cell-rect\" width=\"300\" stroke-width=\"1\" style=\"stroke: rgb(47, 79, 79); stroke-opacity: 1; fill: rgb(255, 255, 255); fill-opacity: 1;\" height=\"79.3125\"/><g class=\"cell-text-holder\" transform=\"translate(10.921875,21)\" style=\"shape-rendering: geometricprecision;\"><text class=\"cell-text\" dy=\"0\" x=\"0\" y=\"0\" style=\"cursor: auto; font-family: 'Open Sans', verdana, arial, sans-serif; font-size: 12px; fill: rgb(42, 63, 95); fill-opacity: 1; white-space: pre;\"><tspan class=\"line\" dy=\"0em\" x=\"0\" y=\"0\">The Naive Bayes Algorithm /  Guided Project:</tspan><tspan class=\"line\" dy=\"1.3em\" x=\"0\" y=\"0\">Building a Spam Filter with Naive Bayes /  Bayes</tspan><tspan class=\"line\" dy=\"2.6em\" x=\"0\" y=\"0\">Theorem /  Conditional Probability: Fundamentals</tspan><tspan class=\"line\" dy=\"3.9000000000000004em\" x=\"0\" y=\"0\">/  Conditional Probability: Intermediate</tspan></text></g></g><g class=\"column-cell\" transform=\"translate(0,469.0625)\"><rect class=\"cell-rect\" width=\"300\" stroke-width=\"1\" style=\"stroke: rgb(47, 79, 79); stroke-opacity: 1; fill: rgb(255, 255, 255); fill-opacity: 1;\" height=\"63.703125\"/><g class=\"cell-text-holder\" transform=\"translate(9.59375,21)\" style=\"shape-rendering: geometricprecision;\"><text class=\"cell-text\" dy=\"0\" x=\"0\" y=\"0\" style=\"cursor: auto; font-family: 'Open Sans', verdana, arial, sans-serif; font-size: 12px; fill: rgb(42, 63, 95); fill-opacity: 1; white-space: pre;\"><tspan class=\"line\" dy=\"0em\" x=\"0\" y=\"0\">Guided Project: Winning Jeopardy /  Multi</tspan><tspan class=\"line\" dy=\"1.3em\" x=\"0\" y=\"0\">category chi-squared tests /  Significance Testing / </tspan><tspan class=\"line\" dy=\"2.6em\" x=\"0\" y=\"0\">Chi-squared tests</tspan></text></g></g><g class=\"column-cell\" transform=\"translate(0,532.765625)\"><rect class=\"cell-rect\" width=\"300\" stroke-width=\"1\" style=\"stroke: rgb(47, 79, 79); stroke-opacity: 1; fill: rgb(255, 255, 255); fill-opacity: 1;\" height=\"94.90625\"/><g class=\"cell-text-holder\" transform=\"translate(12.3046875,21)\" style=\"shape-rendering: geometricprecision;\"><text class=\"cell-text\" dy=\"0\" x=\"0\" y=\"0\" style=\"cursor: auto; font-family: 'Open Sans', verdana, arial, sans-serif; font-size: 12px; fill: rgb(42, 63, 95); fill-opacity: 1; white-space: pre;\"><tspan class=\"line\" dy=\"0em\" x=\"0\" y=\"0\">Introduction to K-Nearest Neighbors /  Cross</tspan><tspan class=\"line\" dy=\"1.3em\" x=\"0\" y=\"0\">Validation /  Hyperparameter Optimization / </tspan><tspan class=\"line\" dy=\"2.6em\" x=\"0\" y=\"0\">Evaluating Model Performance /  Multivariate</tspan><tspan class=\"line\" dy=\"3.9000000000000004em\" x=\"0\" y=\"0\">K-Nearest Neighbors /  Guided Project: Predicting</tspan><tspan class=\"line\" dy=\"5.2em\" x=\"0\" y=\"0\">Car Prices</tspan></text></g></g><g class=\"column-cell\" transform=\"translate(0,627.671875)\"><rect class=\"cell-rect\" width=\"300\" stroke-width=\"1\" style=\"stroke: rgb(47, 79, 79); stroke-opacity: 1; fill: rgb(255, 255, 255); fill-opacity: 1;\" height=\"48.109375\"/><g class=\"cell-text-holder\" transform=\"translate(13.75,21)\" style=\"shape-rendering: geometricprecision;\"><text class=\"cell-text\" dy=\"0\" x=\"0\" y=\"0\" style=\"cursor: auto; font-family: 'Open Sans', verdana, arial, sans-serif; font-size: 12px; fill: rgb(42, 63, 95); fill-opacity: 1; white-space: pre;\"><tspan class=\"line\" dy=\"0em\" x=\"0\" y=\"0\">Understanding Linear and Nonlinear Functions / </tspan><tspan class=\"line\" dy=\"1.3em\" x=\"0\" y=\"0\">Understanding Limits /  Finding Extreme Points</tspan></text></g></g><g class=\"column-cell\" transform=\"translate(0,675.78125)\"><rect class=\"cell-rect\" width=\"300\" stroke-width=\"1\" style=\"stroke: rgb(47, 79, 79); stroke-opacity: 1; fill: rgb(255, 255, 255); fill-opacity: 1;\" height=\"48.109375\"/><g class=\"cell-text-holder\" transform=\"translate(13.8125,21)\" style=\"shape-rendering: geometricprecision;\"><text class=\"cell-text\" dy=\"0\" x=\"0\" y=\"0\" style=\"cursor: auto; font-family: 'Open Sans', verdana, arial, sans-serif; font-size: 12px; fill: rgb(42, 63, 95); fill-opacity: 1; white-space: pre;\"><tspan class=\"line\" dy=\"0em\" x=\"0\" y=\"0\">Solution Sets /  Matrix Algebra /  Vectors /  Linear</tspan><tspan class=\"line\" dy=\"1.3em\" x=\"0\" y=\"0\">Systems</tspan></text></g></g><g class=\"column-cell\" transform=\"translate(0,723.890625)\"><rect class=\"cell-rect\" width=\"300\" stroke-width=\"1\" style=\"stroke: rgb(47, 79, 79); stroke-opacity: 1; fill: rgb(255, 255, 255); fill-opacity: 1;\" height=\"79.3125\"/><g class=\"cell-text-holder\" transform=\"translate(10.1953125,21)\" style=\"shape-rendering: geometricprecision;\"><text class=\"cell-text\" dy=\"0\" x=\"0\" y=\"0\" style=\"cursor: auto; font-family: 'Open Sans', verdana, arial, sans-serif; font-size: 12px; fill: rgb(42, 63, 95); fill-opacity: 1; white-space: pre;\"><tspan class=\"line\" dy=\"0em\" x=\"0\" y=\"0\">The Linear Regression Model /  Guided Project:</tspan><tspan class=\"line\" dy=\"1.3em\" x=\"0\" y=\"0\">Predicting House Sale Prices /  Gradient Descent / </tspan><tspan class=\"line\" dy=\"2.6em\" x=\"0\" y=\"0\">Ordinary Least Squares /  Processing And</tspan><tspan class=\"line\" dy=\"3.9000000000000004em\" x=\"0\" y=\"0\">Transforming Features /  Feature Selection</tspan></text></g></g><g class=\"column-cell\" transform=\"translate(0,803.203125)\"><rect class=\"cell-rect\" width=\"300\" stroke-width=\"1\" style=\"stroke: rgb(47, 79, 79); stroke-opacity: 1; fill: rgb(255, 255, 255); fill-opacity: 1;\" height=\"94.90625\"/><g class=\"cell-text-holder\" transform=\"translate(18.5625,21)\" style=\"shape-rendering: geometricprecision;\"><text class=\"cell-text\" dy=\"0\" x=\"0\" y=\"0\" style=\"cursor: auto; font-family: 'Open Sans', verdana, arial, sans-serif; font-size: 12px; fill: rgb(42, 63, 95); fill-opacity: 1; white-space: pre;\"><tspan class=\"line\" dy=\"0em\" x=\"0\" y=\"0\">K-means clustering /  Clustering basics / </tspan><tspan class=\"line\" dy=\"1.3em\" x=\"0\" y=\"0\">Multiclass classification /  Introduction to</tspan><tspan class=\"line\" dy=\"2.6em\" x=\"0\" y=\"0\">evaluating binary classifiers /  Overfitting / </tspan><tspan class=\"line\" dy=\"3.9000000000000004em\" x=\"0\" y=\"0\">Logistic regression /  Guided Project: Predicting</tspan><tspan class=\"line\" dy=\"5.2em\" x=\"0\" y=\"0\">the stock market</tspan></text></g></g></g></g><g class=\"column-block\" id=\"header\" style=\"cursor: ew-resize;\"><g class=\"column-cells\"><g class=\"column-cell\" transform=\"\"><rect class=\"cell-rect\" width=\"300\" stroke-width=\"1\" height=\"40\" style=\"stroke: rgb(47, 79, 79); stroke-opacity: 1; fill: rgb(65, 105, 225); fill-opacity: 1;\"/><g class=\"cell-text-holder\" transform=\"translate(150,8)\" text-anchor=\"middle\" style=\"shape-rendering: geometricprecision;\"><text class=\"cell-text\" dy=\"0.75em\" style=\"cursor: auto; font-family: 'Open Sans', verdana, arial, sans-serif; font-size: 12px; fill: rgb(255, 255, 255); fill-opacity: 1;\">Missions</text></g></g></g></g><g class=\"column-boundary\"/><clipPath class=\"column-boundary-clippath\" id=\"clipc9bfac_columnBoundaryClippath_cc08a2true_2\"><rect class=\"column-boundary-rect\" fill=\"none\" width=\"302\" height=\"277\" x=\"-1\" y=\"-1\"/></clipPath></g><g class=\"scrollbar-kit\" transform=\"translate(549,40)\" style=\"shape-rendering: geometricprecision;\"><g class=\"scrollbar\"><g class=\"scrollbar-slider\" transform=\"\"/></g></g><clipPath class=\"scroll-area-clip\" id=\"clipc9bfac_scrollAreaBottomClip_cc08a2true\"><rect class=\"scroll-area-clip-rect\" x=\"-45\" y=\"-5\" fill=\"none\" width=\"630\" height=\"275\"/></clipPath></g></g><defs id=\"topdefs-c9bfac\"><g class=\"clips\"/></defs><g class=\"layer-above\"><g class=\"imagelayer\"/><g class=\"shapelayer\"/></g><g class=\"infolayer\"><g class=\"g-gtitle\"/></g></svg>"
      ]
     },
     "metadata": {},
     "output_type": "display_data"
    }
   ],
   "source": [
    "# Plot table\n",
    "import plotly.graph_objects as go\n",
    "\n",
    "fig1 = go.Figure()\n",
    "\n",
    "fig1.add_trace(\n",
    "    go.Table(\n",
    "        columnwidth = [30, 10,50],\n",
    "         header = dict(\n",
    "         values = header,\n",
    "    line_color = 'darkslategray',\n",
    "    fill_color = 'royalblue',\n",
    "    align = ['center'],\n",
    "    font = dict(\n",
    "        color = 'white', \n",
    "        size = 12),\n",
    "    height = 40\n",
    "  ),\n",
    "  cells=dict(\n",
    "    values = values,\n",
    "    line_color = 'darkslategray',\n",
    "    fill = dict(color=['paleturquoise', 'white']),\n",
    "    align = ['center'],\n",
    "    font_size = 12)\n",
    "    )\n",
    ")\n",
    "\n",
    "fig1.show('svg')"
   ]
  },
  {
   "cell_type": "code",
   "execution_count": 135,
   "metadata": {
    "scrolled": false
   },
   "outputs": [
    {
     "data": {
      "application/vnd.plotly.v1+json": {
       "config": {
        "plotlyServerURL": "https://plotly.com",
        "toImageButtonOptions": {
         "filename": "custom_image",
         "format": "webp",
         "height": 600,
         "scale": 1,
         "width": 1200
        }
       },
       "data": [
        {
         "line": {
          "color": "rgba(52, 162, 235, 0.9)"
         },
         "mode": "lines+text",
         "name": "Hours Spent",
         "text": [
          "Step 1",
          "Step 2",
          "Step 2",
          "Step 2",
          "Step 2",
          "Step 2 Step 3 Step 4",
          "Step 4",
          "Step 4",
          "Step 4 Step 5",
          "Step 5",
          "Step 5",
          "Step 5",
          "Step 5",
          "Step 5",
          "Step 6",
          "Step 6",
          "Step 6",
          "",
          "Step 1 Step 6",
          "Step 7",
          "Step 7 Step 8",
          "",
          "Step 8",
          "Step 8",
          "Step 1",
          "Step 1"
         ],
         "textfont": {
          "size": 10
         },
         "textposition": "top center",
         "type": "scatter",
         "x": [
          "2020-06-22T00:00:00",
          "2020-06-29T00:00:00",
          "2020-07-06T00:00:00",
          "2020-07-13T00:00:00",
          "2020-07-20T00:00:00",
          "2020-07-27T00:00:00",
          "2020-08-03T00:00:00",
          "2020-08-10T00:00:00",
          "2020-08-17T00:00:00",
          "2020-08-24T00:00:00",
          "2020-08-31T00:00:00",
          "2020-09-07T00:00:00",
          "2020-09-14T00:00:00",
          "2020-09-21T00:00:00",
          "2020-09-28T00:00:00",
          "2020-10-05T00:00:00",
          "2020-10-12T00:00:00",
          "2020-10-19T00:00:00",
          "2020-10-26T00:00:00",
          "2020-11-02T00:00:00",
          "2020-11-09T00:00:00",
          "2020-11-16T00:00:00",
          "2020-11-23T00:00:00",
          "2020-11-30T00:00:00",
          "2020-12-07T00:00:00",
          "2020-12-14T00:00:00"
         ],
         "y": [
          4.62,
          20.52,
          10.77,
          14.05,
          18.88,
          22.82,
          7.43,
          16.95,
          13.95,
          7.43,
          7.43,
          13.05,
          1.85,
          7.43,
          7.43,
          17.63,
          22.35,
          0,
          19.58,
          30.28,
          21.13,
          0,
          11.5,
          5.65,
          1.85,
          1.85
         ]
        },
        {
         "line": {
          "color": "rgba(235, 64, 52, 0.7)"
         },
         "mode": "lines+text",
         "name": "Missions Completed",
         "textposition": "top center",
         "type": "scatter",
         "x": [
          1,
          2,
          3,
          4,
          5,
          6,
          7,
          8,
          9,
          10,
          11,
          12,
          13,
          14,
          15,
          16,
          17,
          18,
          19,
          20,
          21,
          22,
          23,
          24,
          25,
          26
         ],
         "xaxis": "x2",
         "y": [
          5,
          10,
          7,
          7,
          6,
          16,
          4,
          10,
          9,
          4,
          4,
          5,
          1,
          4,
          4,
          9,
          13,
          0,
          12,
          7,
          5,
          0,
          16,
          5,
          1,
          1
         ],
         "yaxis": "y2"
        },
        {
         "line": {
          "color": "green",
          "dash": "dash",
          "width": 1
         },
         "mode": "lines",
         "name": "Average Hours Spent Per Week",
         "type": "scatter",
         "x": [
          "2020-06-22T00:00:00",
          "2020-06-29T00:00:00",
          "2020-07-06T00:00:00",
          "2020-07-13T00:00:00",
          "2020-07-20T00:00:00",
          "2020-07-27T00:00:00",
          "2020-08-03T00:00:00",
          "2020-08-10T00:00:00",
          "2020-08-17T00:00:00",
          "2020-08-24T00:00:00",
          "2020-08-31T00:00:00",
          "2020-09-07T00:00:00",
          "2020-09-14T00:00:00",
          "2020-09-21T00:00:00",
          "2020-09-28T00:00:00",
          "2020-10-05T00:00:00",
          "2020-10-12T00:00:00",
          "2020-10-19T00:00:00",
          "2020-10-26T00:00:00",
          "2020-11-02T00:00:00",
          "2020-11-09T00:00:00",
          "2020-11-16T00:00:00",
          "2020-11-23T00:00:00",
          "2020-11-30T00:00:00",
          "2020-12-07T00:00:00",
          "2020-12-14T00:00:00"
         ],
         "y": [
          12.76875,
          12.76875,
          12.76875,
          12.76875,
          12.76875,
          12.76875,
          12.76875,
          12.76875,
          12.76875,
          12.76875,
          12.76875,
          12.76875,
          12.76875,
          12.76875,
          12.76875,
          12.76875,
          12.76875,
          12.76875,
          12.76875,
          12.76875,
          12.76875,
          12.76875,
          12.76875,
          12.76875,
          12.76875,
          12.76875
         ]
        }
       ],
       "layout": {
        "annotations": [
         {
          "arrowhead": 2,
          "ax": -200,
          "ay": 15,
          "bgcolor": "#fca906",
          "font": {
           "color": "white"
          },
          "text": "Extra time spent building<br>a neural network model from scratch",
          "x": "2020-11-02",
          "xref": "x",
          "y": 30.28,
          "yref": "y"
         },
         {
          "arrowhead": 0,
          "ax": 0,
          "ay": -65,
          "bgcolor": "#fca906",
          "font": {
           "color": "white"
          },
          "text": "Step 5: Probability and Statistics",
          "x": "2020-09-07",
          "xref": "x",
          "y": 13.05,
          "yref": "y"
         }
        ],
        "height": 600,
        "legend": {
         "bgcolor": "rgba(255, 255, 255, 0.5)",
         "font": {
          "color": "black",
          "size": 12
         },
         "orientation": "h",
         "x": 0.015,
         "y": 0.08
        },
        "plot_bgcolor": "rgba(230, 236, 240 0.5)",
        "template": {
         "data": {
          "bar": [
           {
            "error_x": {
             "color": "#2a3f5f"
            },
            "error_y": {
             "color": "#2a3f5f"
            },
            "marker": {
             "line": {
              "color": "#E5ECF6",
              "width": 0.5
             }
            },
            "type": "bar"
           }
          ],
          "barpolar": [
           {
            "marker": {
             "line": {
              "color": "#E5ECF6",
              "width": 0.5
             }
            },
            "type": "barpolar"
           }
          ],
          "carpet": [
           {
            "aaxis": {
             "endlinecolor": "#2a3f5f",
             "gridcolor": "white",
             "linecolor": "white",
             "minorgridcolor": "white",
             "startlinecolor": "#2a3f5f"
            },
            "baxis": {
             "endlinecolor": "#2a3f5f",
             "gridcolor": "white",
             "linecolor": "white",
             "minorgridcolor": "white",
             "startlinecolor": "#2a3f5f"
            },
            "type": "carpet"
           }
          ],
          "choropleth": [
           {
            "colorbar": {
             "outlinewidth": 0,
             "ticks": ""
            },
            "type": "choropleth"
           }
          ],
          "contour": [
           {
            "colorbar": {
             "outlinewidth": 0,
             "ticks": ""
            },
            "colorscale": [
             [
              0,
              "#0d0887"
             ],
             [
              0.1111111111111111,
              "#46039f"
             ],
             [
              0.2222222222222222,
              "#7201a8"
             ],
             [
              0.3333333333333333,
              "#9c179e"
             ],
             [
              0.4444444444444444,
              "#bd3786"
             ],
             [
              0.5555555555555556,
              "#d8576b"
             ],
             [
              0.6666666666666666,
              "#ed7953"
             ],
             [
              0.7777777777777778,
              "#fb9f3a"
             ],
             [
              0.8888888888888888,
              "#fdca26"
             ],
             [
              1,
              "#f0f921"
             ]
            ],
            "type": "contour"
           }
          ],
          "contourcarpet": [
           {
            "colorbar": {
             "outlinewidth": 0,
             "ticks": ""
            },
            "type": "contourcarpet"
           }
          ],
          "heatmap": [
           {
            "colorbar": {
             "outlinewidth": 0,
             "ticks": ""
            },
            "colorscale": [
             [
              0,
              "#0d0887"
             ],
             [
              0.1111111111111111,
              "#46039f"
             ],
             [
              0.2222222222222222,
              "#7201a8"
             ],
             [
              0.3333333333333333,
              "#9c179e"
             ],
             [
              0.4444444444444444,
              "#bd3786"
             ],
             [
              0.5555555555555556,
              "#d8576b"
             ],
             [
              0.6666666666666666,
              "#ed7953"
             ],
             [
              0.7777777777777778,
              "#fb9f3a"
             ],
             [
              0.8888888888888888,
              "#fdca26"
             ],
             [
              1,
              "#f0f921"
             ]
            ],
            "type": "heatmap"
           }
          ],
          "heatmapgl": [
           {
            "colorbar": {
             "outlinewidth": 0,
             "ticks": ""
            },
            "colorscale": [
             [
              0,
              "#0d0887"
             ],
             [
              0.1111111111111111,
              "#46039f"
             ],
             [
              0.2222222222222222,
              "#7201a8"
             ],
             [
              0.3333333333333333,
              "#9c179e"
             ],
             [
              0.4444444444444444,
              "#bd3786"
             ],
             [
              0.5555555555555556,
              "#d8576b"
             ],
             [
              0.6666666666666666,
              "#ed7953"
             ],
             [
              0.7777777777777778,
              "#fb9f3a"
             ],
             [
              0.8888888888888888,
              "#fdca26"
             ],
             [
              1,
              "#f0f921"
             ]
            ],
            "type": "heatmapgl"
           }
          ],
          "histogram": [
           {
            "marker": {
             "colorbar": {
              "outlinewidth": 0,
              "ticks": ""
             }
            },
            "type": "histogram"
           }
          ],
          "histogram2d": [
           {
            "colorbar": {
             "outlinewidth": 0,
             "ticks": ""
            },
            "colorscale": [
             [
              0,
              "#0d0887"
             ],
             [
              0.1111111111111111,
              "#46039f"
             ],
             [
              0.2222222222222222,
              "#7201a8"
             ],
             [
              0.3333333333333333,
              "#9c179e"
             ],
             [
              0.4444444444444444,
              "#bd3786"
             ],
             [
              0.5555555555555556,
              "#d8576b"
             ],
             [
              0.6666666666666666,
              "#ed7953"
             ],
             [
              0.7777777777777778,
              "#fb9f3a"
             ],
             [
              0.8888888888888888,
              "#fdca26"
             ],
             [
              1,
              "#f0f921"
             ]
            ],
            "type": "histogram2d"
           }
          ],
          "histogram2dcontour": [
           {
            "colorbar": {
             "outlinewidth": 0,
             "ticks": ""
            },
            "colorscale": [
             [
              0,
              "#0d0887"
             ],
             [
              0.1111111111111111,
              "#46039f"
             ],
             [
              0.2222222222222222,
              "#7201a8"
             ],
             [
              0.3333333333333333,
              "#9c179e"
             ],
             [
              0.4444444444444444,
              "#bd3786"
             ],
             [
              0.5555555555555556,
              "#d8576b"
             ],
             [
              0.6666666666666666,
              "#ed7953"
             ],
             [
              0.7777777777777778,
              "#fb9f3a"
             ],
             [
              0.8888888888888888,
              "#fdca26"
             ],
             [
              1,
              "#f0f921"
             ]
            ],
            "type": "histogram2dcontour"
           }
          ],
          "mesh3d": [
           {
            "colorbar": {
             "outlinewidth": 0,
             "ticks": ""
            },
            "type": "mesh3d"
           }
          ],
          "parcoords": [
           {
            "line": {
             "colorbar": {
              "outlinewidth": 0,
              "ticks": ""
             }
            },
            "type": "parcoords"
           }
          ],
          "pie": [
           {
            "automargin": true,
            "type": "pie"
           }
          ],
          "scatter": [
           {
            "marker": {
             "colorbar": {
              "outlinewidth": 0,
              "ticks": ""
             }
            },
            "type": "scatter"
           }
          ],
          "scatter3d": [
           {
            "line": {
             "colorbar": {
              "outlinewidth": 0,
              "ticks": ""
             }
            },
            "marker": {
             "colorbar": {
              "outlinewidth": 0,
              "ticks": ""
             }
            },
            "type": "scatter3d"
           }
          ],
          "scattercarpet": [
           {
            "marker": {
             "colorbar": {
              "outlinewidth": 0,
              "ticks": ""
             }
            },
            "type": "scattercarpet"
           }
          ],
          "scattergeo": [
           {
            "marker": {
             "colorbar": {
              "outlinewidth": 0,
              "ticks": ""
             }
            },
            "type": "scattergeo"
           }
          ],
          "scattergl": [
           {
            "marker": {
             "colorbar": {
              "outlinewidth": 0,
              "ticks": ""
             }
            },
            "type": "scattergl"
           }
          ],
          "scattermapbox": [
           {
            "marker": {
             "colorbar": {
              "outlinewidth": 0,
              "ticks": ""
             }
            },
            "type": "scattermapbox"
           }
          ],
          "scatterpolar": [
           {
            "marker": {
             "colorbar": {
              "outlinewidth": 0,
              "ticks": ""
             }
            },
            "type": "scatterpolar"
           }
          ],
          "scatterpolargl": [
           {
            "marker": {
             "colorbar": {
              "outlinewidth": 0,
              "ticks": ""
             }
            },
            "type": "scatterpolargl"
           }
          ],
          "scatterternary": [
           {
            "marker": {
             "colorbar": {
              "outlinewidth": 0,
              "ticks": ""
             }
            },
            "type": "scatterternary"
           }
          ],
          "surface": [
           {
            "colorbar": {
             "outlinewidth": 0,
             "ticks": ""
            },
            "colorscale": [
             [
              0,
              "#0d0887"
             ],
             [
              0.1111111111111111,
              "#46039f"
             ],
             [
              0.2222222222222222,
              "#7201a8"
             ],
             [
              0.3333333333333333,
              "#9c179e"
             ],
             [
              0.4444444444444444,
              "#bd3786"
             ],
             [
              0.5555555555555556,
              "#d8576b"
             ],
             [
              0.6666666666666666,
              "#ed7953"
             ],
             [
              0.7777777777777778,
              "#fb9f3a"
             ],
             [
              0.8888888888888888,
              "#fdca26"
             ],
             [
              1,
              "#f0f921"
             ]
            ],
            "type": "surface"
           }
          ],
          "table": [
           {
            "cells": {
             "fill": {
              "color": "#EBF0F8"
             },
             "line": {
              "color": "white"
             }
            },
            "header": {
             "fill": {
              "color": "#C8D4E3"
             },
             "line": {
              "color": "white"
             }
            },
            "type": "table"
           }
          ]
         },
         "layout": {
          "annotationdefaults": {
           "arrowcolor": "#2a3f5f",
           "arrowhead": 0,
           "arrowwidth": 1
          },
          "autotypenumbers": "strict",
          "coloraxis": {
           "colorbar": {
            "outlinewidth": 0,
            "ticks": ""
           }
          },
          "colorscale": {
           "diverging": [
            [
             0,
             "#8e0152"
            ],
            [
             0.1,
             "#c51b7d"
            ],
            [
             0.2,
             "#de77ae"
            ],
            [
             0.3,
             "#f1b6da"
            ],
            [
             0.4,
             "#fde0ef"
            ],
            [
             0.5,
             "#f7f7f7"
            ],
            [
             0.6,
             "#e6f5d0"
            ],
            [
             0.7,
             "#b8e186"
            ],
            [
             0.8,
             "#7fbc41"
            ],
            [
             0.9,
             "#4d9221"
            ],
            [
             1,
             "#276419"
            ]
           ],
           "sequential": [
            [
             0,
             "#0d0887"
            ],
            [
             0.1111111111111111,
             "#46039f"
            ],
            [
             0.2222222222222222,
             "#7201a8"
            ],
            [
             0.3333333333333333,
             "#9c179e"
            ],
            [
             0.4444444444444444,
             "#bd3786"
            ],
            [
             0.5555555555555556,
             "#d8576b"
            ],
            [
             0.6666666666666666,
             "#ed7953"
            ],
            [
             0.7777777777777778,
             "#fb9f3a"
            ],
            [
             0.8888888888888888,
             "#fdca26"
            ],
            [
             1,
             "#f0f921"
            ]
           ],
           "sequentialminus": [
            [
             0,
             "#0d0887"
            ],
            [
             0.1111111111111111,
             "#46039f"
            ],
            [
             0.2222222222222222,
             "#7201a8"
            ],
            [
             0.3333333333333333,
             "#9c179e"
            ],
            [
             0.4444444444444444,
             "#bd3786"
            ],
            [
             0.5555555555555556,
             "#d8576b"
            ],
            [
             0.6666666666666666,
             "#ed7953"
            ],
            [
             0.7777777777777778,
             "#fb9f3a"
            ],
            [
             0.8888888888888888,
             "#fdca26"
            ],
            [
             1,
             "#f0f921"
            ]
           ]
          },
          "colorway": [
           "#636efa",
           "#EF553B",
           "#00cc96",
           "#ab63fa",
           "#FFA15A",
           "#19d3f3",
           "#FF6692",
           "#B6E880",
           "#FF97FF",
           "#FECB52"
          ],
          "font": {
           "color": "#2a3f5f"
          },
          "geo": {
           "bgcolor": "white",
           "lakecolor": "white",
           "landcolor": "#E5ECF6",
           "showlakes": true,
           "showland": true,
           "subunitcolor": "white"
          },
          "hoverlabel": {
           "align": "left"
          },
          "hovermode": "closest",
          "mapbox": {
           "style": "light"
          },
          "paper_bgcolor": "white",
          "plot_bgcolor": "#E5ECF6",
          "polar": {
           "angularaxis": {
            "gridcolor": "white",
            "linecolor": "white",
            "ticks": ""
           },
           "bgcolor": "#E5ECF6",
           "radialaxis": {
            "gridcolor": "white",
            "linecolor": "white",
            "ticks": ""
           }
          },
          "scene": {
           "xaxis": {
            "backgroundcolor": "#E5ECF6",
            "gridcolor": "white",
            "gridwidth": 2,
            "linecolor": "white",
            "showbackground": true,
            "ticks": "",
            "zerolinecolor": "white"
           },
           "yaxis": {
            "backgroundcolor": "#E5ECF6",
            "gridcolor": "white",
            "gridwidth": 2,
            "linecolor": "white",
            "showbackground": true,
            "ticks": "",
            "zerolinecolor": "white"
           },
           "zaxis": {
            "backgroundcolor": "#E5ECF6",
            "gridcolor": "white",
            "gridwidth": 2,
            "linecolor": "white",
            "showbackground": true,
            "ticks": "",
            "zerolinecolor": "white"
           }
          },
          "shapedefaults": {
           "line": {
            "color": "#2a3f5f"
           }
          },
          "ternary": {
           "aaxis": {
            "gridcolor": "white",
            "linecolor": "white",
            "ticks": ""
           },
           "baxis": {
            "gridcolor": "white",
            "linecolor": "white",
            "ticks": ""
           },
           "bgcolor": "#E5ECF6",
           "caxis": {
            "gridcolor": "white",
            "linecolor": "white",
            "ticks": ""
           }
          },
          "title": {
           "x": 0.05
          },
          "xaxis": {
           "automargin": true,
           "gridcolor": "white",
           "linecolor": "white",
           "ticks": "",
           "title": {
            "standoff": 15
           },
           "zerolinecolor": "white",
           "zerolinewidth": 2
          },
          "yaxis": {
           "automargin": true,
           "gridcolor": "white",
           "linecolor": "white",
           "ticks": "",
           "title": {
            "standoff": 15
           },
           "zerolinecolor": "white",
           "zerolinewidth": 2
          }
         }
        },
        "title": {
         "text": "Hours Spent vs Missions Completed"
        },
        "width": 1000,
        "xaxis": {
         "anchor": "y",
         "domain": [
          0,
          0.94
         ],
         "tickangle": 45,
         "tickvals": [
          "2020-06-22T00:00:00",
          "2020-06-29T00:00:00",
          "2020-07-06T00:00:00",
          "2020-07-13T00:00:00",
          "2020-07-20T00:00:00",
          "2020-07-27T00:00:00",
          "2020-08-03T00:00:00",
          "2020-08-10T00:00:00",
          "2020-08-17T00:00:00",
          "2020-08-24T00:00:00",
          "2020-08-31T00:00:00",
          "2020-09-07T00:00:00",
          "2020-09-14T00:00:00",
          "2020-09-21T00:00:00",
          "2020-09-28T00:00:00",
          "2020-10-05T00:00:00",
          "2020-10-12T00:00:00",
          "2020-10-19T00:00:00",
          "2020-10-26T00:00:00",
          "2020-11-02T00:00:00",
          "2020-11-09T00:00:00",
          "2020-11-16T00:00:00",
          "2020-11-23T00:00:00",
          "2020-11-30T00:00:00",
          "2020-12-07T00:00:00",
          "2020-12-14T00:00:00"
         ],
         "title": {
          "text": "Date"
         }
        },
        "xaxis2": {
         "anchor": "y",
         "mirror": true,
         "overlaying": "x",
         "side": "top",
         "tickvals": [
          1,
          2,
          3,
          4,
          5,
          6,
          7,
          8,
          9,
          10,
          11,
          12,
          13,
          14,
          15,
          16,
          17,
          18,
          19,
          20,
          21,
          22,
          23,
          24,
          25,
          26
         ],
         "title": {
          "text": "Week"
         }
        },
        "yaxis": {
         "anchor": "x",
         "domain": [
          0,
          1
         ],
         "showgrid": false,
         "title": {
          "text": "Hours Spent"
         }
        },
        "yaxis2": {
         "anchor": "x",
         "overlaying": "y",
         "showgrid": false,
         "side": "right",
         "title": {
          "text": "Missions Completed"
         }
        }
       }
      },
      "text/html": [
       "<div>                            <div id=\"19e5276e-9345-4618-b829-f21b021e9f91\" class=\"plotly-graph-div\" style=\"height:600px; width:1000px;\"></div>            <script type=\"text/javascript\">                require([\"plotly\"], function(Plotly) {                    window.PLOTLYENV=window.PLOTLYENV || {};                                    if (document.getElementById(\"19e5276e-9345-4618-b829-f21b021e9f91\")) {                    Plotly.newPlot(                        \"19e5276e-9345-4618-b829-f21b021e9f91\",                        [{\"line\": {\"color\": \"rgba(52, 162, 235, 0.9)\"}, \"mode\": \"lines+text\", \"name\": \"Hours Spent\", \"text\": [\"Step 1\", \"Step 2\", \"Step 2\", \"Step 2\", \"Step 2\", \"Step 2 Step 3 Step 4\", \"Step 4\", \"Step 4\", \"Step 4 Step 5\", \"Step 5\", \"Step 5\", \"Step 5\", \"Step 5\", \"Step 5\", \"Step 6\", \"Step 6\", \"Step 6\", \"\", \"Step 1 Step 6\", \"Step 7\", \"Step 7 Step 8\", \"\", \"Step 8\", \"Step 8\", \"Step 1\", \"Step 1\"], \"textfont\": {\"size\": 10}, \"textposition\": \"top center\", \"type\": \"scatter\", \"x\": [\"2020-06-22T00:00:00\", \"2020-06-29T00:00:00\", \"2020-07-06T00:00:00\", \"2020-07-13T00:00:00\", \"2020-07-20T00:00:00\", \"2020-07-27T00:00:00\", \"2020-08-03T00:00:00\", \"2020-08-10T00:00:00\", \"2020-08-17T00:00:00\", \"2020-08-24T00:00:00\", \"2020-08-31T00:00:00\", \"2020-09-07T00:00:00\", \"2020-09-14T00:00:00\", \"2020-09-21T00:00:00\", \"2020-09-28T00:00:00\", \"2020-10-05T00:00:00\", \"2020-10-12T00:00:00\", \"2020-10-19T00:00:00\", \"2020-10-26T00:00:00\", \"2020-11-02T00:00:00\", \"2020-11-09T00:00:00\", \"2020-11-16T00:00:00\", \"2020-11-23T00:00:00\", \"2020-11-30T00:00:00\", \"2020-12-07T00:00:00\", \"2020-12-14T00:00:00\"], \"y\": [4.62, 20.52, 10.77, 14.05, 18.88, 22.82, 7.43, 16.95, 13.95, 7.43, 7.43, 13.05, 1.85, 7.43, 7.43, 17.63, 22.35, 0.0, 19.58, 30.28, 21.13, 0.0, 11.5, 5.65, 1.85, 1.85]}, {\"line\": {\"color\": \"rgba(235, 64, 52, 0.7)\"}, \"mode\": \"lines+text\", \"name\": \"Missions Completed\", \"textposition\": \"top center\", \"type\": \"scatter\", \"x\": [1, 2, 3, 4, 5, 6, 7, 8, 9, 10, 11, 12, 13, 14, 15, 16, 17, 18, 19, 20, 21, 22, 23, 24, 25, 26], \"xaxis\": \"x2\", \"y\": [5.0, 10.0, 7.0, 7.0, 6.0, 16.0, 4.0, 10.0, 9.0, 4.0, 4.0, 5.0, 1.0, 4.0, 4.0, 9.0, 13.0, 0.0, 12.0, 7.0, 5.0, 0.0, 16.0, 5.0, 1.0, 1.0], \"yaxis\": \"y2\"}, {\"line\": {\"color\": \"green\", \"dash\": \"dash\", \"width\": 1}, \"mode\": \"lines\", \"name\": \"Average Hours Spent Per Week\", \"type\": \"scatter\", \"x\": [\"2020-06-22T00:00:00\", \"2020-06-29T00:00:00\", \"2020-07-06T00:00:00\", \"2020-07-13T00:00:00\", \"2020-07-20T00:00:00\", \"2020-07-27T00:00:00\", \"2020-08-03T00:00:00\", \"2020-08-10T00:00:00\", \"2020-08-17T00:00:00\", \"2020-08-24T00:00:00\", \"2020-08-31T00:00:00\", \"2020-09-07T00:00:00\", \"2020-09-14T00:00:00\", \"2020-09-21T00:00:00\", \"2020-09-28T00:00:00\", \"2020-10-05T00:00:00\", \"2020-10-12T00:00:00\", \"2020-10-19T00:00:00\", \"2020-10-26T00:00:00\", \"2020-11-02T00:00:00\", \"2020-11-09T00:00:00\", \"2020-11-16T00:00:00\", \"2020-11-23T00:00:00\", \"2020-11-30T00:00:00\", \"2020-12-07T00:00:00\", \"2020-12-14T00:00:00\"], \"y\": [12.76875, 12.76875, 12.76875, 12.76875, 12.76875, 12.76875, 12.76875, 12.76875, 12.76875, 12.76875, 12.76875, 12.76875, 12.76875, 12.76875, 12.76875, 12.76875, 12.76875, 12.76875, 12.76875, 12.76875, 12.76875, 12.76875, 12.76875, 12.76875, 12.76875, 12.76875]}],                        {\"annotations\": [{\"arrowhead\": 2, \"ax\": -200, \"ay\": 15, \"bgcolor\": \"#fca906\", \"font\": {\"color\": \"white\"}, \"text\": \"Extra time spent building<br>a neural network model from scratch\", \"x\": \"2020-11-02\", \"xref\": \"x\", \"y\": 30.28, \"yref\": \"y\"}, {\"arrowhead\": 0, \"ax\": 0, \"ay\": -65, \"bgcolor\": \"#fca906\", \"font\": {\"color\": \"white\"}, \"text\": \"Step 5: Probability and Statistics\", \"x\": \"2020-09-07\", \"xref\": \"x\", \"y\": 13.05, \"yref\": \"y\"}], \"height\": 600, \"legend\": {\"bgcolor\": \"rgba(255, 255, 255, 0.5)\", \"font\": {\"color\": \"black\", \"size\": 12}, \"orientation\": \"h\", \"x\": 0.015, \"y\": 0.08}, \"plot_bgcolor\": \"rgba(230, 236, 240 0.5)\", \"template\": {\"data\": {\"bar\": [{\"error_x\": {\"color\": \"#2a3f5f\"}, \"error_y\": {\"color\": \"#2a3f5f\"}, \"marker\": {\"line\": {\"color\": \"#E5ECF6\", \"width\": 0.5}}, \"type\": \"bar\"}], \"barpolar\": [{\"marker\": {\"line\": {\"color\": \"#E5ECF6\", \"width\": 0.5}}, \"type\": \"barpolar\"}], \"carpet\": [{\"aaxis\": {\"endlinecolor\": \"#2a3f5f\", \"gridcolor\": \"white\", \"linecolor\": \"white\", \"minorgridcolor\": \"white\", \"startlinecolor\": \"#2a3f5f\"}, \"baxis\": {\"endlinecolor\": \"#2a3f5f\", \"gridcolor\": \"white\", \"linecolor\": \"white\", \"minorgridcolor\": \"white\", \"startlinecolor\": \"#2a3f5f\"}, \"type\": \"carpet\"}], \"choropleth\": [{\"colorbar\": {\"outlinewidth\": 0, \"ticks\": \"\"}, \"type\": \"choropleth\"}], \"contour\": [{\"colorbar\": {\"outlinewidth\": 0, \"ticks\": \"\"}, \"colorscale\": [[0.0, \"#0d0887\"], [0.1111111111111111, \"#46039f\"], [0.2222222222222222, \"#7201a8\"], [0.3333333333333333, \"#9c179e\"], [0.4444444444444444, \"#bd3786\"], [0.5555555555555556, \"#d8576b\"], [0.6666666666666666, \"#ed7953\"], [0.7777777777777778, \"#fb9f3a\"], [0.8888888888888888, \"#fdca26\"], [1.0, \"#f0f921\"]], \"type\": \"contour\"}], \"contourcarpet\": [{\"colorbar\": {\"outlinewidth\": 0, \"ticks\": \"\"}, \"type\": \"contourcarpet\"}], \"heatmap\": [{\"colorbar\": {\"outlinewidth\": 0, \"ticks\": \"\"}, \"colorscale\": [[0.0, \"#0d0887\"], [0.1111111111111111, \"#46039f\"], [0.2222222222222222, \"#7201a8\"], [0.3333333333333333, \"#9c179e\"], [0.4444444444444444, \"#bd3786\"], [0.5555555555555556, \"#d8576b\"], [0.6666666666666666, \"#ed7953\"], [0.7777777777777778, \"#fb9f3a\"], [0.8888888888888888, \"#fdca26\"], [1.0, \"#f0f921\"]], \"type\": \"heatmap\"}], \"heatmapgl\": [{\"colorbar\": {\"outlinewidth\": 0, \"ticks\": \"\"}, \"colorscale\": [[0.0, \"#0d0887\"], [0.1111111111111111, \"#46039f\"], [0.2222222222222222, \"#7201a8\"], [0.3333333333333333, \"#9c179e\"], [0.4444444444444444, \"#bd3786\"], [0.5555555555555556, \"#d8576b\"], [0.6666666666666666, \"#ed7953\"], [0.7777777777777778, \"#fb9f3a\"], [0.8888888888888888, \"#fdca26\"], [1.0, \"#f0f921\"]], \"type\": \"heatmapgl\"}], \"histogram\": [{\"marker\": {\"colorbar\": {\"outlinewidth\": 0, \"ticks\": \"\"}}, \"type\": \"histogram\"}], \"histogram2d\": [{\"colorbar\": {\"outlinewidth\": 0, \"ticks\": \"\"}, \"colorscale\": [[0.0, \"#0d0887\"], [0.1111111111111111, \"#46039f\"], [0.2222222222222222, \"#7201a8\"], [0.3333333333333333, \"#9c179e\"], [0.4444444444444444, \"#bd3786\"], [0.5555555555555556, \"#d8576b\"], [0.6666666666666666, \"#ed7953\"], [0.7777777777777778, \"#fb9f3a\"], [0.8888888888888888, \"#fdca26\"], [1.0, \"#f0f921\"]], \"type\": \"histogram2d\"}], \"histogram2dcontour\": [{\"colorbar\": {\"outlinewidth\": 0, \"ticks\": \"\"}, \"colorscale\": [[0.0, \"#0d0887\"], [0.1111111111111111, \"#46039f\"], [0.2222222222222222, \"#7201a8\"], [0.3333333333333333, \"#9c179e\"], [0.4444444444444444, \"#bd3786\"], [0.5555555555555556, \"#d8576b\"], [0.6666666666666666, \"#ed7953\"], [0.7777777777777778, \"#fb9f3a\"], [0.8888888888888888, \"#fdca26\"], [1.0, \"#f0f921\"]], \"type\": \"histogram2dcontour\"}], \"mesh3d\": [{\"colorbar\": {\"outlinewidth\": 0, \"ticks\": \"\"}, \"type\": \"mesh3d\"}], \"parcoords\": [{\"line\": {\"colorbar\": {\"outlinewidth\": 0, \"ticks\": \"\"}}, \"type\": \"parcoords\"}], \"pie\": [{\"automargin\": true, \"type\": \"pie\"}], \"scatter\": [{\"marker\": {\"colorbar\": {\"outlinewidth\": 0, \"ticks\": \"\"}}, \"type\": \"scatter\"}], \"scatter3d\": [{\"line\": {\"colorbar\": {\"outlinewidth\": 0, \"ticks\": \"\"}}, \"marker\": {\"colorbar\": {\"outlinewidth\": 0, \"ticks\": \"\"}}, \"type\": \"scatter3d\"}], \"scattercarpet\": [{\"marker\": {\"colorbar\": {\"outlinewidth\": 0, \"ticks\": \"\"}}, \"type\": \"scattercarpet\"}], \"scattergeo\": [{\"marker\": {\"colorbar\": {\"outlinewidth\": 0, \"ticks\": \"\"}}, \"type\": \"scattergeo\"}], \"scattergl\": [{\"marker\": {\"colorbar\": {\"outlinewidth\": 0, \"ticks\": \"\"}}, \"type\": \"scattergl\"}], \"scattermapbox\": [{\"marker\": {\"colorbar\": {\"outlinewidth\": 0, \"ticks\": \"\"}}, \"type\": \"scattermapbox\"}], \"scatterpolar\": [{\"marker\": {\"colorbar\": {\"outlinewidth\": 0, \"ticks\": \"\"}}, \"type\": \"scatterpolar\"}], \"scatterpolargl\": [{\"marker\": {\"colorbar\": {\"outlinewidth\": 0, \"ticks\": \"\"}}, \"type\": \"scatterpolargl\"}], \"scatterternary\": [{\"marker\": {\"colorbar\": {\"outlinewidth\": 0, \"ticks\": \"\"}}, \"type\": \"scatterternary\"}], \"surface\": [{\"colorbar\": {\"outlinewidth\": 0, \"ticks\": \"\"}, \"colorscale\": [[0.0, \"#0d0887\"], [0.1111111111111111, \"#46039f\"], [0.2222222222222222, \"#7201a8\"], [0.3333333333333333, \"#9c179e\"], [0.4444444444444444, \"#bd3786\"], [0.5555555555555556, \"#d8576b\"], [0.6666666666666666, \"#ed7953\"], [0.7777777777777778, \"#fb9f3a\"], [0.8888888888888888, \"#fdca26\"], [1.0, \"#f0f921\"]], \"type\": \"surface\"}], \"table\": [{\"cells\": {\"fill\": {\"color\": \"#EBF0F8\"}, \"line\": {\"color\": \"white\"}}, \"header\": {\"fill\": {\"color\": \"#C8D4E3\"}, \"line\": {\"color\": \"white\"}}, \"type\": \"table\"}]}, \"layout\": {\"annotationdefaults\": {\"arrowcolor\": \"#2a3f5f\", \"arrowhead\": 0, \"arrowwidth\": 1}, \"autotypenumbers\": \"strict\", \"coloraxis\": {\"colorbar\": {\"outlinewidth\": 0, \"ticks\": \"\"}}, \"colorscale\": {\"diverging\": [[0, \"#8e0152\"], [0.1, \"#c51b7d\"], [0.2, \"#de77ae\"], [0.3, \"#f1b6da\"], [0.4, \"#fde0ef\"], [0.5, \"#f7f7f7\"], [0.6, \"#e6f5d0\"], [0.7, \"#b8e186\"], [0.8, \"#7fbc41\"], [0.9, \"#4d9221\"], [1, \"#276419\"]], \"sequential\": [[0.0, \"#0d0887\"], [0.1111111111111111, \"#46039f\"], [0.2222222222222222, \"#7201a8\"], [0.3333333333333333, \"#9c179e\"], [0.4444444444444444, \"#bd3786\"], [0.5555555555555556, \"#d8576b\"], [0.6666666666666666, \"#ed7953\"], [0.7777777777777778, \"#fb9f3a\"], [0.8888888888888888, \"#fdca26\"], [1.0, \"#f0f921\"]], \"sequentialminus\": [[0.0, \"#0d0887\"], [0.1111111111111111, \"#46039f\"], [0.2222222222222222, \"#7201a8\"], [0.3333333333333333, \"#9c179e\"], [0.4444444444444444, \"#bd3786\"], [0.5555555555555556, \"#d8576b\"], [0.6666666666666666, \"#ed7953\"], [0.7777777777777778, \"#fb9f3a\"], [0.8888888888888888, \"#fdca26\"], [1.0, \"#f0f921\"]]}, \"colorway\": [\"#636efa\", \"#EF553B\", \"#00cc96\", \"#ab63fa\", \"#FFA15A\", \"#19d3f3\", \"#FF6692\", \"#B6E880\", \"#FF97FF\", \"#FECB52\"], \"font\": {\"color\": \"#2a3f5f\"}, \"geo\": {\"bgcolor\": \"white\", \"lakecolor\": \"white\", \"landcolor\": \"#E5ECF6\", \"showlakes\": true, \"showland\": true, \"subunitcolor\": \"white\"}, \"hoverlabel\": {\"align\": \"left\"}, \"hovermode\": \"closest\", \"mapbox\": {\"style\": \"light\"}, \"paper_bgcolor\": \"white\", \"plot_bgcolor\": \"#E5ECF6\", \"polar\": {\"angularaxis\": {\"gridcolor\": \"white\", \"linecolor\": \"white\", \"ticks\": \"\"}, \"bgcolor\": \"#E5ECF6\", \"radialaxis\": {\"gridcolor\": \"white\", \"linecolor\": \"white\", \"ticks\": \"\"}}, \"scene\": {\"xaxis\": {\"backgroundcolor\": \"#E5ECF6\", \"gridcolor\": \"white\", \"gridwidth\": 2, \"linecolor\": \"white\", \"showbackground\": true, \"ticks\": \"\", \"zerolinecolor\": \"white\"}, \"yaxis\": {\"backgroundcolor\": \"#E5ECF6\", \"gridcolor\": \"white\", \"gridwidth\": 2, \"linecolor\": \"white\", \"showbackground\": true, \"ticks\": \"\", \"zerolinecolor\": \"white\"}, \"zaxis\": {\"backgroundcolor\": \"#E5ECF6\", \"gridcolor\": \"white\", \"gridwidth\": 2, \"linecolor\": \"white\", \"showbackground\": true, \"ticks\": \"\", \"zerolinecolor\": \"white\"}}, \"shapedefaults\": {\"line\": {\"color\": \"#2a3f5f\"}}, \"ternary\": {\"aaxis\": {\"gridcolor\": \"white\", \"linecolor\": \"white\", \"ticks\": \"\"}, \"baxis\": {\"gridcolor\": \"white\", \"linecolor\": \"white\", \"ticks\": \"\"}, \"bgcolor\": \"#E5ECF6\", \"caxis\": {\"gridcolor\": \"white\", \"linecolor\": \"white\", \"ticks\": \"\"}}, \"title\": {\"x\": 0.05}, \"xaxis\": {\"automargin\": true, \"gridcolor\": \"white\", \"linecolor\": \"white\", \"ticks\": \"\", \"title\": {\"standoff\": 15}, \"zerolinecolor\": \"white\", \"zerolinewidth\": 2}, \"yaxis\": {\"automargin\": true, \"gridcolor\": \"white\", \"linecolor\": \"white\", \"ticks\": \"\", \"title\": {\"standoff\": 15}, \"zerolinecolor\": \"white\", \"zerolinewidth\": 2}}}, \"title\": {\"text\": \"Hours Spent vs Missions Completed\"}, \"width\": 1000, \"xaxis\": {\"anchor\": \"y\", \"domain\": [0.0, 0.94], \"tickangle\": 45, \"tickvals\": [\"2020-06-22T00:00:00\", \"2020-06-29T00:00:00\", \"2020-07-06T00:00:00\", \"2020-07-13T00:00:00\", \"2020-07-20T00:00:00\", \"2020-07-27T00:00:00\", \"2020-08-03T00:00:00\", \"2020-08-10T00:00:00\", \"2020-08-17T00:00:00\", \"2020-08-24T00:00:00\", \"2020-08-31T00:00:00\", \"2020-09-07T00:00:00\", \"2020-09-14T00:00:00\", \"2020-09-21T00:00:00\", \"2020-09-28T00:00:00\", \"2020-10-05T00:00:00\", \"2020-10-12T00:00:00\", \"2020-10-19T00:00:00\", \"2020-10-26T00:00:00\", \"2020-11-02T00:00:00\", \"2020-11-09T00:00:00\", \"2020-11-16T00:00:00\", \"2020-11-23T00:00:00\", \"2020-11-30T00:00:00\", \"2020-12-07T00:00:00\", \"2020-12-14T00:00:00\"], \"title\": {\"text\": \"Date\"}}, \"xaxis2\": {\"anchor\": \"y\", \"mirror\": true, \"overlaying\": \"x\", \"side\": \"top\", \"tickvals\": [1, 2, 3, 4, 5, 6, 7, 8, 9, 10, 11, 12, 13, 14, 15, 16, 17, 18, 19, 20, 21, 22, 23, 24, 25, 26], \"title\": {\"text\": \"Week\"}}, \"yaxis\": {\"anchor\": \"x\", \"domain\": [0.0, 1.0], \"showgrid\": false, \"title\": {\"text\": \"Hours Spent\"}}, \"yaxis2\": {\"anchor\": \"x\", \"overlaying\": \"y\", \"showgrid\": false, \"side\": \"right\", \"title\": {\"text\": \"Missions Completed\"}}},                        {\"toImageButtonOptions\": {\"format\": \"webp\", \"filename\": \"custom_image\", \"height\": 600, \"width\": 1200, \"scale\": 1}, \"responsive\": true}                    ).then(function(){\n",
       "                            \n",
       "var gd = document.getElementById('19e5276e-9345-4618-b829-f21b021e9f91');\n",
       "var x = new MutationObserver(function (mutations, observer) {{\n",
       "        var display = window.getComputedStyle(gd).display;\n",
       "        if (!display || display === 'none') {{\n",
       "            console.log([gd, 'removed!']);\n",
       "            Plotly.purge(gd);\n",
       "            observer.disconnect();\n",
       "        }}\n",
       "}});\n",
       "\n",
       "// Listen for the removal of the full notebook cells\n",
       "var notebookContainer = gd.closest('#notebook-container');\n",
       "if (notebookContainer) {{\n",
       "    x.observe(notebookContainer, {childList: true});\n",
       "}}\n",
       "\n",
       "// Listen for the clearing of the current output cell\n",
       "var outputEl = gd.closest('.output');\n",
       "if (outputEl) {{\n",
       "    x.observe(outputEl, {childList: true});\n",
       "}}\n",
       "\n",
       "                        })                };                });            </script>        </div>"
      ]
     },
     "metadata": {},
     "output_type": "display_data"
    }
   ],
   "source": [
    "# Plot minutes_spent & missions completed by week \n",
    "from plotly.subplots import make_subplots\n",
    "\n",
    "fig = make_subplots(specs=[[{\"secondary_y\": True}]])\n",
    "\n",
    "# First trace hours spent by week\n",
    "fig.add_trace(go.Scatter(\n",
    "                  x = all_dates_curve.date,\n",
    "                  y = round(all_dates_curve.minutes_spent/60, 2),\n",
    "                  mode=\"lines+text\",\n",
    "                  text = [' '.join(map(str, row)) for row in all_dates_curve.steps],\n",
    "                  textposition = \"top center\",\n",
    "                  textfont = dict(\n",
    "                      size = 10\n",
    "                  ),\n",
    "                  name = 'Hours Spent',\n",
    "                  line = dict(\n",
    "                  color = 'rgba(52, 162, 235, 0.9)'\n",
    "               )\n",
    "             ))\n",
    "\n",
    "\n",
    "\n",
    "# Second trace missions completed by week \n",
    "fig.add_trace(\n",
    "    go.Scatter(\n",
    "        x = all_dates_curve.week,\n",
    "        y = all_dates_curve.missions_completed,\n",
    "        name = 'Missions Completed',\n",
    "        mode=\"lines+text\", # There's no text on the second trace, but change mode to 'lines+text' anyways to align x axes\n",
    "        textposition = \"top center\", \n",
    "        line = dict(\n",
    "        color = 'rgba(235, 64, 52, 0.7)'\n",
    "        )\n",
    "    ),\n",
    "    secondary_y = True\n",
    ")\n",
    "\n",
    "# Third trace horizontal line for average hours spent per week \n",
    "fig.add_trace(\n",
    "    go.Scatter(\n",
    "        x = all_dates_curve.date,\n",
    "        y = [avg_hr_week]*26,\n",
    "        name = 'Average Hours Spent Per Week',\n",
    "        mode = 'lines',\n",
    "        line = dict(\n",
    "            color = 'green',\n",
    "            dash = 'dash',\n",
    "            width = 1\n",
    "        )\n",
    "    )\n",
    "\n",
    ")\n",
    "\n",
    "\n",
    "fig.update_layout(\n",
    "    width = 1000,\n",
    "    height = 600,\n",
    "    title = 'Hours Spent vs Missions Completed',\n",
    "    xaxis = dict(tickvals = all_dates_curve.date,\n",
    "                title = 'Date', \n",
    "                tickangle = 45\n",
    "                ),\n",
    "    xaxis2= dict(anchor = 'y', \n",
    "                 overlaying = 'x', \n",
    "                 side = 'top',\n",
    "                 mirror = True,\n",
    "                 tickvals = all_dates_curve.week,\n",
    "                 title = 'Week'),\n",
    "    \n",
    "    yaxis = dict(\n",
    "        title = 'Hours Spent',\n",
    "        showgrid = False\n",
    "    ),\n",
    "    \n",
    "    plot_bgcolor = 'rgba(230, 236, 240 0.5)',\n",
    "\n",
    "    legend = dict(\n",
    "        x = 0.015,\n",
    "        y = 0.08,\n",
    "        orientation=\"h\",\n",
    "        bgcolor = 'rgba(255, 255, 255, 0.5)',\n",
    "        font = dict(\n",
    "        size = 12,\n",
    "        color = 'black'\n",
    "        )\n",
    "    )\n",
    ")\n",
    "\n",
    "# Update for secondary y axis \n",
    "fig.update_yaxes(title_text=\"Missions Completed\", secondary_y=True, showgrid = False)\n",
    "\n",
    "# Update x axis name for the second trace \n",
    "fig.data[1].update(xaxis= 'x2')\n",
    "\n",
    "# Add annotation\n",
    "fig.add_annotation(\n",
    "    x = '2020-11-02',\n",
    "    y = 30.28,\n",
    "    xref = \"x\",\n",
    "    yref = \"y\",\n",
    "    ax = -200,\n",
    "    ay = 15,\n",
    "    arrowhead = 2,\n",
    "    text = 'Extra time spent building<br>a neural network model from scratch',\n",
    "    font = dict(\n",
    "    color = 'white'),\n",
    "    bgcolor = '#fca906'\n",
    ")\n",
    "\n",
    "fig.add_annotation(\n",
    "   x = '2020-09-07',\n",
    "    y = 13.05,\n",
    "    xref = \"x\",\n",
    "    yref = \"y\",\n",
    "    ax = 0,\n",
    "    ay = -65,\n",
    "    arrowhead = 0,\n",
    "    text = 'Step 5: Probability and Statistics',\n",
    "    bgcolor = '#fca906',\n",
    "    font = dict(\n",
    "    color = 'white'))\n",
    "\n",
    "config = { 'toImageButtonOptions': {\n",
    "    'format': 'webp', # one of png, svg, jpeg, webp\n",
    "    'filename': 'custom_image',\n",
    "    'height': 600,\n",
    "    'width': 1200,\n",
    "    'scale': 1 # Multiply title/legend/axis/canvas sizes by this factor\n",
    "  }}\n",
    "\n",
    "fig.show(config = config)"
   ]
  },
  {
   "cell_type": "code",
   "execution_count": 115,
   "metadata": {},
   "outputs": [],
   "source": [
    "steps_name = ['Python<br>Introduction', 'Data Analysis and Visualization', \n",
    "              'The Command Line', 'Working with Data Sources',\n",
    "              'Probability and Statistics', 'Machine Learning Introduction',\n",
    "             'Machine Learning Intermediate', 'Advanced<br>Topics in<br>Data Science']\n",
    "\n",
    "unique_steps = sorted(list(set(step_level)))\n",
    "missions_num = [ds_curriculum.loc[step].shape[0] for step in unique_steps]\n",
    "projects_steps = sorted(list(set([pair[0] for pair in projects.index])))\n",
    "projects_num = [projects.loc[step].shape[0] if step in projects_steps else 0 for step in unique_steps]"
   ]
  },
  {
   "cell_type": "code",
   "execution_count": 116,
   "metadata": {
    "scrolled": false
   },
   "outputs": [
    {
     "data": {
      "image/svg+xml": [
       "<svg class=\"main-svg\" xmlns=\"http://www.w3.org/2000/svg\" xmlns:xlink=\"http://www.w3.org/1999/xlink\" width=\"700\" height=\"450\" style=\"\" viewBox=\"0 0 700 450\"><rect x=\"0\" y=\"0\" width=\"700\" height=\"450\" style=\"fill: rgb(255, 255, 255); fill-opacity: 1;\"/><defs id=\"defs-2515d8\"><g class=\"clips\"><clipPath id=\"clip2515d8xyplot\" class=\"plotclip\"><rect width=\"484\" height=\"270\"/></clipPath><clipPath class=\"axesclip\" id=\"clip2515d8x\"><rect x=\"80\" y=\"0\" width=\"484\" height=\"450\"/></clipPath><clipPath class=\"axesclip\" id=\"clip2515d8y\"><rect x=\"0\" y=\"100\" width=\"700\" height=\"270\"/></clipPath><clipPath class=\"axesclip\" id=\"clip2515d8xy\"><rect x=\"80\" y=\"100\" width=\"484\" height=\"270\"/></clipPath></g><g class=\"gradients\"><linearGradient x1=\"0\" x2=\"0\" y1=\"1\" y2=\"0\" id=\"g2515d8-cb92f70c\"><stop offset=\"0%\" stop-color=\"rgb(255, 255, 255)\" stop-opacity=\"1\"/><stop offset=\"100%\" stop-color=\"rgb(124, 2, 255)\" stop-opacity=\"1\"/></linearGradient></g></defs><g class=\"bglayer\"><rect class=\"bg\" x=\"80\" y=\"100\" width=\"484\" height=\"270\" style=\"fill: rgb(229, 236, 246); fill-opacity: 1; stroke-width: 0;\"/></g><g class=\"layer-below\"><g class=\"imagelayer\"/><g class=\"shapelayer\"/></g><g class=\"cartesianlayer\"><g class=\"subplot xy\"><g class=\"layer-subplot\"><g class=\"shapelayer\"/><g class=\"imagelayer\"/></g><g class=\"gridlayer\"><g class=\"x\"><path class=\"xgrid crisp\" transform=\"translate(112.95,0)\" d=\"M0,100v270\" style=\"stroke: rgb(255, 255, 255); stroke-opacity: 1; stroke-width: 1px;\"/><path class=\"xgrid crisp\" transform=\"translate(171.95999999999998,0)\" d=\"M0,100v270\" style=\"stroke: rgb(255, 255, 255); stroke-opacity: 1; stroke-width: 1px;\"/><path class=\"xgrid crisp\" transform=\"translate(230.98,0)\" d=\"M0,100v270\" style=\"stroke: rgb(255, 255, 255); stroke-opacity: 1; stroke-width: 1px;\"/><path class=\"xgrid crisp\" transform=\"translate(289.99,0)\" d=\"M0,100v270\" style=\"stroke: rgb(255, 255, 255); stroke-opacity: 1; stroke-width: 1px;\"/><path class=\"xgrid crisp\" transform=\"translate(349.01,0)\" d=\"M0,100v270\" style=\"stroke: rgb(255, 255, 255); stroke-opacity: 1; stroke-width: 1px;\"/><path class=\"xgrid crisp\" transform=\"translate(408.02,0)\" d=\"M0,100v270\" style=\"stroke: rgb(255, 255, 255); stroke-opacity: 1; stroke-width: 1px;\"/><path class=\"xgrid crisp\" transform=\"translate(467.04,0)\" d=\"M0,100v270\" style=\"stroke: rgb(255, 255, 255); stroke-opacity: 1; stroke-width: 1px;\"/><path class=\"xgrid crisp\" transform=\"translate(526.05,0)\" d=\"M0,100v270\" style=\"stroke: rgb(255, 255, 255); stroke-opacity: 1; stroke-width: 1px;\"/></g><g class=\"y\"><path class=\"ygrid crisp\" transform=\"translate(0,350.25)\" d=\"M80,0h484\" style=\"stroke: rgb(255, 255, 255); stroke-opacity: 1; stroke-width: 1px;\"/><path class=\"ygrid crisp\" transform=\"translate(0,300.99)\" d=\"M80,0h484\" style=\"stroke: rgb(255, 255, 255); stroke-opacity: 1; stroke-width: 1px;\"/><path class=\"ygrid crisp\" transform=\"translate(0,251.73)\" d=\"M80,0h484\" style=\"stroke: rgb(255, 255, 255); stroke-opacity: 1; stroke-width: 1px;\"/><path class=\"ygrid crisp\" transform=\"translate(0,202.47)\" d=\"M80,0h484\" style=\"stroke: rgb(255, 255, 255); stroke-opacity: 1; stroke-width: 1px;\"/><path class=\"ygrid crisp\" transform=\"translate(0,153.2)\" d=\"M80,0h484\" style=\"stroke: rgb(255, 255, 255); stroke-opacity: 1; stroke-width: 1px;\"/><path class=\"ygrid crisp\" transform=\"translate(0,103.94)\" d=\"M80,0h484\" style=\"stroke: rgb(255, 255, 255); stroke-opacity: 1; stroke-width: 1px;\"/></g></g><g class=\"zerolinelayer\"/><path class=\"xlines-below\"/><path class=\"ylines-below\"/><g class=\"overlines-below\"/><g class=\"xaxislayer-below\"/><g class=\"yaxislayer-below\"/><g class=\"overaxes-below\"/><g class=\"plot\" transform=\"translate(80,100)\" clip-path=\"url('#clip2515d8xyplot')\"><g class=\"scatterlayer mlayer\"><g class=\"trace scatter trace92f70c\" style=\"stroke-miterlimit: 2; opacity: 1;\"><g class=\"fills\"/><g class=\"errorbars\"/><g class=\"lines\"/><g class=\"points\"><path class=\"point\" transform=\"translate(32.95,210.84)\" d=\"M7,0A7,7 0 1,1 0,-7A7,7 0 0,1 7,0Z\" style=\"opacity: 0.7; stroke-width: 1px; fill: rgb(211, 171, 255); fill-opacity: 1; stroke: rgb(255, 255, 255); stroke-opacity: 1;\"/><path class=\"point\" transform=\"translate(91.96,33.5)\" d=\"M16,0A16,16 0 1,1 0,-16A16,16 0 0,1 16,0Z\" style=\"opacity: 0.7; stroke-width: 1px; fill: rgb(124, 2, 255); fill-opacity: 1; stroke: rgb(255, 255, 255); stroke-opacity: 1;\"/><path class=\"point\" transform=\"translate(150.98,250.25)\" d=\"M5,0A5,5 0 1,1 0,-5A5,5 0 0,1 5,0Z\" style=\"opacity: 0.7; stroke-width: 1px; fill: rgb(255, 255, 255); fill-opacity: 1; stroke: rgb(255, 255, 255); stroke-opacity: 1;\"/><path class=\"point\" transform=\"translate(209.99,161.58)\" d=\"M9.5,0A9.5,9.5 0 1,1 0,-9.5A9.5,9.5 0 0,1 9.5,0Z\" style=\"opacity: 0.7; stroke-width: 1px; fill: rgb(190, 129, 255); fill-opacity: 1; stroke: rgb(255, 255, 255); stroke-opacity: 1;\"/><path class=\"point\" transform=\"translate(269.01,92.61)\" d=\"M13,0A13,13 0 1,1 0,-13A13,13 0 0,1 13,0Z\" style=\"opacity: 0.7; stroke-width: 1px; fill: rgb(146, 44, 255); fill-opacity: 1; stroke: rgb(255, 255, 255); stroke-opacity: 1;\"/><path class=\"point\" transform=\"translate(328.02,43.35)\" d=\"M15.5,0A15.5,15.5 0 1,1 0,-15.5A15.5,15.5 0 0,1 15.5,0Z\" style=\"opacity: 0.7; stroke-width: 1px; fill: rgb(168, 86, 255); fill-opacity: 1; stroke: rgb(255, 255, 255); stroke-opacity: 1;\"/><path class=\"point\" transform=\"translate(387.04,240.4)\" d=\"M5.5,0A5.5,5.5 0 1,1 0,-5.5A5.5,5.5 0 0,1 5.5,0Z\" style=\"opacity: 0.7; stroke-width: 1px; fill: rgb(211, 171, 255); fill-opacity: 1; stroke: rgb(255, 255, 255); stroke-opacity: 1;\"/><path class=\"point\" transform=\"translate(446.05,132.02)\" d=\"M11,0A11,11 0 1,1 0,-11A11,11 0 0,1 11,0Z\" style=\"opacity: 0.7; stroke-width: 1px; fill: rgb(255, 255, 255); fill-opacity: 1; stroke: rgb(255, 255, 255); stroke-opacity: 1;\"/></g><g class=\"text\"><g class=\"textpoint\" transform=\"translate(0,18.75)\"><text x=\"32.95\" y=\"210.84\" text-anchor=\"middle\" style=\"font-family: 'Open Sans', verdana, arial, sans-serif; font-size: 12px; fill: rgb(0, 0, 0); fill-opacity: 1; white-space: pre;\"><tspan class=\"line\" dy=\"0em\" x=\"32.95\" y=\"210.84\">Python</tspan><tspan class=\"line\" dy=\"1.3em\" x=\"32.95\" y=\"210.84\">Introduction</tspan></text></g><g class=\"textpoint\" transform=\"translate(0,30)\"><text x=\"91.96\" y=\"33.5\" text-anchor=\"middle\" style=\"font-family: 'Open Sans', verdana, arial, sans-serif; font-size: 12px; fill: rgb(0, 0, 0); fill-opacity: 1; white-space: pre;\">Data Analysis and Visualization</text></g><g class=\"textpoint\" transform=\"translate(0,16.25)\"><text x=\"150.98\" y=\"250.25\" text-anchor=\"middle\" style=\"font-family: 'Open Sans', verdana, arial, sans-serif; font-size: 12px; fill: rgb(0, 0, 0); fill-opacity: 1; white-space: pre;\">The Command Line</text></g><g class=\"textpoint\" transform=\"translate(0,21.875)\"><text x=\"209.99\" y=\"161.58\" text-anchor=\"middle\" style=\"font-family: 'Open Sans', verdana, arial, sans-serif; font-size: 12px; fill: rgb(0, 0, 0); fill-opacity: 1; white-space: pre;\">Working with Data Sources</text></g><g class=\"textpoint\" transform=\"translate(0,26.25)\"><text x=\"269.01\" y=\"92.61\" text-anchor=\"middle\" style=\"font-family: 'Open Sans', verdana, arial, sans-serif; font-size: 12px; fill: rgb(0, 0, 0); fill-opacity: 1; white-space: pre;\">Probability and Statistics</text></g><g class=\"textpoint\" transform=\"translate(0,29.375)\"><text x=\"328.02\" y=\"43.35\" text-anchor=\"middle\" style=\"font-family: 'Open Sans', verdana, arial, sans-serif; font-size: 12px; fill: rgb(0, 0, 0); fill-opacity: 1; white-space: pre;\">Machine Learning Introduction</text></g><g class=\"textpoint\" transform=\"translate(0,16.875)\"><text x=\"387.04\" y=\"240.4\" text-anchor=\"middle\" style=\"font-family: 'Open Sans', verdana, arial, sans-serif; font-size: 12px; fill: rgb(0, 0, 0); fill-opacity: 1; white-space: pre;\">Machine Learning Intermediate</text></g><g class=\"textpoint\" transform=\"translate(0,23.75)\"><text x=\"446.05\" y=\"132.02\" text-anchor=\"middle\" style=\"font-family: 'Open Sans', verdana, arial, sans-serif; font-size: 12px; fill: rgb(0, 0, 0); fill-opacity: 1; white-space: pre;\"><tspan class=\"line\" dy=\"0em\" x=\"446.05\" y=\"132.02\">Advanced</tspan><tspan class=\"line\" dy=\"1.3em\" x=\"446.05\" y=\"132.02\">Topics in</tspan><tspan class=\"line\" dy=\"2.6em\" x=\"446.05\" y=\"132.02\">Data Science</tspan></text></g></g></g></g></g><g class=\"overplot\"/><path class=\"xlines-above crisp\" d=\"M0,0\" style=\"fill: none;\"/><path class=\"ylines-above crisp\" d=\"M0,0\" style=\"fill: none;\"/><g class=\"overlines-above\"/><g class=\"xaxislayer-above\"><g class=\"xtick\"><text text-anchor=\"middle\" x=\"0\" y=\"383\" transform=\"translate(112.95,0)\" style=\"font-family: 'Open Sans', verdana, arial, sans-serif; font-size: 12px; fill: rgb(42, 63, 95); fill-opacity: 1; white-space: pre;\">Step 1</text></g><g class=\"xtick\"><text text-anchor=\"middle\" x=\"0\" y=\"383\" transform=\"translate(171.95999999999998,0)\" style=\"font-family: 'Open Sans', verdana, arial, sans-serif; font-size: 12px; fill: rgb(42, 63, 95); fill-opacity: 1; white-space: pre;\">Step 2</text></g><g class=\"xtick\"><text text-anchor=\"middle\" x=\"0\" y=\"383\" transform=\"translate(230.98,0)\" style=\"font-family: 'Open Sans', verdana, arial, sans-serif; font-size: 12px; fill: rgb(42, 63, 95); fill-opacity: 1; white-space: pre;\">Step 3</text></g><g class=\"xtick\"><text text-anchor=\"middle\" x=\"0\" y=\"383\" transform=\"translate(289.99,0)\" style=\"font-family: 'Open Sans', verdana, arial, sans-serif; font-size: 12px; fill: rgb(42, 63, 95); fill-opacity: 1; white-space: pre;\">Step 4</text></g><g class=\"xtick\"><text text-anchor=\"middle\" x=\"0\" y=\"383\" transform=\"translate(349.01,0)\" style=\"font-family: 'Open Sans', verdana, arial, sans-serif; font-size: 12px; fill: rgb(42, 63, 95); fill-opacity: 1; white-space: pre;\">Step 5</text></g><g class=\"xtick\"><text text-anchor=\"middle\" x=\"0\" y=\"383\" transform=\"translate(408.02,0)\" style=\"font-family: 'Open Sans', verdana, arial, sans-serif; font-size: 12px; fill: rgb(42, 63, 95); fill-opacity: 1; white-space: pre;\">Step 6</text></g><g class=\"xtick\"><text text-anchor=\"middle\" x=\"0\" y=\"383\" transform=\"translate(467.04,0)\" style=\"font-family: 'Open Sans', verdana, arial, sans-serif; font-size: 12px; fill: rgb(42, 63, 95); fill-opacity: 1; white-space: pre;\">Step 7</text></g><g class=\"xtick\"><text text-anchor=\"middle\" x=\"0\" y=\"383\" transform=\"translate(526.05,0)\" style=\"font-family: 'Open Sans', verdana, arial, sans-serif; font-size: 12px; fill: rgb(42, 63, 95); fill-opacity: 1; white-space: pre;\">Step 8</text></g></g><g class=\"yaxislayer-above\"><g class=\"ytick\"><text text-anchor=\"end\" x=\"79\" y=\"4.199999999999999\" transform=\"translate(0,350.25)\" style=\"font-family: 'Open Sans', verdana, arial, sans-serif; font-size: 12px; fill: rgb(42, 63, 95); fill-opacity: 1; white-space: pre;\">10</text></g><g class=\"ytick\"><text text-anchor=\"end\" x=\"79\" y=\"4.199999999999999\" transform=\"translate(0,300.99)\" style=\"font-family: 'Open Sans', verdana, arial, sans-serif; font-size: 12px; fill: rgb(42, 63, 95); fill-opacity: 1; white-space: pre;\">15</text></g><g class=\"ytick\"><text text-anchor=\"end\" x=\"79\" y=\"4.199999999999999\" transform=\"translate(0,251.73)\" style=\"font-family: 'Open Sans', verdana, arial, sans-serif; font-size: 12px; fill: rgb(42, 63, 95); fill-opacity: 1; white-space: pre;\">20</text></g><g class=\"ytick\"><text text-anchor=\"end\" x=\"79\" y=\"4.199999999999999\" transform=\"translate(0,202.47)\" style=\"font-family: 'Open Sans', verdana, arial, sans-serif; font-size: 12px; fill: rgb(42, 63, 95); fill-opacity: 1; white-space: pre;\">25</text></g><g class=\"ytick\"><text text-anchor=\"end\" x=\"79\" y=\"4.199999999999999\" transform=\"translate(0,153.2)\" style=\"font-family: 'Open Sans', verdana, arial, sans-serif; font-size: 12px; fill: rgb(42, 63, 95); fill-opacity: 1; white-space: pre;\">30</text></g><g class=\"ytick\"><text text-anchor=\"end\" x=\"79\" y=\"4.199999999999999\" transform=\"translate(0,103.94)\" style=\"font-family: 'Open Sans', verdana, arial, sans-serif; font-size: 12px; fill: rgb(42, 63, 95); fill-opacity: 1; white-space: pre;\">35</text></g></g><g class=\"overaxes-above\"/></g></g><g class=\"polarlayer\"/><g class=\"ternarylayer\"/><g class=\"geolayer\"/><g class=\"funnelarealayer\"/><g class=\"pielayer\"/><g class=\"treemaplayer\"/><g class=\"sunburstlayer\"/><g class=\"glimages\"/><defs id=\"topdefs-2515d8\"><g class=\"clips\"/></defs><g class=\"layer-above\"><g class=\"imagelayer\"/><g class=\"shapelayer\"/></g><g class=\"infolayer\"><g class=\"cb92f70c colorbar\" transform=\"translate(80,100)\"><rect class=\"cbbg\" x=\"494\" y=\"0\" width=\"114.171875\" height=\"270\" style=\"fill: rgb(0, 0, 0); fill-opacity: 0; stroke: rgb(68, 68, 68); stroke-opacity: 1; stroke-width: 0;\"/><g class=\"cbfills\" transform=\"translate(0,31)\"><rect class=\"cbfill\" x=\"504\" width=\"30\" y=\"0\" height=\"229\" style=\"fill: url('#g2515d8-cb92f70c');\"/></g><g class=\"cblines\" transform=\"translate(0,31)\"/><g class=\"cbaxis crisp\" transform=\"translate(0,-100)\"><g class=\"ycb92f70ctick\"><text text-anchor=\"start\" x=\"536.9\" y=\"4.199999999999999\" transform=\"translate(0,360)\" style=\"font-family: 'Open Sans', verdana, arial, sans-serif; font-size: 12px; fill: rgb(42, 63, 95); fill-opacity: 1; white-space: pre;\">0</text></g><g class=\"ycb92f70ctick\"><text text-anchor=\"start\" x=\"536.9\" y=\"4.199999999999999\" transform=\"translate(0,321.91999999999996)\" style=\"font-family: 'Open Sans', verdana, arial, sans-serif; font-size: 12px; fill: rgb(42, 63, 95); fill-opacity: 1; white-space: pre;\">1</text></g><g class=\"ycb92f70ctick\"><text text-anchor=\"start\" x=\"536.9\" y=\"4.199999999999999\" transform=\"translate(0,283.83)\" style=\"font-family: 'Open Sans', verdana, arial, sans-serif; font-size: 12px; fill: rgb(42, 63, 95); fill-opacity: 1; white-space: pre;\">2</text></g><g class=\"ycb92f70ctick\"><text text-anchor=\"start\" x=\"536.9\" y=\"4.199999999999999\" transform=\"translate(0,245.74999999999997)\" style=\"font-family: 'Open Sans', verdana, arial, sans-serif; font-size: 12px; fill: rgb(42, 63, 95); fill-opacity: 1; white-space: pre;\">3</text></g><g class=\"ycb92f70ctick\"><text text-anchor=\"start\" x=\"536.9\" y=\"4.199999999999999\" transform=\"translate(0,207.66999999999996)\" style=\"font-family: 'Open Sans', verdana, arial, sans-serif; font-size: 12px; fill: rgb(42, 63, 95); fill-opacity: 1; white-space: pre;\">4</text></g><g class=\"ycb92f70ctick\"><text text-anchor=\"start\" x=\"536.9\" y=\"4.199999999999999\" transform=\"translate(0,169.57999999999998)\" style=\"font-family: 'Open Sans', verdana, arial, sans-serif; font-size: 12px; fill: rgb(42, 63, 95); fill-opacity: 1; white-space: pre;\">5</text></g><g class=\"ycb92f70ctick\"><text text-anchor=\"start\" x=\"536.9\" y=\"4.199999999999999\" transform=\"translate(0,131.49999999999997)\" style=\"font-family: 'Open Sans', verdana, arial, sans-serif; font-size: 12px; fill: rgb(42, 63, 95); fill-opacity: 1; white-space: pre;\">6</text></g></g><g class=\"cbtitleunshift\" transform=\"translate(-80,-100)\"><g class=\"cbtitle\" transform=\"\"><text class=\"ycb92f70ctitle\" x=\"583.6800000000001\" y=\"121.99999999999999\" text-anchor=\"start\" style=\"font-family: 'Open Sans', verdana, arial, sans-serif; font-size: 12px; fill: rgb(42, 63, 95); opacity: 1; font-weight: normal; white-space: pre;\">Projects Number</text></g></g><rect class=\"cboutline\" x=\"504\" y=\"31.5\" width=\"30\" height=\"228.5\" style=\"stroke: rgb(68, 68, 68); stroke-opacity: 1; fill: none; stroke-width: 0;\"/></g><g class=\"g-gtitle\"><text class=\"gtitle\" x=\"35\" y=\"50\" text-anchor=\"start\" dy=\"0em\" style=\"font-family: 'Open Sans', verdana, arial, sans-serif; font-size: 17px; fill: rgb(42, 63, 95); opacity: 1; font-weight: normal; white-space: pre;\">Data Scientist Curriculum: Number Of Missions In Each Step</text></g><g class=\"g-xtitle\"><text class=\"xtitle\" x=\"322\" y=\"411.3\" text-anchor=\"middle\" style=\"font-family: 'Open Sans', verdana, arial, sans-serif; font-size: 14px; fill: rgb(42, 63, 95); opacity: 1; font-weight: normal; white-space: pre;\">Steps</text></g><g class=\"g-ytitle\"><text class=\"ytitle\" transform=\"rotate(-90,40.465625,235)\" x=\"40.465625\" y=\"235\" text-anchor=\"middle\" style=\"font-family: 'Open Sans', verdana, arial, sans-serif; font-size: 14px; fill: rgb(42, 63, 95); opacity: 1; font-weight: normal; white-space: pre;\">Number of Missions</text></g></g></svg>"
      ]
     },
     "metadata": {},
     "output_type": "display_data"
    }
   ],
   "source": [
    "# Plot number of missions in each Step\n",
    "\n",
    "fig3 = go.Figure()\n",
    "\n",
    "fig3.add_trace(\n",
    "    go.Scatter(\n",
    "    x = unique_steps,\n",
    "    y = missions_num,\n",
    "    mode = 'markers+text',\n",
    "    marker = dict(\n",
    "        size = missions_num,\n",
    "        color = projects_num,\n",
    "        colorscale = [[0, '#ffffff'], [1, '#7c02ff']],\n",
    "        showscale = True,\n",
    "        colorbar=dict(\n",
    "            title=\"Projects Number\"\n",
    "        ),\n",
    "    ),\n",
    "    text = steps_name,\n",
    "    textposition = 'bottom center',\n",
    "    textfont = dict(\n",
    "    color = 'black') \n",
    "    ),\n",
    ")\n",
    "\n",
    "fig3.update_layout(\n",
    "    height = 600,\n",
    "    title = 'Data Scientist Curriculum: Number Of Missions In Each Step',\n",
    "    xaxis = dict(\n",
    "       title = 'Steps'\n",
    "    ),\n",
    "    yaxis = dict(\n",
    "       title = 'Number of Missions'\n",
    "    ),\n",
    "#     plot_bgcolor = 'rgba(29, 161, 57, 0.2)'   \n",
    ")\n",
    "\n",
    "\n",
    "\n",
    "fig3.show('svg')"
   ]
  },
  {
   "cell_type": "code",
   "execution_count": 117,
   "metadata": {},
   "outputs": [],
   "source": [
    "# Save plots to chart studio cloud\n",
    "# import chart_studio.plotly as py\n",
    "# table_url = py.iplot(fig1, filename = 'curriculum_table')\n",
    "# hour_mission_url = py.iplot(fig, filename = 'dq_hour_mission_line')\n",
    "# missions_num_url = py.iplot(fig3, filename = 'dq_mission_num_scatter')\n",
    "# learning_curve_url = py.iplot(fig4, filename = 'dq_learning_curve')"
   ]
  },
  {
   "cell_type": "markdown",
   "metadata": {},
   "source": [
    "### Observations from the visualizations:\n",
    "1. Coincidently, for me, my average minutes spent on a mission was 111.43, in other words, about 2 hours. That's why the `Missions Completed` x-axis in the `Hours Spent vs Missions Completed` plot is almost double the range from `Hours Spent` x-axis. This coincidence results in the `Hours Spent`(blue) line and the `Missions Completed`(red) line tracing each other pretty closely in most places, and really makes the unusual spots stand out. When the blue and the red lines are close, it means the missions are taking average time to finish. \n",
    "2. There are a few spots where the `Hours Spent` is higher than `Missions Completed`:\n",
    "    * On the 2nd week, beginning of Step 2 took a little longer than average. It makes sense, I was acclimating to learning on DataQuest, and the missions in Step 2 have more numbers of screens in general.\n",
    "    * On the 12th week, some missions in Step 5 took longer than average. Judging from the weely progress, that's the 4th week out of 6 weeks I was working on this Step. It's probably the courses in the latter half, which are **Probability: Fundamentals** and **Conditional Probabilty**. I do remember this bit being tricky and time consuming to think through carefully. From my experience, probability is always tricky. \n",
    "    * I remember 20th week vividly. :) It was the guided project *Building A Handwritten Digits Classifier* in Step 7, last mission of the first course: Deep Learning Fundamentals. I decided to take a step further and [build a neural network from scratch](https://community.dataquest.io/t/so-i-was-trying-to-build-a-neural-network-model-from-scratch/547209). It took me A LOT of time. Apparently, it shows. \n",
    "3. **Steps 2, 4, 5, 6** are obviously spanning through more weeks than others. Among them, **Step 2 and 6** have the most number of missions, and **Step 2** has 6 -- the most number of -- guided projects. That makes **Step 4 and 5** the more time consuming steps of all. Which reflects my memory pretty well. In Step 4, the time consuming part was SQL, and in step 5, as mentioned before, the courses on probability.\n",
    "4. **Step 4** has less number of missions and guided projects than **Step 5**. From the `Hours Spent vs Missions Completed` plot, we see that **Step 5** spans **2 more weeks** than **Step 4**, but **3 out of 4 weeks** spent on **Step 4** has significantly more than average hour-spent. Only **1 week out of 6 weeks** spent on **Step 5** has noticeably more than average hour-spent. A little math tells us that hours spent in weeks containing **Step 4** is more than hours spent in weeks containing **Step 5**. So it's fair to say, between the two more time consuming steps, **Step 4 is more time consuming than Step 5**.\n",
    "5. My weekly time spent varies a lot more during the latter half of the journey. That's because I had enough skill and confident to take on other personal projects and learn 'excurriculum' stuff. "
   ]
  },
  {
   "cell_type": "markdown",
   "metadata": {},
   "source": [
    "# Conclusions\n",
    "---\n",
    "Apart from answering all the questions at the beginning of this project. I also want to add, to beginners of this course: what I've done in this project is more data collecting, data cleaning and imputation, which you will learn in the first 4 Steps. That means you will be equipped to do all of this half way through the course!\n",
    "<br><br>\n",
    "P.s. if anyone has more questions regarding this project or the DQ data scientist path, feel free to ask me in the comment, or reach me at veratsien@gmail.com. I will try my best to answer what I can. "
   ]
  }
 ],
 "metadata": {
  "kernelspec": {
   "display_name": "Python 3",
   "language": "python",
   "name": "python3"
  },
  "language_info": {
   "codemirror_mode": {
    "name": "ipython",
    "version": 3
   },
   "file_extension": ".py",
   "mimetype": "text/x-python",
   "name": "python",
   "nbconvert_exporter": "python",
   "pygments_lexer": "ipython3",
   "version": "3.7.9"
  }
 },
 "nbformat": 4,
 "nbformat_minor": 4
}
